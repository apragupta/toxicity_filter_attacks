{
 "cells": [
  {
   "cell_type": "code",
   "execution_count": 1,
   "id": "44d3d625",
   "metadata": {
    "ExecuteTime": {
     "end_time": "2021-12-06T06:56:39.630831Z",
     "start_time": "2021-12-06T06:56:35.295835Z"
    }
   },
   "outputs": [
    {
     "name": "stdout",
     "output_type": "stream",
     "text": [
      "1.15.0\n"
     ]
    }
   ],
   "source": [
    "import tensorflow as tf\n",
    "print(tf.__version__)\n",
    "import sys\n",
    "\n",
    "import tensorflow as tf\n",
    "import numpy as np\n",
    "import os\n",
    "import pickle\n",
    "\n",
    "from data_utils.data_helpers import genFeatures, loadVocabEmb\n",
    "from data_utils.tag_data_helpers import genPOSFeatures\n",
    "from data_utils.eval_helpers import plot_roc_auc\n",
    "from experiments import params\n",
    "from model.abuse_classifier import AbuseClassifier\n",
    "os.environ['TF_CPP_MIN_LOG_LEVEL'] = '3'\n",
    "from tensorflow.python.util import deprecation\n",
    "deprecation._PRINT_DEPRECATION_WARNINGS = False\n"
   ]
  },
  {
   "cell_type": "code",
   "execution_count": null,
   "id": "35743958",
   "metadata": {},
   "outputs": [],
   "source": []
  },
  {
   "cell_type": "code",
   "execution_count": 2,
   "id": "a57dc962",
   "metadata": {
    "ExecuteTime": {
     "end_time": "2021-12-06T06:56:39.646834Z",
     "start_time": "2021-12-06T06:56:39.631835Z"
    }
   },
   "outputs": [],
   "source": [
    "#define the model type and attention loss type we are testing\n",
    "\n",
    "MODEL_TYPE = \"model_noatt_checkpoints\"\n",
    "ATTENTION_LOSS_TYPE = \"encoded\"\n",
    "comm_or_sent = \"comm\"\n",
    "\n",
    "#if model type is no attention, attention lambda should be 0\n",
    "if MODEL_TYPE == \"model_noatt_checkpoints\":\n",
    "    attention_lambda = 0.0\n",
    "    ATTENTION_LOSS_TYPE = \"none\"\n",
    "else:\n",
    "    attention_lambda = 0.2"
   ]
  },
  {
   "cell_type": "code",
   "execution_count": 3,
   "id": "7c11ecf7",
   "metadata": {
    "ExecuteTime": {
     "end_time": "2021-12-06T06:56:39.662831Z",
     "start_time": "2021-12-06T06:56:39.648831Z"
    }
   },
   "outputs": [],
   "source": [
    "#these thresholds were found by seeing which threshold yielded the best f1 score in the training data\n",
    "#best threshold for attention model and non attention model came out to be the same\n",
    "BEST_THRESHOLD = 0.3"
   ]
  },
  {
   "cell_type": "code",
   "execution_count": 4,
   "id": "df9b44a3",
   "metadata": {
    "ExecuteTime": {
     "end_time": "2021-12-06T06:56:39.678831Z",
     "start_time": "2021-12-06T06:56:39.664832Z"
    }
   },
   "outputs": [],
   "source": [
    "flags = tf.app.flags\n",
    "\n",
    "\n",
    "# Model Hyperparameters\n",
    "tf.flags.DEFINE_integer(\"embedding_dim\", 300, \"Dimensionality of character embedding (default: 128)\")\n",
    "tf.flags.DEFINE_integer(\"pos_vocab_size\", 26, \"Vocab size of POS tags\")\n",
    "tf.flags.DEFINE_integer(\"pos_embedding_dim\", 25, \"Dimensionality of pos tag embedding (default: 20)\")\n",
    "tf.flags.DEFINE_float(\"dropout_keep_prob\", 1.0, \"Dropout keep probability (default: 0.5)\")\n",
    "tf.flags.DEFINE_float(\"attention_lambda\", attention_lambda, \"Supervised attention lambda (default: 0.05)\")\n",
    "tf.flags.DEFINE_string(\"attention_loss_type\", ATTENTION_LOSS_TYPE, \"loss function of attention\")\n",
    "tf.flags.DEFINE_float(\"l2_reg_lambda\", 0.02, \"L2 regularization lambda (default: 0.05)\")\n",
    "tf.flags.DEFINE_integer(\"hidden_size\", 300, \"Dimensionality of RNN cell (default: 300)\")\n",
    "tf.flags.DEFINE_integer(\"pos_hidden_size\", 25, \"Dimensionality of POS-RNN cell\")\n",
    "tf.flags.DEFINE_integer(\"attention_size\", 20, \"Dimensionality of attention scheme (default: 50)\")\n",
    "tf.flags.DEFINE_boolean(\"use_pos_flag\", True, \"use the sequence of POS tags\")\n",
    "# Training parameters -- evaluate_every should be 100\n",
    "tf.flags.DEFINE_integer(\"batch_size\", 32, \"Batch Size (default: 32)\")\n",
    "tf.flags.DEFINE_integer(\"num_epochs\", 60, \"Number of training epochs (default: 200)\")\n",
    "tf.flags.DEFINE_integer(\"evaluate_every\", 50, \"Evaluate model on dev set after this many steps (default: 100)\")\n",
    "tf.flags.DEFINE_integer(\"checkpoint_every\", 500000, \"Save model after this many steps (default: 100)\")\n",
    "# tf.flags.DEFINE_float(\"train_ratio\", 1.0, \"Ratio of training data\")\n",
    "# Misc Parameters\n",
    "tf.flags.DEFINE_string(\"checkpoint\", '', \"model\")\n",
    "tf.flags.DEFINE_boolean(\"allow_soft_placement\", True, \"Allow device soft device placement\")\n",
    "tf.flags.DEFINE_boolean(\"log_device_placement\", False, \"Log placement of ops on devices\")\n",
    "tf.app.flags.DEFINE_string('f', '', 'kernel')\n",
    "FLAGS = flags.FLAGS"
   ]
  },
  {
   "cell_type": "code",
   "execution_count": 5,
   "id": "1c8ca506",
   "metadata": {
    "ExecuteTime": {
     "end_time": "2021-12-06T06:56:39.710831Z",
     "start_time": "2021-12-06T06:56:39.679834Z"
    }
   },
   "outputs": [],
   "source": [
    "\n",
    "\n",
    "\n",
    "def load_vocab():\n",
    "    vocabulary, pos_vocabulary, init_embed = loadVocabEmb()\n",
    "    return vocabulary, pos_vocabulary, init_embed\n",
    "\n",
    "\n",
    "def load_data(dump_folder_path, data_folder_path, data_type, verbose=True):\n",
    "    assert data_type in [\"train\", \"test\"]\n",
    "    with open(os.path.join(dump_folder_path, \"vocab.pkl\"), \"rb\") as handle:\n",
    "        vocabulary = pickle.load(handle)\n",
    "    with open(os.path.join(dump_folder_path, \"pos_vocab.pkl\"), \"rb\") as handle:\n",
    "        pos_vocabulary = pickle.load(handle)\n",
    "        \n",
    "        \n",
    "        \n",
    "    #loading actual data    \n",
    "    with open(os.path.join(data_folder_path, data_type + f\"_{comm_or_sent}.data\"), \"rb\") as handle:\n",
    "        sentences, labels = pickle.load(handle)\n",
    "    with open(os.path.join(data_folder_path, data_type + f\"_{comm_or_sent}_pos.data\"), \"rb\") as handle:\n",
    "        pos_sentences = pickle.load(handle)\n",
    "    with open(os.path.join(data_folder_path, data_type + \"_attention.data\"), \"rb\") as handle:\n",
    "        attention = pickle.load(handle)\n",
    "    # generate features & labels\n",
    "    x, length, attention = genFeatures(sentences, attention, params.max_sent_len, vocabulary)\n",
    "    pos, pos_length = genPOSFeatures(pos_sentences, params.max_sent_len, pos_vocabulary, False)\n",
    "    y = np.array(labels)\n",
    "    if verbose:\n",
    "        print(\"load {} data, input sent size: {}, input POS size: {}, label size: {}\".format(\n",
    "            data_type, np.array(x).shape, np.array(pos).shape, np.array(y).shape))\n",
    "        \n",
    "        \n",
    "        \n",
    "    x_test, length_test, attention_test, pos_test, pos_length_test, y_test = x, length, attention, pos, pos_length, y\n",
    "    return x_test, length_test, attention_test, pos_test, pos_length_test, y_test\n",
    "\n",
    "\n",
    "def get_predictions(model_path, dump_folder_path, data_folder_path, data_type=\"test\"):\n",
    "    with open(os.path.join(dump_folder_path, \"norm_init_embed.pkl\"), \"rb\") as handle:\n",
    "        init_embed = pickle.load(handle)\n",
    "\n",
    "    \n",
    "    \n",
    "    x_test, length_test, attention_test, pos_test, pos_length_test, y_test = load_data(dump_folder_path, data_folder_path, data_type,  verbose=False)\n",
    "    \n",
    "    len_data = len(x_test)\n",
    "    print(f\"Running model on {len_data} {data_type} samples\")\n",
    "\n",
    "    with tf.Graph().as_default():\n",
    "        session_conf = tf.ConfigProto(\n",
    "            allow_soft_placement=FLAGS.allow_soft_placement,\n",
    "            log_device_placement=FLAGS.log_device_placement\n",
    "        )\n",
    "        sess = tf.Session(config=session_conf)\n",
    "        with sess.as_default():\n",
    "            model = AbuseClassifier(\n",
    "                max_sequence_length=params.max_sent_len,\n",
    "                num_classes=2,\n",
    "                pos_vocab_size=FLAGS.pos_vocab_size,\n",
    "                init_embed=init_embed,\n",
    "                hidden_size=FLAGS.hidden_size,\n",
    "                attention_size=FLAGS.attention_size,\n",
    "                keep_prob=FLAGS.dropout_keep_prob,\n",
    "                attention_lambda=FLAGS.attention_lambda,\n",
    "                attention_loss_type=FLAGS.attention_loss_type,\n",
    "                l2_reg_lambda=0.1,\n",
    "                use_pos_flag=FLAGS.use_pos_flag)\n",
    "\n",
    "            global_step = tf.Variable(0, name=\"global_step\", trainable=False)\n",
    "            saver = tf.train.Saver(tf.all_variables())\n",
    "            # Initialize all variables\n",
    "            sess.run(tf.initialize_all_variables())\n",
    "            saver.restore(sess, model_path)\n",
    "\n",
    "            dev_scores = []\n",
    "            dev_confidences = []\n",
    "            alphas = []\n",
    "            pos = 0\n",
    "            gap = 50\n",
    "            while pos < len(x_test):\n",
    "                x_batch = x_test[pos:pos + gap]\n",
    "                pos_batch = pos_test[pos:pos + gap]\n",
    "                y_batch = y_test[pos:pos + gap]\n",
    "                length_batch = length_test[pos:pos + gap]\n",
    "                pos_length_batch = pos_length_test[pos:pos + gap]\n",
    "                pos += gap\n",
    "                # score sentences\n",
    "                feed_dict = {\n",
    "                    model.input_word: x_batch,\n",
    "                    model.input_pos: pos_batch,\n",
    "                    model.input_y: y_batch,\n",
    "                    model.sequence_length: length_batch,\n",
    "                    model.dropout_keep_prob: 1.0\n",
    "                }\n",
    "                step, scores, alpha = sess.run([global_step, model.prob, model.alphas], feed_dict)\n",
    "                dev_confidences = dev_confidences + list([[s[0],s[1]] for s in scores])\n",
    "                dev_scores = dev_scores + list([s[0] for s in scores])\n",
    "                alphas = alphas + list(alpha)\n",
    "    return dev_confidences, dev_scores, y_test, alphas\n",
    "\n",
    "\n"
   ]
  },
  {
   "cell_type": "code",
   "execution_count": 148,
   "id": "3c70cfa1",
   "metadata": {
    "ExecuteTime": {
     "end_time": "2021-12-06T12:45:50.995484Z",
     "start_time": "2021-12-06T12:44:44.475483Z"
    }
   },
   "outputs": [
    {
     "name": "stdout",
     "output_type": "stream",
     "text": [
      "Running model from model_noatt_checkpoints\n",
      "Testing on data: experiments/data/exp_4/adv/\n",
      "Using vocab/embed from dump_2\n",
      "padded sent: (11540, 100)\n",
      "feature shape: (11540, 100)\n",
      "Running model on 11540 test samples\n",
      "No supervised attention.\n",
      "INFO:tensorflow:Restoring parameters from C:\\Users\\apra\\Desktop\\FALL 2021\\CY 7990\\toxicity_filter_attacks\\model\\model_noatt_checkpoints\\best_model\n",
      "Done\n",
      "----------------------------------------------------------------------------------------------------\n",
      "Ran model from model_noatt_checkpoints, using data from experiments/data/exp_4/adv/\n",
      "Predictions:\n",
      "[[0.17605248, 0.8239475], [0.367915, 0.632085], [0.72552395, 0.27447608], [0.1895721, 0.8104279], [0.17357463, 0.82642543], [0.15778123, 0.8422188], [0.5411559, 0.4588441], [0.71996665, 0.2800333], [0.75829995, 0.24170004], [0.18930493, 0.81069505]]\n",
      "Ground Truth:\n",
      "[0, 1, 1, 0, 0, 0, 0, 1, 1, 0]\n",
      "Classification:\n",
      "[0, 1, 1, 0, 0, 0, 1, 1, 1, 0]\n"
     ]
    }
   ],
   "source": [
    "\n",
    "\n",
    "\n",
    "#path to get testing data from \n",
    "TEST_DATA_PATH = \"experiments/data/exp_4/adv/\"\n",
    "os.environ['TF_CPP_MIN_LOG_LEVEL'] = '3'\n",
    "model_save_folder_name = MODEL_TYPE\n",
    "print(f\"Running model from {model_save_folder_name}\")\n",
    "\n",
    "model_folder_path = 'model'\n",
    "checkpoint_dir = os.path.abspath(os.path.join(model_folder_path, model_save_folder_name))\n",
    "model_path = os.path.join(checkpoint_dir, \"best_model\")\n",
    "\n",
    "dump_folder_path = 'dump_2'\n",
    "print(f\"Testing on data: {TEST_DATA_PATH}\")\n",
    "print(f\"Using vocab/embed from {dump_folder_path}\")\n",
    "\n",
    "scores, predictions, ground_truth, alphas = get_predictions(model_path, dump_folder_path, TEST_DATA_PATH, \"test\")\n",
    "\n",
    "ground_truth = [g[0] for g in ground_truth]\n",
    "\n",
    "print(\"Done\")\n",
    "print(\"-\" * 100)\n",
    "print(f\"Ran model from {model_save_folder_name}, using data from {TEST_DATA_PATH}\")\n",
    "\n",
    "print(\"Predictions:\")\n",
    "print(scores[0:10])\n",
    "\n",
    "print(\"Ground Truth:\")\n",
    "print(ground_truth[0:10])\n",
    "\n",
    "print(\"Classification:\")\n",
    "y_pred = list(map(lambda p: 1 if p > BEST_THRESHOLD else 0, predictions))\n",
    "print(y_pred[0:10])\n"
   ]
  },
  {
   "cell_type": "code",
   "execution_count": 149,
   "id": "b8383da7",
   "metadata": {
    "ExecuteTime": {
     "end_time": "2021-12-06T12:46:33.747365Z",
     "start_time": "2021-12-06T12:46:33.685362Z"
    }
   },
   "outputs": [
    {
     "name": "stdout",
     "output_type": "stream",
     "text": [
      "TEST METRICS: \n",
      "\n",
      "roc_auc: 0.8378348556079827\n",
      "pr_auc: 0.6849461325122604\n",
      "fscore: 0.6354288689314069\n",
      "accuracy: 0.6354288689314069\n"
     ]
    }
   ],
   "source": [
    "from data_utils import eval_helpers\n",
    "from sklearn.metrics import f1_score, accuracy_score\n",
    "print(\"TEST METRICS: \\n\")\n",
    "# roc auc\n",
    "eval_helpers.evalROC(ground_truth, predictions)\n",
    "# pr auc\n",
    "eval_helpers.evalPR(ground_truth, predictions)\n",
    "# f1 score\n",
    "fscore = f1_score(ground_truth, y_pred)\n",
    "print(\"fscore: {}\".format(fscore))\n",
    "\n",
    "accuracy = accuracy_score(ground_truth,y_pred)\n",
    "print(\"accuracy: {}\".format(fscore))"
   ]
  },
  {
   "cell_type": "code",
   "execution_count": 150,
   "id": "999fc18f",
   "metadata": {
    "ExecuteTime": {
     "end_time": "2021-12-06T12:47:14.914359Z",
     "start_time": "2021-12-06T12:47:14.885366Z"
    }
   },
   "outputs": [],
   "source": [
    "import numpy as np\n",
    "import matplotlib\n",
    "import matplotlib.pyplot as plt\n",
    "from IPython.display import display, HTML\n",
    "\n",
    "def colorize(words, color_array):\n",
    "    # words is a list of words\n",
    "    # color_array is an array of numbers between 0 and 1 of length equal to words\n",
    "    cmap = cmap=matplotlib.cm.Reds\n",
    "    template = '<span class=\"barcode\"; style=\"color: black; background-color: {}\">{}</span>'\n",
    "    colored_string = ''\n",
    "    for word, color in zip(words, color_array):\n",
    "        color = matplotlib.colors.rgb2hex(cmap(color)[:3])\n",
    "        colored_string += template.format(color, '&nbsp' + word + '&nbsp')\n",
    "    return colored_string\n",
    "def plot_attention(tokenized_comment, attention_weights, seperate = False):\n",
    "    len_comment = len(tokenized_comment)\n",
    "\n",
    "    if seperate:\n",
    "        print(\"====FORWARD ATTENTION===\")\n",
    "        s = colorize(tokenized_comment, attention_weights[0:50])\n",
    "        display(HTML(s))   \n",
    "        print(\"====BACKWORD ATTENTION===\")\n",
    "        s = colorize(tokenized_comment, attention_weights[50:])\n",
    "        display(HTML(s))    \n",
    "    else:\n",
    "        s = colorize(tokenized_comment, attention_weights[0:50]+attention_weights[50:])\n",
    "        display(HTML(s))\n",
    "   \n"
   ]
  },
  {
   "cell_type": "code",
   "execution_count": 151,
   "id": "92763ed9",
   "metadata": {
    "ExecuteTime": {
     "end_time": "2021-12-06T12:47:55.060358Z",
     "start_time": "2021-12-06T12:47:54.904368Z"
    }
   },
   "outputs": [
    {
     "data": {
      "text/plain": [
       "<sklearn.metrics._plot.confusion_matrix.ConfusionMatrixDisplay at 0x13894630a90>"
      ]
     },
     "execution_count": 151,
     "metadata": {},
     "output_type": "execute_result"
    },
    {
     "data": {
      "image/png": "[encoded data removed]",
      "text/plain": [
       "<Figure size 432x288 with 2 Axes>"
      ]
     },
     "metadata": {
      "needs_background": "light"
     },
     "output_type": "display_data"
    }
   ],
   "source": [
    "#some visualizations\n",
    "\n",
    "from  sklearn.metrics import confusion_matrix,ConfusionMatrixDisplay, RocCurveDisplay\n",
    "cm = confusion_matrix(ground_truth, y_pred)\n",
    "ConfusionMatrixDisplay(cm).plot()"
   ]
  },
  {
   "cell_type": "code",
   "execution_count": 152,
   "id": "0c9c8c09",
   "metadata": {
    "ExecuteTime": {
     "end_time": "2021-12-06T12:48:34.282359Z",
     "start_time": "2021-12-06T12:48:34.158368Z"
    }
   },
   "outputs": [
    {
     "data": {
      "image/png": "[encoded data removed]",
      "text/plain": [
       "<Figure size 432x288 with 1 Axes>"
      ]
     },
     "metadata": {
      "needs_background": "light"
     },
     "output_type": "display_data"
    }
   ],
   "source": [
    "plot_roc_auc(ground_truth,predictions)"
   ]
  },
  {
   "cell_type": "code",
   "execution_count": 153,
   "id": "407fd9e9",
   "metadata": {
    "ExecuteTime": {
     "end_time": "2021-12-06T12:49:13.361358Z",
     "start_time": "2021-12-06T12:49:13.238366Z"
    }
   },
   "outputs": [],
   "source": [
    "#let's vizualize some stuff!\n",
    "\n",
    "#first, I want to print comments and their ground truth and predicted labels\n",
    "\n",
    "with open(os.path.join(TEST_DATA_PATH, \"test_raw_comm.data\"), \"rb\") as handle:\n",
    "    comm_list, label_list = pickle.load(handle)\n",
    "with open(os.path.join(TEST_DATA_PATH, \"test_comm.data\"), \"rb\") as handle:\n",
    "    tok_comm_list, label_list = pickle.load(handle)"
   ]
  },
  {
   "cell_type": "code",
   "execution_count": 156,
   "id": "9933d418",
   "metadata": {
    "ExecuteTime": {
     "end_time": "2021-12-06T12:55:53.021107Z",
     "start_time": "2021-12-06T12:55:52.963123Z"
    },
    "code_folding": [],
    "scrolled": false
   },
   "outputs": [
    {
     "name": "stdout",
     "output_type": "stream",
     "text": [
      "====CORRECT====\n"
     ]
    },
    {
     "data": {
      "text/html": [
       "<span class=\"barcode\"; style=\"color: black; background-color: #fff2eb\">&nbspyoutube&nbsp</span><span class=\"barcode\"; style=\"color: black; background-color: #fff2eb\">&nbspis&nbsp</span><span class=\"barcode\"; style=\"color: black; background-color: #fff1ea\">&nbspnot&nbsp</span><span class=\"barcode\"; style=\"color: black; background-color: #fee1d4\">&nbspa&nbsp</span><span class=\"barcode\"; style=\"color: black; background-color: #fee6da\">&nbspfreaken&nbsp</span><span class=\"barcode\"; style=\"color: black; background-color: #fff2eb\">&nbspcountry&nbsp</span><span class=\"barcode\"; style=\"color: black; background-color: #ffece3\">&nbspdude&nbsp</span><span class=\"barcode\"; style=\"color: black; background-color: #fff2eb\">&nbspits&nbsp</span><span class=\"barcode\"; style=\"color: black; background-color: #fff0e8\">&nbspa&nbsp</span><span class=\"barcode\"; style=\"color: black; background-color: #fff2eb\">&nbspbusiness&nbsp</span><span class=\"barcode\"; style=\"color: black; background-color: #fff2ec\">&nbspthey&nbsp</span><span class=\"barcode\"; style=\"color: black; background-color: #fff3ed\">&nbspcan&nbsp</span><span class=\"barcode\"; style=\"color: black; background-color: #fff3ed\">&nbspdo&nbsp</span><span class=\"barcode\"; style=\"color: black; background-color: #fff2ec\">&nbspwhatever&nbsp</span><span class=\"barcode\"; style=\"color: black; background-color: #fff2ec\">&nbspthey&nbsp</span><span class=\"barcode\"; style=\"color: black; background-color: #fff2ec\">&nbspwant&nbsp</span><span class=\"barcode\"; style=\"color: black; background-color: #fff2ec\">&nbsp,&nbsp</span><span class=\"barcode\"; style=\"color: black; background-color: #fff2ec\">&nbspas&nbsp</span><span class=\"barcode\"; style=\"color: black; background-color: #fff2eb\">&nbsplong&nbsp</span><span class=\"barcode\"; style=\"color: black; background-color: #fff3ed\">&nbspas&nbsp</span><span class=\"barcode\"; style=\"color: black; background-color: #fff2ec\">&nbspshe&nbsp</span><span class=\"barcode\"; style=\"color: black; background-color: #fff3ed\">&nbspis&nbsp</span><span class=\"barcode\"; style=\"color: black; background-color: #fff3ed\">&nbspposting&nbsp</span><span class=\"barcode\"; style=\"color: black; background-color: #fff3ed\">&nbspcontent&nbsp</span><span class=\"barcode\"; style=\"color: black; background-color: #fff3ed\">&nbspon&nbsp</span><span class=\"barcode\"; style=\"color: black; background-color: #fff2ec\">&nbsptheir&nbsp</span><span class=\"barcode\"; style=\"color: black; background-color: #fff2ec\">&nbspwebsite&nbsp</span>"
      ],
      "text/plain": [
       "<IPython.core.display.HTML object>"
      ]
     },
     "metadata": {},
     "output_type": "display_data"
    },
    {
     "name": "stdout",
     "output_type": "stream",
     "text": [
      "(1570)   True: 0 Predicted 0, (Score: 0.239008828997612) \n",
      "\n",
      "====CORRECT====\n"
     ]
    },
    {
     "data": {
      "text/html": [
       "<span class=\"barcode\"; style=\"color: black; background-color: #fff4ee\">&nbspoxford&nbsp</span><span class=\"barcode\"; style=\"color: black; background-color: #fff4ef\">&nbsplatham&nbsp</span><span class=\"barcode\"; style=\"color: black; background-color: #fff4ef\">&nbspagreed&nbsp</span><span class=\"barcode\"; style=\"color: black; background-color: #fff4ef\">&nbspmarry&nbsp</span><span class=\"barcode\"; style=\"color: black; background-color: #fff4ef\">&nbspregarding&nbsp</span><span class=\"barcode\"; style=\"color: black; background-color: #fff4ef\">&nbsptend&nbsp</span><span class=\"barcode\"; style=\"color: black; background-color: #fff3ed\">&nbspcollective&nbsp</span><span class=\"barcode\"; style=\"color: black; background-color: #fff4ee\">&nbspseemed&nbsp</span><span class=\"barcode\"; style=\"color: black; background-color: #fff0e9\">&nbspcredit&nbsp</span><span class=\"barcode\"; style=\"color: black; background-color: #fee7dc\">&nbspglenn&nbsp</span><span class=\"barcode\"; style=\"color: black; background-color: #fee4d8\">&nbspdonovan&nbsp</span><span class=\"barcode\"; style=\"color: black; background-color: #fee8dd\">&nbspfor&nbsp</span><span class=\"barcode\"; style=\"color: black; background-color: #fed9c9\">&nbspfuck&nbsp</span><span class=\"barcode\"; style=\"color: black; background-color: #fff4ee\">&nbspsake&nbsp</span><span class=\"barcode\"; style=\"color: black; background-color: #fff4ee\">&nbsp,&nbsp</span><span class=\"barcode\"; style=\"color: black; background-color: #fff4ee\">&nbspi&nbsp</span><span class=\"barcode\"; style=\"color: black; background-color: #fff4ee\">&nbsp've&nbsp</span><span class=\"barcode\"; style=\"color: black; background-color: #fff4ef\">&nbspexpressed&nbsp</span><span class=\"barcode\"; style=\"color: black; background-color: #fff4ef\">&nbspan&nbsp</span><span class=\"barcode\"; style=\"color: black; background-color: #fff4ef\">&nbspopinion&nbsp</span><span class=\"barcode\"; style=\"color: black; background-color: #fff4ee\">&nbspand&nbsp</span><span class=\"barcode\"; style=\"color: black; background-color: #fff3ed\">&nbspyou&nbsp</span><span class=\"barcode\"; style=\"color: black; background-color: #fff3ed\">&nbspact&nbsp</span><span class=\"barcode\"; style=\"color: black; background-color: #fff2ec\">&nbsplike&nbsp</span><span class=\"barcode\"; style=\"color: black; background-color: #fff4ef\">&nbspi&nbsp</span><span class=\"barcode\"; style=\"color: black; background-color: #fff3ed\">&nbsp've&nbsp</span><span class=\"barcode\"; style=\"color: black; background-color: #fff0e9\">&nbspissued&nbsp</span><span class=\"barcode\"; style=\"color: black; background-color: #fff0e8\">&nbspa&nbsp</span><span class=\"barcode\"; style=\"color: black; background-color: #feeae1\">&nbspcommand&nbsp</span><span class=\"barcode\"; style=\"color: black; background-color: #feeae1\">&nbspactivism&nbsp</span><span class=\"barcode\"; style=\"color: black; background-color: #fff2ec\">&nbsponline&nbsp</span><span class=\"barcode\"; style=\"color: black; background-color: #fff4ee\">&nbspknowledge&nbsp</span><span class=\"barcode\"; style=\"color: black; background-color: #fff4ef\">&nbspsubscribers&nbsp</span><span class=\"barcode\"; style=\"color: black; background-color: #fff4ef\">&nbspbeginning&nbsp</span><span class=\"barcode\"; style=\"color: black; background-color: #fff4ee\">&nbsppissed&nbsp</span><span class=\"barcode\"; style=\"color: black; background-color: #fff4ee\">&nbsprelevant&nbsp</span><span class=\"barcode\"; style=\"color: black; background-color: #fff4ef\">&nbspshall&nbsp</span><span class=\"barcode\"; style=\"color: black; background-color: #fff4ee\">&nbspstream&nbsp</span><span class=\"barcode\"; style=\"color: black; background-color: #fff3ed\">&nbspif&nbsp</span><span class=\"barcode\"; style=\"color: black; background-color: #fff4ee\">&nbspyou&nbsp</span><span class=\"barcode\"; style=\"color: black; background-color: #fff4ee\">&nbspare&nbsp</span><span class=\"barcode\"; style=\"color: black; background-color: #fff4ee\">&nbsptrying&nbsp</span><span class=\"barcode\"; style=\"color: black; background-color: #fff4ef\">&nbspto&nbsp</span><span class=\"barcode\"; style=\"color: black; background-color: #fff4ef\">&nbspkeep&nbsp</span><span class=\"barcode\"; style=\"color: black; background-color: #fff4ef\">&nbspme&nbsp</span><span class=\"barcode\"; style=\"color: black; background-color: #fff4ef\">&nbspfrom&nbsp</span><span class=\"barcode\"; style=\"color: black; background-color: #fff4ef\">&nbspexpressing&nbsp</span><span class=\"barcode\"; style=\"color: black; background-color: #fff4ef\">&nbspmy&nbsp</span><span class=\"barcode\"; style=\"color: black; background-color: #fff4ef\">&nbspopinion&nbsp</span><span class=\"barcode\"; style=\"color: black; background-color: #fff4ee\">&nbspbecause&nbsp</span>"
      ],
      "text/plain": [
       "<IPython.core.display.HTML object>"
      ]
     },
     "metadata": {},
     "output_type": "display_data"
    },
    {
     "name": "stdout",
     "output_type": "stream",
     "text": [
      "(5245)   True: 1 Predicted 1, (Score: 0.516926646232605) \n",
      "\n",
      "====CORRECT====\n"
     ]
    },
    {
     "data": {
      "text/html": [
       "<span class=\"barcode\"; style=\"color: black; background-color: #fff2ec\">&nbspit&nbsp</span><span class=\"barcode\"; style=\"color: black; background-color: #fff2eb\">&nbsp's&nbsp</span><span class=\"barcode\"; style=\"color: black; background-color: #fff2eb\">&nbspequality&nbsp</span><span class=\"barcode\"; style=\"color: black; background-color: #fff0e8\">&nbspwhere&nbsp</span><span class=\"barcode\"; style=\"color: black; background-color: #feeae1\">&nbspwomen&nbsp</span><span class=\"barcode\"; style=\"color: black; background-color: #fee3d7\">&nbspget&nbsp</span><span class=\"barcode\"; style=\"color: black; background-color: #fff2eb\">&nbspmore&nbsp</span><span class=\"barcode\"; style=\"color: black; background-color: #fff1ea\">&nbsp!&nbsp</span>"
      ],
      "text/plain": [
       "<IPython.core.display.HTML object>"
      ]
     },
     "metadata": {},
     "output_type": "display_data"
    },
    {
     "name": "stdout",
     "output_type": "stream",
     "text": [
      "(10504)   True: 0 Predicted 0, (Score: 0.18325333297252655) \n",
      "\n",
      "====CORRECT====\n"
     ]
    },
    {
     "data": {
      "text/html": [
       "<span class=\"barcode\"; style=\"color: black; background-color: #fff4ee\">&nbspmy&nbsp</span><span class=\"barcode\"; style=\"color: black; background-color: #fff4ee\">&nbsppoint&nbsp</span><span class=\"barcode\"; style=\"color: black; background-color: #fff2eb\">&nbspthat&nbsp</span><span class=\"barcode\"; style=\"color: black; background-color: #fee3d6\">&nbsphe&nbsp</span><span class=\"barcode\"; style=\"color: black; background-color: #fedaca\">&nbsp's&nbsp</span><span class=\"barcode\"; style=\"color: black; background-color: #fdd2bf\">&nbspa&nbsp</span><span class=\"barcode\"; style=\"color: black; background-color: #fee4d8\">&nbspscumbag&nbsp</span>"
      ],
      "text/plain": [
       "<IPython.core.display.HTML object>"
      ]
     },
     "metadata": {},
     "output_type": "display_data"
    },
    {
     "name": "stdout",
     "output_type": "stream",
     "text": [
      "(9713)   True: 0 Predicted 0, (Score: 0.2752135694026947) \n",
      "\n",
      "====INCORRECT====\n"
     ]
    },
    {
     "data": {
      "text/html": [
       "<span class=\"barcode\"; style=\"color: black; background-color: #fdc5ae\">&nbsp$mention$&nbsp</span><span class=\"barcode\"; style=\"color: black; background-color: #fcab8f\">&nbspfuck&nbsp</span><span class=\"barcode\"; style=\"color: black; background-color: #fff2eb\">&nbspyeah&nbsp</span><span class=\"barcode\"; style=\"color: black; background-color: #fff0e9\">&nbspfeminism&nbsp</span><span class=\"barcode\"; style=\"color: black; background-color: #fff2ec\">&nbsp!&nbsp</span>"
      ],
      "text/plain": [
       "<IPython.core.display.HTML object>"
      ]
     },
     "metadata": {},
     "output_type": "display_data"
    },
    {
     "name": "stdout",
     "output_type": "stream",
     "text": [
      "(8620)   True: 0 Predicted 1, (Score: 0.31177154183387756) \n",
      "\n",
      "====CORRECT====\n"
     ]
    },
    {
     "data": {
      "text/html": [
       "<span class=\"barcode\"; style=\"color: black; background-color: #fff2ec\">&nbspbelief&nbsp</span><span class=\"barcode\"; style=\"color: black; background-color: #fff2ec\">&nbsppissed&nbsp</span><span class=\"barcode\"; style=\"color: black; background-color: #fff3ed\">&nbspjanice&nbsp</span><span class=\"barcode\"; style=\"color: black; background-color: #fff4ee\">&nbsplatham&nbsp</span><span class=\"barcode\"; style=\"color: black; background-color: #fff4ee\">&nbspsource&nbsp</span><span class=\"barcode\"; style=\"color: black; background-color: #fff3ed\">&nbspreference&nbsp</span><span class=\"barcode\"; style=\"color: black; background-color: #fff0e8\">&nbspabram&nbsp</span><span class=\"barcode\"; style=\"color: black; background-color: #ffeee6\">&nbspbrett&nbsp</span><span class=\"barcode\"; style=\"color: black; background-color: #fff2eb\">&nbspkeane&nbsp</span><span class=\"barcode\"; style=\"color: black; background-color: #fff3ed\">&nbsp\\(&nbsp</span><span class=\"barcode\"; style=\"color: black; background-color: #fff3ed\">&nbspthe&nbsp</span><span class=\"barcode\"; style=\"color: black; background-color: #fff2ec\">&nbspbiggest&nbsp</span><span class=\"barcode\"; style=\"color: black; background-color: #fff1ea\">&nbsppiece&nbsp</span><span class=\"barcode\"; style=\"color: black; background-color: #fff3ed\">&nbspof&nbsp</span><span class=\"barcode\"; style=\"color: black; background-color: #ffeee7\">&nbspshit&nbsp</span><span class=\"barcode\"; style=\"color: black; background-color: #fff4ee\">&nbspon&nbsp</span><span class=\"barcode\"; style=\"color: black; background-color: #fff4ee\">&nbspyoutube&nbsp</span><span class=\"barcode\"; style=\"color: black; background-color: #fff4ee\">&nbsp\\)&nbsp</span><span class=\"barcode\"; style=\"color: black; background-color: #fff4ee\">&nbspis&nbsp</span><span class=\"barcode\"; style=\"color: black; background-color: #fff4ee\">&nbspalso&nbsp</span><span class=\"barcode\"; style=\"color: black; background-color: #fff0e9\">&nbspa&nbsp</span><span class=\"barcode\"; style=\"color: black; background-color: #fff2ec\">&nbspmanatee&nbsp</span><span class=\"barcode\"; style=\"color: black; background-color: #fff4ee\">&nbspposting&nbsp</span><span class=\"barcode\"; style=\"color: black; background-color: #fff4ee\">&nbsprelevant&nbsp</span><span class=\"barcode\"; style=\"color: black; background-color: #fff4ee\">&nbsptopics&nbsp</span><span class=\"barcode\"; style=\"color: black; background-color: #fff4ee\">&nbspsources&nbsp</span><span class=\"barcode\"; style=\"color: black; background-color: #fff3ed\">&nbspstudy&nbsp</span><span class=\"barcode\"; style=\"color: black; background-color: #fff3ed\">&nbspthee&nbsp</span><span class=\"barcode\"; style=\"color: black; background-color: #fff4ee\">&nbspbeginning&nbsp</span><span class=\"barcode\"; style=\"color: black; background-color: #fff2ec\">&nbsphim&nbsp</span><span class=\"barcode\"; style=\"color: black; background-color: #fff3ed\">&nbspand&nbsp</span><span class=\"barcode\"; style=\"color: black; background-color: #fff2ec\">&nbsptriggly&nbsp</span><span class=\"barcode\"; style=\"color: black; background-color: #fff3ed\">&nbspdeserve&nbsp</span><span class=\"barcode\"; style=\"color: black; background-color: #fff4ee\">&nbspeach&nbsp</span><span class=\"barcode\"; style=\"color: black; background-color: #fff3ed\">&nbspother&nbsp</span><span class=\"barcode\"; style=\"color: black; background-color: #fff2eb\">&nbspand&nbsp</span><span class=\"barcode\"; style=\"color: black; background-color: #ffede5\">&nbspa&nbsp</span><span class=\"barcode\"; style=\"color: black; background-color: #ffefe8\">&nbspnice&nbsp</span><span class=\"barcode\"; style=\"color: black; background-color: #fee5d9\">&nbspquiet&nbsp</span><span class=\"barcode\"; style=\"color: black; background-color: #feeae1\">&nbspshallow&nbsp</span><span class=\"barcode\"; style=\"color: black; background-color: #fff2eb\">&nbspharbor&nbsp</span><span class=\"barcode\"; style=\"color: black; background-color: #fff3ed\">&nbspso&nbsp</span><span class=\"barcode\"; style=\"color: black; background-color: #fff3ed\">&nbspthey&nbsp</span><span class=\"barcode\"; style=\"color: black; background-color: #fff4ee\">&nbspcan&nbsp</span><span class=\"barcode\"; style=\"color: black; background-color: #fff3ed\">&nbspgraze&nbsp</span><span class=\"barcode\"; style=\"color: black; background-color: #fff4ee\">&nbsptogether&nbsp</span><span class=\"barcode\"; style=\"color: black; background-color: #fff3ed\">&nbspin&nbsp</span><span class=\"barcode\"; style=\"color: black; background-color: #fff1ea\">&nbspa&nbsp</span><span class=\"barcode\"; style=\"color: black; background-color: #fff2ec\">&nbspsafe&nbsp</span><span class=\"barcode\"; style=\"color: black; background-color: #fff2eb\">&nbspspace&nbsp</span>"
      ],
      "text/plain": [
       "<IPython.core.display.HTML object>"
      ]
     },
     "metadata": {},
     "output_type": "display_data"
    },
    {
     "name": "stdout",
     "output_type": "stream",
     "text": [
      "(3442)   True: 1 Predicted 1, (Score: 0.33428695797920227) \n",
      "\n",
      "====CORRECT====\n"
     ]
    },
    {
     "data": {
      "text/html": [
       "<span class=\"barcode\"; style=\"color: black; background-color: #fff4ef\">&nbspspecific&nbsp</span><span class=\"barcode\"; style=\"color: black; background-color: #fff4ef\">&nbspmarry&nbsp</span><span class=\"barcode\"; style=\"color: black; background-color: #fff4ef\">&nbspde&nbsp</span><span class=\"barcode\"; style=\"color: black; background-color: #fff4ef\">&nbspaccount&nbsp</span><span class=\"barcode\"; style=\"color: black; background-color: #fff4ef\">&nbspapproval&nbsp</span><span class=\"barcode\"; style=\"color: black; background-color: #fff4ef\">&nbspwise&nbsp</span><span class=\"barcode\"; style=\"color: black; background-color: #fff4ef\">&nbspbrilliant&nbsp</span><span class=\"barcode\"; style=\"color: black; background-color: #fff4ee\">&nbsp$mention$&nbsp</span><span class=\"barcode\"; style=\"color: black; background-color: #fff3ed\">&nbspboy&nbsp</span><span class=\"barcode\"; style=\"color: black; background-color: #fff4ee\">&nbsp,&nbsp</span><span class=\"barcode\"; style=\"color: black; background-color: #fff2ec\">&nbspyou&nbsp</span><span class=\"barcode\"; style=\"color: black; background-color: #fff3ed\">&nbspand&nbsp</span><span class=\"barcode\"; style=\"color: black; background-color: #ffefe8\">&nbspjeremy&nbsp</span><span class=\"barcode\"; style=\"color: black; background-color: #fee6da\">&nbsplock&nbsp</span><span class=\"barcode\"; style=\"color: black; background-color: #fedecf\">&nbsphave&nbsp</span><span class=\"barcode\"; style=\"color: black; background-color: #fdd3c1\">&nbspreally&nbsp</span><span class=\"barcode\"; style=\"color: black; background-color: #fdd2bf\">&nbspshitty&nbsp</span><span class=\"barcode\"; style=\"color: black; background-color: #fff2ec\">&nbspreading&nbsp</span><span class=\"barcode\"; style=\"color: black; background-color: #fff3ed\">&nbspcomprehension&nbsp</span><span class=\"barcode\"; style=\"color: black; background-color: #fff4ef\">&nbspdo&nbsp</span><span class=\"barcode\"; style=\"color: black; background-color: #fff4ee\">&nbspn't&nbsp</span><span class=\"barcode\"; style=\"color: black; background-color: #fff4ee\">&nbspyou&nbsp</span><span class=\"barcode\"; style=\"color: black; background-color: #fff4ef\">&nbsp\\?&nbsp</span><span class=\"barcode\"; style=\"color: black; background-color: #fff4ef\">&nbspbias&nbsp</span><span class=\"barcode\"; style=\"color: black; background-color: #fff4ef\">&nbspthreat&nbsp</span><span class=\"barcode\"; style=\"color: black; background-color: #fff4ef\">&nbspappeal&nbsp</span><span class=\"barcode\"; style=\"color: black; background-color: #fff4ef\">&nbspfield&nbsp</span><span class=\"barcode\"; style=\"color: black; background-color: #fff4ef\">&nbsplatham&nbsp</span><span class=\"barcode\"; style=\"color: black; background-color: #fff4ef\">&nbsplabor&nbsp</span><span class=\"barcode\"; style=\"color: black; background-color: #fff4ef\">&nbspspecific&nbsp</span><span class=\"barcode\"; style=\"color: black; background-color: #fff4ef\">&nbspexactly&nbsp</span><span class=\"barcode\"; style=\"color: black; background-color: #fff4ef\">&nbspwhere&nbsp</span><span class=\"barcode\"; style=\"color: black; background-color: #fff4ef\">&nbspin&nbsp</span><span class=\"barcode\"; style=\"color: black; background-color: #fff4ef\">&nbspwhat&nbsp</span><span class=\"barcode\"; style=\"color: black; background-color: #fff4ee\">&nbspso&nbsp</span><span class=\"barcode\"; style=\"color: black; background-color: #fff3ed\">&nbspanti&nbsp</span><span class=\"barcode\"; style=\"color: black; background-color: #fff0e8\">&nbspfeminist&nbsp</span><span class=\"barcode\"; style=\"color: black; background-color: #fff4ef\">&nbspmeans&nbsp</span><span class=\"barcode\"; style=\"color: black; background-color: #fff4ef\">&nbspanti&nbsp</span><span class=\"barcode\"; style=\"color: black; background-color: #fff4ef\">&nbspwoman&nbsp</span><span class=\"barcode\"; style=\"color: black; background-color: #fff4ef\">&nbspnow&nbsp</span><span class=\"barcode\"; style=\"color: black; background-color: #fff4ef\">&nbsp\\?&nbsp</span><span class=\"barcode\"; style=\"color: black; background-color: #fff4ef\">&nbspand&nbsp</span><span class=\"barcode\"; style=\"color: black; background-color: #fff4ef\">&nbspanti&nbsp</span><span class=\"barcode\"; style=\"color: black; background-color: #fff4ee\">&nbspblack&nbsp</span><span class=\"barcode\"; style=\"color: black; background-color: #fff4ef\">&nbsplives&nbsp</span><span class=\"barcode\"; style=\"color: black; background-color: #fff4ef\">&nbspmatter&nbsp</span><span class=\"barcode\"; style=\"color: black; background-color: #fff4ef\">&nbspmeans&nbsp</span><span class=\"barcode\"; style=\"color: black; background-color: #fff4ef\">&nbspanti&nbsp</span><span class=\"barcode\"; style=\"color: black; background-color: #fff4ef\">&nbspblack&nbsp</span>"
      ],
      "text/plain": [
       "<IPython.core.display.HTML object>"
      ]
     },
     "metadata": {},
     "output_type": "display_data"
    },
    {
     "name": "stdout",
     "output_type": "stream",
     "text": [
      "(2586)   True: 1 Predicted 1, (Score: 0.5278081297874451) \n",
      "\n",
      "====CORRECT====\n"
     ]
    },
    {
     "data": {
      "text/html": [
       "<span class=\"barcode\"; style=\"color: black; background-color: #fff3ed\">&nbspexcept&nbsp</span><span class=\"barcode\"; style=\"color: black; background-color: #fff3ed\">&nbspfor&nbsp</span><span class=\"barcode\"; style=\"color: black; background-color: #fff3ed\">&nbspone&nbsp</span><span class=\"barcode\"; style=\"color: black; background-color: #fff3ed\">&nbspthing&nbsp</span><span class=\"barcode\"; style=\"color: black; background-color: #fff3ed\">&nbsp,&nbsp</span><span class=\"barcode\"; style=\"color: black; background-color: #fff3ed\">&nbspthis&nbsp</span><span class=\"barcode\"; style=\"color: black; background-color: #fff3ed\">&nbspfeminism&nbsp</span><span class=\"barcode\"; style=\"color: black; background-color: #fff4ee\">&nbspdid&nbsp</span><span class=\"barcode\"; style=\"color: black; background-color: #fff4ee\">&nbspn't&nbsp</span><span class=\"barcode\"; style=\"color: black; background-color: #fff4ee\">&nbspdo&nbsp</span><span class=\"barcode\"; style=\"color: black; background-color: #fff4ee\">&nbspany&nbsp</span><span class=\"barcode\"; style=\"color: black; background-color: #fff4ee\">&nbspof&nbsp</span><span class=\"barcode\"; style=\"color: black; background-color: #fff4ee\">&nbspthat&nbsp</span><span class=\"barcode\"; style=\"color: black; background-color: #fff4ee\">&nbspforgotten&nbsp</span><span class=\"barcode\"; style=\"color: black; background-color: #fff4ee\">&nbspposted&nbsp</span><span class=\"barcode\"; style=\"color: black; background-color: #fff4ee\">&nbspvalidation&nbsp</span><span class=\"barcode\"; style=\"color: black; background-color: #fff4ee\">&nbspactivism&nbsp</span><span class=\"barcode\"; style=\"color: black; background-color: #fff4ee\">&nbspstudent&nbsp</span><span class=\"barcode\"; style=\"color: black; background-color: #fff4ee\">&nbspoxford&nbsp</span><span class=\"barcode\"; style=\"color: black; background-color: #fff4ee\">&nbspsubscribers&nbsp</span><span class=\"barcode\"; style=\"color: black; background-color: #fff4ee\">&nbspcourt&nbsp</span><span class=\"barcode\"; style=\"color: black; background-color: #fff4ee\">&nbsplatham&nbsp</span><span class=\"barcode\"; style=\"color: black; background-color: #fff4ee\">&nbspposting&nbsp</span><span class=\"barcode\"; style=\"color: black; background-color: #fff4ee\">&nbspso&nbsp</span><span class=\"barcode\"; style=\"color: black; background-color: #fff4ee\">&nbsphow&nbsp</span><span class=\"barcode\"; style=\"color: black; background-color: #fff3ed\">&nbspabout&nbsp</span><span class=\"barcode\"; style=\"color: black; background-color: #fff2ec\">&nbsptake&nbsp</span><span class=\"barcode\"; style=\"color: black; background-color: #fff0e8\">&nbspoff&nbsp</span><span class=\"barcode\"; style=\"color: black; background-color: #fff0e9\">&nbspthe&nbsp</span><span class=\"barcode\"; style=\"color: black; background-color: #fee2d5\">&nbspnostalgia&nbsp</span><span class=\"barcode\"; style=\"color: black; background-color: #fee9df\">&nbspglasses&nbsp</span><span class=\"barcode\"; style=\"color: black; background-color: #ffede5\">&nbspand&nbsp</span><span class=\"barcode\"; style=\"color: black; background-color: #fedfd0\">&nbspquit&nbsp</span><span class=\"barcode\"; style=\"color: black; background-color: #ffebe2\">&nbspfooling&nbsp</span><span class=\"barcode\"; style=\"color: black; background-color: #fff3ed\">&nbspyourself&nbsp</span><span class=\"barcode\"; style=\"color: black; background-color: #fff3ed\">&nbspthat&nbsp</span><span class=\"barcode\"; style=\"color: black; background-color: #fff3ed\">&nbspfeminism&nbsp</span><span class=\"barcode\"; style=\"color: black; background-color: #fff3ed\">&nbspis&nbsp</span><span class=\"barcode\"; style=\"color: black; background-color: #fff3ed\">&nbspstill&nbsp</span><span class=\"barcode\"; style=\"color: black; background-color: #fff3ed\">&nbspa&nbsp</span><span class=\"barcode\"; style=\"color: black; background-color: #fff4ee\">&nbspgood&nbsp</span><span class=\"barcode\"; style=\"color: black; background-color: #fff4ee\">&nbspthing&nbsp</span><span class=\"barcode\"; style=\"color: black; background-color: #fff4ee\">&nbspagreed&nbsp</span><span class=\"barcode\"; style=\"color: black; background-color: #fff4ee\">&nbsplatham&nbsp</span><span class=\"barcode\"; style=\"color: black; background-color: #fff4ee\">&nbspspecific&nbsp</span><span class=\"barcode\"; style=\"color: black; background-color: #fff3ed\">&nbspjanice&nbsp</span><span class=\"barcode\"; style=\"color: black; background-color: #fff4ee\">&nbspaccused&nbsp</span><span class=\"barcode\"; style=\"color: black; background-color: #fff4ee\">&nbspfield&nbsp</span><span class=\"barcode\"; style=\"color: black; background-color: #fff4ee\">&nbspstance&nbsp</span><span class=\"barcode\"; style=\"color: black; background-color: #fff3ed\">&nbspentirely&nbsp</span>"
      ],
      "text/plain": [
       "<IPython.core.display.HTML object>"
      ]
     },
     "metadata": {},
     "output_type": "display_data"
    },
    {
     "name": "stdout",
     "output_type": "stream",
     "text": [
      "(1804)   True: 1 Predicted 1, (Score: 0.3309004008769989) \n",
      "\n",
      "====CORRECT====\n"
     ]
    },
    {
     "data": {
      "text/html": [
       "<span class=\"barcode\"; style=\"color: black; background-color: #fff0e9\">&nbsp$mention$&nbsp</span><span class=\"barcode\"; style=\"color: black; background-color: #ffebe2\">&nbspyou&nbsp</span><span class=\"barcode\"; style=\"color: black; background-color: #ffeee6\">&nbsp're&nbsp</span><span class=\"barcode\"; style=\"color: black; background-color: #fff0e8\">&nbspso&nbsp</span><span class=\"barcode\"; style=\"color: black; background-color: #fff1ea\">&nbspproblematic&nbsp</span><span class=\"barcode\"; style=\"color: black; background-color: #fff1ea\">&nbsp$smiley$&nbsp</span>"
      ],
      "text/plain": [
       "<IPython.core.display.HTML object>"
      ]
     },
     "metadata": {},
     "output_type": "display_data"
    },
    {
     "name": "stdout",
     "output_type": "stream",
     "text": [
      "(9734)   True: 0 Predicted 0, (Score: 0.16880623996257782) \n",
      "\n",
      "====INCORRECT====\n"
     ]
    },
    {
     "data": {
      "text/html": [
       "<span class=\"barcode\"; style=\"color: black; background-color: #fff1ea\">&nbspthere&nbsp</span><span class=\"barcode\"; style=\"color: black; background-color: #fff2eb\">&nbspis&nbsp</span><span class=\"barcode\"; style=\"color: black; background-color: #fff2ec\">&nbspmastering&nbsp</span><span class=\"barcode\"; style=\"color: black; background-color: #fff2ec\">&nbspsomething&nbsp</span><span class=\"barcode\"; style=\"color: black; background-color: #fff3ed\">&nbspdoesnt&nbsp</span><span class=\"barcode\"; style=\"color: black; background-color: #fff3ed\">&nbspnecessarily&nbsp</span><span class=\"barcode\"; style=\"color: black; background-color: #fff2ec\">&nbspmean&nbsp</span><span class=\"barcode\"; style=\"color: black; background-color: #fff2ec\">&nbspthat&nbsp</span><span class=\"barcode\"; style=\"color: black; background-color: #fff2eb\">&nbspyoure&nbsp</span><span class=\"barcode\"; style=\"color: black; background-color: #fff2ec\">&nbspabsolutely&nbsp</span><span class=\"barcode\"; style=\"color: black; background-color: #fff2ec\">&nbspperfect&nbsp</span><span class=\"barcode\"; style=\"color: black; background-color: #fff2ec\">&nbspat&nbsp</span><span class=\"barcode\"; style=\"color: black; background-color: #fff2ec\">&nbspit&nbsp</span><span class=\"barcode\"; style=\"color: black; background-color: #fff2ec\">&nbsp,&nbsp</span><span class=\"barcode\"; style=\"color: black; background-color: #fff2ec\">&nbspbecause&nbsp</span><span class=\"barcode\"; style=\"color: black; background-color: #fff2ec\">&nbspits&nbsp</span><span class=\"barcode\"; style=\"color: black; background-color: #fff2eb\">&nbspseldom&nbsp</span><span class=\"barcode\"; style=\"color: black; background-color: #fff2ec\">&nbspthat&nbsp</span><span class=\"barcode\"; style=\"color: black; background-color: #fff2eb\">&nbspsomebodys&nbsp</span><span class=\"barcode\"; style=\"color: black; background-color: #fff2ec\">&nbspknowledge&nbsp</span><span class=\"barcode\"; style=\"color: black; background-color: #fff2ec\">&nbspand&nbsp</span><span class=\"barcode\"; style=\"color: black; background-color: #fff2ec\">&nbspexperience&nbsp</span><span class=\"barcode\"; style=\"color: black; background-color: #fff2ec\">&nbspin&nbsp</span><span class=\"barcode\"; style=\"color: black; background-color: #fff2ec\">&nbspsomething&nbsp</span><span class=\"barcode\"; style=\"color: black; background-color: #fff2ec\">&nbspis&nbsp</span><span class=\"barcode\"; style=\"color: black; background-color: #fff2ec\">&nbspcompletely&nbsp</span><span class=\"barcode\"; style=\"color: black; background-color: #fff2ec\">&nbspflawless&nbsp</span><span class=\"barcode\"; style=\"color: black; background-color: #fff3ed\">&nbspbut&nbsp</span><span class=\"barcode\"; style=\"color: black; background-color: #fff3ed\">&nbspi&nbsp</span><span class=\"barcode\"; style=\"color: black; background-color: #fff2ec\">&nbspcould&nbsp</span><span class=\"barcode\"; style=\"color: black; background-color: #fff2ec\">&nbsphave&nbsp</span><span class=\"barcode\"; style=\"color: black; background-color: #fff2ec\">&nbspchosen&nbsp</span><span class=\"barcode\"; style=\"color: black; background-color: #fff2ec\">&nbspanother&nbsp</span><span class=\"barcode\"; style=\"color: black; background-color: #fff2ec\">&nbspword&nbsp</span><span class=\"barcode\"; style=\"color: black; background-color: #fff2ec\">&nbspor&nbsp</span><span class=\"barcode\"; style=\"color: black; background-color: #fff2ec\">&nbspexpression&nbsp</span><span class=\"barcode\"; style=\"color: black; background-color: #fff2ec\">&nbspinstead&nbsp</span><span class=\"barcode\"; style=\"color: black; background-color: #fff1ea\">&nbspof&nbsp</span><span class=\"barcode\"; style=\"color: black; background-color: #ffeee7\">&nbspmastering`&nbsp</span><span class=\"barcode\"; style=\"color: black; background-color: #fff0e9\">&nbsp,&nbsp</span><span class=\"barcode\"; style=\"color: black; background-color: #ffefe8\">&nbspbecause&nbsp</span><span class=\"barcode\"; style=\"color: black; background-color: #ffefe8\">&nbspthat&nbsp</span><span class=\"barcode\"; style=\"color: black; background-color: #fff2eb\">&nbspwasnt&nbsp</span><span class=\"barcode\"; style=\"color: black; background-color: #fff2eb\">&nbspthe&nbsp</span><span class=\"barcode\"; style=\"color: black; background-color: #fff2ec\">&nbspmain&nbsp</span><span class=\"barcode\"; style=\"color: black; background-color: #fff2ec\">&nbspfocus&nbsp</span><span class=\"barcode\"; style=\"color: black; background-color: #fff2ec\">&nbspof&nbsp</span><span class=\"barcode\"; style=\"color: black; background-color: #fff2ec\">&nbspmy&nbsp</span><span class=\"barcode\"; style=\"color: black; background-color: #fff2eb\">&nbspargument&nbsp</span><span class=\"barcode\"; style=\"color: black; background-color: #ffeee6\">&nbspim&nbsp</span>"
      ],
      "text/plain": [
       "<IPython.core.display.HTML object>"
      ]
     },
     "metadata": {},
     "output_type": "display_data"
    },
    {
     "name": "stdout",
     "output_type": "stream",
     "text": [
      "(7793)   True: 0 Predicted 1, (Score: 0.3690403699874878) \n",
      "\n"
     ]
    }
   ],
   "source": [
    "import random\n",
    "good_viz = [1239,833,606,610]\n",
    "for i in random.sample(range(0, len(y_pred)), 10):\n",
    "#for i in good_viz:\n",
    "    correct_pred = (label_list[i][0] == y_pred[i])\n",
    "    if correct_pred:\n",
    "        print(\"====CORRECT====\")\n",
    "    else:\n",
    "        print(\"====INCORRECT====\")\n",
    "        \n",
    "    plot_attention(tok_comm_list[i], alphas[i])\n",
    "    print(f\"({i})   True: {label_list[i][0]} Predicted {y_pred[i]}, (Score: {predictions[i]})\", \"\\n\")"
   ]
  },
  {
   "cell_type": "code",
   "execution_count": null,
   "id": "74029796",
   "metadata": {},
   "outputs": [],
   "source": []
  },
  {
   "cell_type": "code",
   "execution_count": null,
   "id": "e781f624",
   "metadata": {},
   "outputs": [],
   "source": []
  },
  {
   "cell_type": "code",
   "execution_count": null,
   "id": "27a17789",
   "metadata": {},
   "outputs": [],
   "source": []
  },
  {
   "cell_type": "code",
   "execution_count": null,
   "id": "73ef2ddd",
   "metadata": {},
   "outputs": [],
   "source": []
  },
  {
   "cell_type": "code",
   "execution_count": null,
   "id": "e8eb4035",
   "metadata": {},
   "outputs": [],
   "source": []
  },
  {
   "cell_type": "code",
   "execution_count": null,
   "id": "b5833dba",
   "metadata": {},
   "outputs": [],
   "source": []
  },
  {
   "cell_type": "code",
   "execution_count": 6,
   "id": "917f068c",
   "metadata": {
    "ExecuteTime": {
     "end_time": "2021-12-06T00:48:11.926616Z",
     "start_time": "2021-12-06T00:48:11.917615Z"
    },
    "deletable": false,
    "editable": false,
    "run_control": {
     "frozen": true
    }
   },
   "outputs": [],
   "source": [
    "#tune threshold using train\n",
    "def tuneThreshold(gold_scores, pred_scores):\n",
    "    from  sklearn.metrics import f1_score\n",
    "    best_t = 0.0\n",
    "    best_fscore = 0.0\n",
    "    for t in np.arange(0, 1.1, 0.1):\n",
    "        pred_labels = [int(s > t) for s in pred_scores]\n",
    "        fscore = f1_score(gold_scores, pred_labels)\n",
    "        if (best_fscore < fscore):\n",
    "            best_fscore = fscore\n",
    "            best_t = t\n",
    "    return best_t, best_fscore"
   ]
  },
  {
   "cell_type": "code",
   "execution_count": 7,
   "id": "95c57b17",
   "metadata": {
    "ExecuteTime": {
     "end_time": "2021-12-06T00:49:18.470300Z",
     "start_time": "2021-12-06T00:48:22.670298Z"
    },
    "collapsed": true,
    "deletable": false,
    "editable": false,
    "run_control": {
     "frozen": true
    }
   },
   "outputs": [
    {
     "name": "stdout",
     "output_type": "stream",
     "text": [
      "Running model from model_noatt_checkpoints\n",
      "Using data from dump_2\n",
      "padded sent: (9232, 100)\n",
      "feature shape: (9232, 100)\n",
      "Running model on 9232 train samples\n",
      "WARNING:tensorflow:From C:\\Users\\apra\\Desktop\\FALL 2021\\CY 7990\\toxicity_filter_attacks\\model\\abuse_classifier.py:48: LSTMCell.__init__ (from tensorflow.python.ops.rnn_cell_impl) is deprecated and will be removed in a future version.\n",
      "Instructions for updating:\n",
      "This class is equivalent as tf.keras.layers.LSTMCell, and will be replaced by that in Tensorflow 2.0.\n",
      "WARNING:tensorflow:From C:\\Users\\apra\\Desktop\\FALL 2021\\CY 7990\\toxicity_filter_attacks\\model\\abuse_classifier.py:50: bidirectional_dynamic_rnn (from tensorflow.python.ops.rnn) is deprecated and will be removed in a future version.\n",
      "Instructions for updating:\n",
      "Please use `keras.layers.Bidirectional(keras.layers.RNN(cell))`, which is equivalent to this API\n",
      "WARNING:tensorflow:From C:\\Users\\apra\\Anaconda3\\envs\\toxicity_filter_attacks_tf1\\lib\\site-packages\\tensorflow_core\\python\\ops\\rnn.py:464: dynamic_rnn (from tensorflow.python.ops.rnn) is deprecated and will be removed in a future version.\n",
      "Instructions for updating:\n",
      "Please use `keras.layers.RNN(cell)`, which is equivalent to this API\n",
      "WARNING:tensorflow:From C:\\Users\\apra\\Anaconda3\\envs\\toxicity_filter_attacks_tf1\\lib\\site-packages\\tensorflow_core\\python\\ops\\rnn_cell_impl.py:958: Layer.add_variable (from tensorflow.python.keras.engine.base_layer) is deprecated and will be removed in a future version.\n",
      "Instructions for updating:\n",
      "Please use `layer.add_weight` method instead.\n",
      "WARNING:tensorflow:From C:\\Users\\apra\\Anaconda3\\envs\\toxicity_filter_attacks_tf1\\lib\\site-packages\\tensorflow_core\\python\\ops\\rnn_cell_impl.py:962: calling Zeros.__init__ (from tensorflow.python.ops.init_ops) with dtype is deprecated and will be removed in a future version.\n",
      "Instructions for updating:\n",
      "Call initializer instance with the dtype argument instead of passing it to the constructor\n",
      "WARNING:tensorflow:From C:\\Users\\apra\\Anaconda3\\envs\\toxicity_filter_attacks_tf1\\lib\\site-packages\\tensorflow_core\\python\\ops\\rnn.py:244: where (from tensorflow.python.ops.array_ops) is deprecated and will be removed in a future version.\n",
      "Instructions for updating:\n",
      "Use tf.where in 2.0, which has the same broadcast rule as np.where\n",
      "WARNING:tensorflow:From C:\\Users\\apra\\Desktop\\FALL 2021\\CY 7990\\toxicity_filter_attacks\\model\\abuse_classifier.py:54: calling dropout (from tensorflow.python.ops.nn_ops) with keep_prob is deprecated and will be removed in a future version.\n",
      "Instructions for updating:\n",
      "Please use `rate` instead of `keep_prob`. Rate should be set to `rate = 1 - keep_prob`.\n",
      "WARNING:tensorflow:From C:\\Users\\apra\\Desktop\\FALL 2021\\CY 7990\\toxicity_filter_attacks\\model\\abuse_classifier.py:75: softmax_cross_entropy_with_logits (from tensorflow.python.ops.nn_ops) is deprecated and will be removed in a future version.\n",
      "Instructions for updating:\n",
      "\n",
      "Future major versions of TensorFlow will allow gradients to flow\n",
      "into the labels input on backprop by default.\n",
      "\n",
      "See `tf.nn.softmax_cross_entropy_with_logits_v2`.\n",
      "\n",
      "No supervised attention.\n",
      "WARNING:tensorflow:From <ipython-input-5-bb62f1056d2d>:57: all_variables (from tensorflow.python.ops.variables) is deprecated and will be removed after 2017-03-02.\n",
      "Instructions for updating:\n",
      "Please use tf.global_variables instead.\n",
      "WARNING:tensorflow:From C:\\Users\\apra\\Anaconda3\\envs\\toxicity_filter_attacks_tf1\\lib\\site-packages\\tensorflow_core\\python\\util\\tf_should_use.py:198: initialize_all_variables (from tensorflow.python.ops.variables) is deprecated and will be removed after 2017-03-02.\n",
      "Instructions for updating:\n",
      "Use `tf.global_variables_initializer` instead.\n",
      "INFO:tensorflow:Restoring parameters from C:\\Users\\apra\\Desktop\\FALL 2021\\CY 7990\\toxicity_filter_attacks\\model\\model_noatt_checkpoints\\best_model\n",
      "Done\n",
      "----------------------------------------------------------------------------------------------------\n",
      "Ran model from model_noatt_checkpoints, using data from dump_2\n",
      "Best Threshold on Train:  0.30000000000000004\n",
      "Best F1 Score on Train:  0.6273476112026359\n",
      "Predictions:\n",
      "[[0.56858337, 0.4314167], [0.1877994, 0.81220067], [0.2799944, 0.7200056], [0.22989757, 0.77010244], [0.18653613, 0.81346387], [0.16111541, 0.83888465], [0.412829, 0.5871709], [0.16403957, 0.83596045], [0.24837373, 0.7516263], [0.172915, 0.827085]]\n",
      "Ground Truth:\n",
      "[[1 0]\n",
      " [0 1]\n",
      " [1 0]\n",
      " [1 0]\n",
      " [0 1]\n",
      " [0 1]\n",
      " [0 1]\n",
      " [0 1]\n",
      " [1 0]\n",
      " [0 1]]\n",
      "Classification:\n",
      "[1, 0, 0, 0, 0, 0, 1, 0, 0, 0]\n"
     ]
    }
   ],
   "source": [
    "os.environ['TF_CPP_MIN_LOG_LEVEL'] = '3'\n",
    "model_save_folder_name = MODEL_TYPE\n",
    "print(f\"Running model from {model_save_folder_name}\")\n",
    "\n",
    "model_folder_path = 'model'\n",
    "checkpoint_dir = os.path.abspath(os.path.join(model_folder_path, model_save_folder_name))\n",
    "model_path = os.path.join(checkpoint_dir, \"best_model\")\n",
    "\n",
    "data_path = 'dump_2'\n",
    "print(f\"Using data from {data_path}\")\n",
    "\n",
    "scores, predictions, ground_truth = get_predictions(model_path, data_path, \"train\")\n",
    "\n",
    "print(\"Done\")\n",
    "print(\"-\" * 100)\n",
    "print(f\"Ran model from {model_save_folder_name}, using data from {data_path}\")\n",
    "\n",
    "\n",
    "ground_truth_pos = [gt[0] for gt in ground_truth ]\n",
    "best_t, best_fscore = tuneThreshold(ground_truth_pos, predictions)\n",
    "print(\"Best Threshold on Train: \", best_t)\n",
    "print(\"Best F1 Score on Train: \", best_fscore)\n",
    "\n",
    "print(\"Predictions:\")\n",
    "print(scores[0:10])\n",
    "\n",
    "print(\"Ground Truth:\")\n",
    "print(ground_truth[0:10])\n",
    "\n",
    "print(\"Classification:\")\n",
    "y_pred = list(map(lambda p: 1 if p > best_t else 0, predictions))\n",
    "print(y_pred[0:10])\n"
   ]
  },
  {
   "cell_type": "code",
   "execution_count": 8,
   "id": "aca708ff",
   "metadata": {
    "ExecuteTime": {
     "end_time": "2021-12-06T00:50:00.929666Z",
     "start_time": "2021-12-06T00:50:00.893667Z"
    },
    "deletable": false,
    "editable": false,
    "run_control": {
     "frozen": true
    },
    "scrolled": true
   },
   "outputs": [
    {
     "name": "stdout",
     "output_type": "stream",
     "text": [
      "TRAIN METRICS: \n",
      "\n",
      "roc_auc: 0.8292982557173499\n",
      "pr_auc: 0.6840993120084116\n",
      "fscore: 0.6273476112026359\n"
     ]
    }
   ],
   "source": [
    "from data_utils import eval_helpers\n",
    "from sklearn.metrics import f1_score\n",
    "\n",
    "print(\"TRAIN METRICS: \\n\")\n",
    "# roc auc\n",
    "eval_helpers.evalROC(ground_truth_pos, predictions)\n",
    "# pr auc\n",
    "eval_helpers.evalPR(ground_truth_pos, predictions)\n",
    "\n",
    "fscore = f1_score(ground_truth_pos, y_pred)\n",
    "print(\"fscore: {}\".format(fscore))"
   ]
  }
 ],
 "metadata": {
  "kernelspec": {
   "display_name": "Python 3",
   "language": "python",
   "name": "python3"
  },
  "language_info": {
   "codemirror_mode": {
    "name": "ipython",
    "version": 3
   },
   "file_extension": ".py",
   "mimetype": "text/x-python",
   "name": "python",
   "nbconvert_exporter": "python",
   "pygments_lexer": "ipython3",
   "version": "3.6.13"
  },
  "toc": {
   "base_numbering": 1,
   "nav_menu": {},
   "number_sections": true,
   "sideBar": true,
   "skip_h1_title": false,
   "title_cell": "Table of Contents",
   "title_sidebar": "Contents",
   "toc_cell": false,
   "toc_position": {},
   "toc_section_display": true,
   "toc_window_display": false
  },
  "varInspector": {
   "cols": {
    "lenName": 16,
    "lenType": 16,
    "lenVar": 40
   },
   "kernels_config": {
    "python": {
     "delete_cmd_postfix": "",
     "delete_cmd_prefix": "del ",
     "library": "var_list.py",
     "varRefreshCmd": "print(var_dic_list())"
    },
    "r": {
     "delete_cmd_postfix": ") ",
     "delete_cmd_prefix": "rm(",
     "library": "var_list.r",
     "varRefreshCmd": "cat(var_dic_list()) "
    }
   },
   "types_to_exclude": [
    "module",
    "function",
    "builtin_function_or_method",
    "instance",
    "_Feature"
   ],
   "window_display": false
  }
 },
 "nbformat": 4,
 "nbformat_minor": 5
}
