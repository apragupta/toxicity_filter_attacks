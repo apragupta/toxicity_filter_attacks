{
 "cells": [
  {
   "cell_type": "markdown",
   "id": "39ccb3ec",
   "metadata": {
    "ExecuteTime": {
     "end_time": "2021-12-13T16:46:57.502470Z",
     "start_time": "2021-12-13T16:46:57.498472Z"
    }
   },
   "source": [
    "# Utilities to help prediction loop"
   ]
  },
  {
   "cell_type": "code",
   "execution_count": 1,
   "id": "4d314039",
   "metadata": {
    "ExecuteTime": {
     "end_time": "2021-12-13T17:12:31.893131Z",
     "start_time": "2021-12-13T17:12:28.548143Z"
    }
   },
   "outputs": [],
   "source": [
    "import predict_utils as pred "
   ]
  },
  {
   "cell_type": "code",
   "execution_count": 4,
   "id": "04688103",
   "metadata": {
    "ExecuteTime": {
     "end_time": "2021-12-13T17:14:51.637208Z",
     "start_time": "2021-12-13T17:14:37.844210Z"
    }
   },
   "outputs": [
    {
     "name": "stdout",
     "output_type": "stream",
     "text": [
      "Running baseline from C:\\Users\\apra\\Desktop\\FALL 2021\\CY 7990\\toxicity_filter_attacks\\model_new\\model_noatt_checkpoints\\best_model\n",
      "padded sent: (2308, 100)\n",
      "feature shape: (2308, 100)\n",
      "padded pos sentences: (2308, 100)\n",
      "debug padded_pos_sentences: ['A', ',', '^', '<UNK>', '<UNK>', '<UNK>', '<UNK>', '<UNK>', '<UNK>', '<UNK>']\n",
      "pos feature shape: (2308, 100)\n",
      "Running model on 2308 test samples\n",
      "No supervised attention.\n",
      "INFO:tensorflow:Restoring parameters from C:\\Users\\apra\\Desktop\\FALL 2021\\CY 7990\\toxicity_filter_attacks\\model_new\\model_noatt_checkpoints\\best_model\n"
     ]
    }
   ],
   "source": [
    "scores, predictions, ground_truth, alphas = pred.get_predictions(\"model_new\", \"preprocessed/try_2/\", \"test\", model_type=\"baseline\")\n"
   ]
  },
  {
   "cell_type": "code",
   "execution_count": 5,
   "id": "a3ace41e",
   "metadata": {
    "ExecuteTime": {
     "end_time": "2021-12-13T17:14:57.382209Z",
     "start_time": "2021-12-13T17:14:57.352214Z"
    }
   },
   "outputs": [
    {
     "name": "stdout",
     "output_type": "stream",
     "text": [
      "Done\n",
      "----------------------------------------------------------------------------------------------------\n",
      "Predictions:\n",
      "[[0.08187434, 0.9181256], [0.09040463, 0.9095954], [0.08228504, 0.9177149], [0.23696016, 0.7630398], [0.46449992, 0.53550005], [0.80933416, 0.19066581], [0.082129866, 0.91787016], [0.088497974, 0.91150206], [0.7064501, 0.29354993], [0.17605793, 0.823942]]\n",
      "Ground Truth:\n",
      "[1, 0, 0, 0, 1, 1, 0, 1, 1, 1]\n",
      "Classification:\n",
      "[0, 0, 0, 0, 1, 1, 0, 0, 1, 0]\n",
      "METRICS: \n",
      "\n",
      "roc_auc: 0.8020886102668017\n",
      "pr_auc: 0.5901431362169314\n",
      "fscore: 0.5722937168811507\n",
      "accuracy: 0.7551993067590987\n"
     ]
    }
   ],
   "source": [
    "pred.print_metrics(ground_truth,scores)"
   ]
  },
  {
   "cell_type": "code",
   "execution_count": null,
   "id": "14b8348c",
   "metadata": {},
   "outputs": [],
   "source": []
  },
  {
   "cell_type": "code",
   "execution_count": null,
   "id": "ebc91ad4",
   "metadata": {},
   "outputs": [],
   "source": []
  },
  {
   "cell_type": "code",
   "execution_count": null,
   "id": "c0d0a980",
   "metadata": {},
   "outputs": [],
   "source": []
  },
  {
   "cell_type": "code",
   "execution_count": null,
   "id": "9b0beead",
   "metadata": {},
   "outputs": [],
   "source": []
  },
  {
   "cell_type": "code",
   "execution_count": 17,
   "id": "2f12e420",
   "metadata": {
    "ExecuteTime": {
     "end_time": "2021-12-13T16:58:40.601975Z",
     "start_time": "2021-12-13T16:58:40.581963Z"
    },
    "deletable": false,
    "editable": false,
    "run_control": {
     "frozen": true
    }
   },
   "outputs": [
    {
     "name": "stdout",
     "output_type": "stream",
     "text": [
      "1.15.0\n"
     ]
    }
   ],
   "source": [
    "import FLAGS\n",
    "import tensorflow as tf\n",
    "import os\n",
    "print(tf.__version__)\n",
    "from model.abuse_classifier import AbuseClassifier\n",
    "os.environ['TF_CPP_MIN_LOG_LEVEL'] = '3'\n",
    "from data_utils_v2.data_helpers import genFeatures, loadVocabEmb,genPOSFeatures, loadData\n",
    "import param\n",
    "import pickle"
   ]
  },
  {
   "cell_type": "code",
   "execution_count": null,
   "id": "e23dcccc",
   "metadata": {},
   "outputs": [],
   "source": []
  },
  {
   "cell_type": "code",
   "execution_count": 26,
   "id": "4f976fa1",
   "metadata": {
    "ExecuteTime": {
     "end_time": "2021-12-13T17:01:26.699448Z",
     "start_time": "2021-12-13T17:01:26.693447Z"
    },
    "deletable": false,
    "editable": false,
    "run_control": {
     "frozen": true
    }
   },
   "outputs": [],
   "source": [
    "BEST_THRESHOLD = 0.3"
   ]
  },
  {
   "cell_type": "code",
   "execution_count": 27,
   "id": "478b633f",
   "metadata": {
    "ExecuteTime": {
     "end_time": "2021-12-13T17:01:30.556454Z",
     "start_time": "2021-12-13T17:01:30.526450Z"
    },
    "deletable": false,
    "editable": false,
    "run_control": {
     "frozen": true,
     "marked": true
    }
   },
   "outputs": [],
   "source": [
    "def get_predictions(model_folder_path, data_folder_path, data_type=\"test\", dump_folder_path = \"dump_2\",  model_type=\"baseline\"):\n",
    "    with open(os.path.join(dump_folder_path, \"norm_init_embed.pkl\"), \"rb\") as handle:\n",
    "        init_embed = pickle.load(handle)\n",
    "\n",
    "    \n",
    "    #configure model type\n",
    "    if model_type == \"baseline\":\n",
    "        attention_lambda = 0.0\n",
    "        attention_loss_type = \"none\"\n",
    "        model_type_path = \"model_noatt_checkpoints\"\n",
    "    else:\n",
    "        attention_lambda = 0.2\n",
    "        attention_loss_type = \"encoded\"\n",
    "        model_type_path = \"model_att=encoded_checkpoints\"\n",
    "        \n",
    "    checkpoint_dir = os.path.abspath(os.path.join(model_folder_path, model_type_path))\n",
    "    model_path = os.path.join(checkpoint_dir, \"best_model\")\n",
    "    print(f\"Running {model_type} from {model_path}\")\n",
    "    \n",
    "    \n",
    "    \n",
    "    x_test, length_test, attention_test, pos_test, pos_length_test, y_test = loadData(dump_folder_path, data_folder_path, data_type,  verbose=False)\n",
    "    \n",
    "    len_data = len(x_test)\n",
    "    print(f\"Running model on {len_data} {data_type} samples\")\n",
    "    os.environ['TF_CPP_MIN_LOG_LEVEL'] = '3'\n",
    "    with tf.Graph().as_default():\n",
    "        session_conf = tf.ConfigProto(\n",
    "            allow_soft_placement=FLAGS.allow_soft_placement,\n",
    "            log_device_placement=FLAGS.log_device_placement\n",
    "        )\n",
    "        sess = tf.Session(config=session_conf)\n",
    "        with sess.as_default():\n",
    "            model = AbuseClassifier(\n",
    "                max_sequence_length=param.max_sent_len,\n",
    "                num_classes=2,\n",
    "                pos_vocab_size=FLAGS.pos_vocab_size,\n",
    "                init_embed=init_embed,\n",
    "                hidden_size=FLAGS.hidden_size,\n",
    "                attention_size=FLAGS.attention_size,\n",
    "                keep_prob=FLAGS.dropout_keep_prob,\n",
    "                attention_lambda=attention_lambda,\n",
    "                attention_loss_type=attention_loss_type,\n",
    "                l2_reg_lambda=0.1,\n",
    "                use_pos_flag=FLAGS.use_pos_flag)\n",
    "\n",
    "            global_step = tf.Variable(0, name=\"global_step\", trainable=False)\n",
    "            saver = tf.train.Saver(tf.all_variables())\n",
    "            # Initialize all variables\n",
    "            sess.run(tf.initialize_all_variables())\n",
    "            saver.restore(sess, model_path)\n",
    "\n",
    "            dev_scores = []\n",
    "            dev_confidences = []\n",
    "            alphas = []\n",
    "            pos = 0\n",
    "            gap = 50\n",
    "            while pos < len(x_test):\n",
    "                x_batch = x_test[pos:pos + gap]\n",
    "                pos_batch = pos_test[pos:pos + gap]\n",
    "                y_batch = y_test[pos:pos + gap]\n",
    "                length_batch = length_test[pos:pos + gap]\n",
    "                pos_length_batch = pos_length_test[pos:pos + gap]\n",
    "                pos += gap\n",
    "                # score sentences\n",
    "                feed_dict = {\n",
    "                    model.input_word: x_batch,\n",
    "                    model.input_pos: pos_batch,\n",
    "                    model.input_y: y_batch,\n",
    "                    model.sequence_length: length_batch,\n",
    "                    model.dropout_keep_prob: 1.0\n",
    "                }\n",
    "                step, scores, alpha = sess.run([global_step, model.prob, model.alphas], feed_dict)\n",
    "                dev_confidences = dev_confidences + list([[s[0],s[1]] for s in scores])\n",
    "                dev_scores = dev_scores + list([s[0] for s in scores])\n",
    "                alphas = alphas + list(alpha)\n",
    "    ground_truth = [g[0] for g in y_test]\n",
    "    return dev_confidences, dev_scores, ground_truth, alphas\n",
    "\n",
    "\n"
   ]
  },
  {
   "cell_type": "code",
   "execution_count": 30,
   "id": "4e534000",
   "metadata": {
    "ExecuteTime": {
     "end_time": "2021-12-13T17:02:40.719145Z",
     "start_time": "2021-12-13T17:02:26.925149Z"
    },
    "deletable": false,
    "editable": false,
    "run_control": {
     "frozen": true
    }
   },
   "outputs": [
    {
     "name": "stdout",
     "output_type": "stream",
     "text": [
      "Running attention from C:\\Users\\apra\\Desktop\\FALL 2021\\CY 7990\\toxicity_filter_attacks\\model_new\\model_att=encoded_checkpoints\\best_model\n",
      "padded sent: (2308, 100)\n",
      "feature shape: (2308, 100)\n",
      "padded pos sentences: (2308, 100)\n",
      "debug padded_pos_sentences: ['A', ',', '^', '<UNK>', '<UNK>', '<UNK>', '<UNK>', '<UNK>', '<UNK>', '<UNK>']\n",
      "pos feature shape: (2308, 100)\n",
      "Running model on 2308 test samples\n",
      "Supervised attention with encoded loss.\n",
      "INFO:tensorflow:Restoring parameters from C:\\Users\\apra\\Desktop\\FALL 2021\\CY 7990\\toxicity_filter_attacks\\model_new\\model_att=encoded_checkpoints\\best_model\n",
      "Done\n",
      "----------------------------------------------------------------------------------------------------\n",
      "Predictions:\n",
      "[[0.32269272, 0.6773073], [0.34807494, 0.6519251], [0.09782139, 0.9021786], [0.7724647, 0.22753535], [0.8217768, 0.17822321], [0.85405266, 0.14594728], [0.09517542, 0.9048246], [0.162968, 0.83703196], [0.7225079, 0.27749208], [0.09746935, 0.9025306]]\n",
      "Ground Truth:\n",
      "[1, 0, 0, 0, 1, 1, 0, 1, 1, 1]\n",
      "Classification:\n",
      "[1, 1, 0, 1, 1, 1, 0, 0, 1, 0]\n"
     ]
    }
   ],
   "source": [
    "scores, predictions, ground_truth, alphas = get_predictions(\"model_new\", \"preprocessed/try_2/\", \"test\", model_type=\"attention\")\n",
    "\n",
    "\n",
    "\n",
    "print(\"Done\")\n",
    "print(\"-\" * 100)\n",
    "\n",
    "\n",
    "print(\"Predictions:\")\n",
    "print(scores[0:10])\n",
    "\n",
    "print(\"Ground Truth:\")\n",
    "print(ground_truth[0:10])\n",
    "\n",
    "print(\"Classification:\")\n",
    "y_pred = list(map(lambda p: 1 if p > BEST_THRESHOLD else 0, predictions))\n",
    "print(y_pred[0:10])"
   ]
  },
  {
   "cell_type": "code",
   "execution_count": 31,
   "id": "02bf173c",
   "metadata": {
    "ExecuteTime": {
     "end_time": "2021-12-13T17:02:44.588145Z",
     "start_time": "2021-12-13T17:02:44.558150Z"
    },
    "deletable": false,
    "editable": false,
    "run_control": {
     "frozen": true
    }
   },
   "outputs": [
    {
     "name": "stdout",
     "output_type": "stream",
     "text": [
      "TEST METRICS: \n",
      "\n",
      "roc_auc: 0.792010626784563\n",
      "pr_auc: 0.6228769778862439\n",
      "fscore: 0.5803108808290155\n",
      "accuracy: 0.5803108808290155\n"
     ]
    }
   ],
   "source": [
    "from data_utils import eval_helpers\n",
    "from sklearn.metrics import f1_score, accuracy_score\n",
    "print(\"TEST METRICS: \\n\")\n",
    "# roc auc\n",
    "eval_helpers.evalROC(ground_truth, predictions)\n",
    "# pr auc\n",
    "eval_helpers.evalPR(ground_truth, predictions)\n",
    "# f1 score\n",
    "fscore = f1_score(ground_truth, y_pred)\n",
    "print(\"fscore: {}\".format(fscore))\n",
    "\n",
    "accuracy = accuracy_score(ground_truth,y_pred)\n",
    "print(\"accuracy: {}\".format(fscore))"
   ]
  },
  {
   "cell_type": "code",
   "execution_count": null,
   "id": "a54780ea",
   "metadata": {},
   "outputs": [],
   "source": []
  }
 ],
 "metadata": {
  "kernelspec": {
   "display_name": "Python 3",
   "language": "python",
   "name": "python3"
  },
  "language_info": {
   "codemirror_mode": {
    "name": "ipython",
    "version": 3
   },
   "file_extension": ".py",
   "mimetype": "text/x-python",
   "name": "python",
   "nbconvert_exporter": "python",
   "pygments_lexer": "ipython3",
   "version": "3.6.13"
  },
  "toc": {
   "base_numbering": 1,
   "nav_menu": {},
   "number_sections": true,
   "sideBar": true,
   "skip_h1_title": false,
   "title_cell": "Table of Contents",
   "title_sidebar": "Contents",
   "toc_cell": false,
   "toc_position": {},
   "toc_section_display": true,
   "toc_window_display": false
  },
  "varInspector": {
   "cols": {
    "lenName": 16,
    "lenType": 16,
    "lenVar": 40
   },
   "kernels_config": {
    "python": {
     "delete_cmd_postfix": "",
     "delete_cmd_prefix": "del ",
     "library": "var_list.py",
     "varRefreshCmd": "print(var_dic_list())"
    },
    "r": {
     "delete_cmd_postfix": ") ",
     "delete_cmd_prefix": "rm(",
     "library": "var_list.r",
     "varRefreshCmd": "cat(var_dic_list()) "
    }
   },
   "types_to_exclude": [
    "module",
    "function",
    "builtin_function_or_method",
    "instance",
    "_Feature"
   ],
   "window_display": false
  }
 },
 "nbformat": 4,
 "nbformat_minor": 5
}
