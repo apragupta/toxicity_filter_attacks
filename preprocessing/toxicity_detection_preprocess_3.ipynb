{
 "cells": [
  {
   "cell_type": "markdown",
   "id": "81190829",
   "metadata": {
    "ExecuteTime": {
     "end_time": "2021-11-19T04:52:33.901527Z",
     "start_time": "2021-11-19T04:52:33.890526Z"
    }
   },
   "source": [
    "# Step 3: building vocab and embeddings (taken from Gong et al's repo)"
   ]
  },
  {
   "cell_type": "markdown",
   "id": "9de1d34e",
   "metadata": {
    "ExecuteTime": {
     "end_time": "2021-11-19T04:53:48.285897Z",
     "start_time": "2021-11-19T04:53:48.274896Z"
    }
   },
   "source": [
    "## Downloads :\n",
    "\n",
    "<ol>\n",
    "    <li> 300 dim google word2vec embeddings </li>\n",
    "    <li> gensim (need < 4.0 version) </li>"
   ]
  },
  {
   "cell_type": "code",
   "execution_count": 13,
   "id": "a3a1eb88",
   "metadata": {
    "ExecuteTime": {
     "end_time": "2021-11-19T05:57:39.454988Z",
     "start_time": "2021-11-19T05:57:22.933570Z"
    },
    "deletable": false,
    "editable": false,
    "run_control": {
     "frozen": true
    }
   },
   "outputs": [
    {
     "name": "stdout",
     "output_type": "stream",
     "text": [
      "Collecting gensim==3.8\n",
      "  Downloading gensim-3.8.0.tar.gz (23.4 MB)\n",
      "Requirement already satisfied: numpy>=1.11.3 in c:\\users\\apra\\anaconda3\\envs\\toxicity_filter_attacks_1\\lib\\site-packages (from gensim==3.8) (1.21.3)\n",
      "Requirement already satisfied: scipy>=0.18.1 in c:\\users\\apra\\anaconda3\\envs\\toxicity_filter_attacks_1\\lib\\site-packages (from gensim==3.8) (1.7.1)\n",
      "Requirement already satisfied: six>=1.5.0 in c:\\users\\apra\\anaconda3\\envs\\toxicity_filter_attacks_1\\lib\\site-packages (from gensim==3.8) (1.16.0)\n",
      "Requirement already satisfied: smart_open>=1.7.0 in c:\\users\\apra\\anaconda3\\envs\\toxicity_filter_attacks_1\\lib\\site-packages (from gensim==3.8) (5.2.1)\n",
      "Building wheels for collected packages: gensim\n",
      "  Building wheel for gensim (setup.py): started\n",
      "  Building wheel for gensim (setup.py): finished with status 'done'\n",
      "  Created wheel for gensim: filename=gensim-3.8.0-cp38-cp38-win_amd64.whl size=23718080 sha256=b8c14f88e3d23663ca850b3f0661e397424cc77bff42503a43b805226f483cfe\n",
      "  Stored in directory: c:\\users\\apra\\appdata\\local\\pip\\cache\\wheels\\09\\d1\\44\\6d6dcb820e282b40ccfce6d2bb0101c24d7fffd863b2276783\n",
      "Successfully built gensim\n",
      "Installing collected packages: gensim\n",
      "Successfully installed gensim-3.8.0\n"
     ]
    }
   ],
   "source": [
    "!pip install gensim==3.8 --user"
   ]
  },
  {
   "cell_type": "code",
   "execution_count": 1,
   "id": "73e13672",
   "metadata": {
    "ExecuteTime": {
     "end_time": "2021-11-19T06:09:15.139663Z",
     "start_time": "2021-11-19T06:09:13.468666Z"
    }
   },
   "outputs": [],
   "source": [
    "import gensim\n"
   ]
  },
  {
   "cell_type": "code",
   "execution_count": 2,
   "id": "85afbf39",
   "metadata": {
    "ExecuteTime": {
     "end_time": "2021-11-19T06:09:15.643669Z",
     "start_time": "2021-11-19T06:09:15.629667Z"
    }
   },
   "outputs": [
    {
     "name": "stdout",
     "output_type": "stream",
     "text": [
      "3.8.3\n"
     ]
    }
   ],
   "source": [
    "print(gensim.__version__)"
   ]
  },
  {
   "cell_type": "code",
   "execution_count": 6,
   "id": "73d7a0d6",
   "metadata": {
    "ExecuteTime": {
     "end_time": "2021-11-19T06:10:35.160954Z",
     "start_time": "2021-11-19T06:10:35.145954Z"
    }
   },
   "outputs": [],
   "source": [
    "import os \n",
    "import param as param \n",
    "import build_vocab_embed as bve\n",
    "from gensim.models import KeyedVectors\n",
    "from gensim.models import Word2Vec\n",
    "from gensim.models.word2vec import LineSentence\n",
    "import time "
   ]
  },
  {
   "cell_type": "code",
   "execution_count": 7,
   "id": "04a51b36",
   "metadata": {
    "ExecuteTime": {
     "end_time": "2021-11-19T06:10:39.020548Z",
     "start_time": "2021-11-19T06:10:39.009550Z"
    }
   },
   "outputs": [],
   "source": [
    "def tuneEmbed(wiki_embed_fn, corpus_fn, tune_embed_fn):\n",
    "    sentences = LineSentence(corpus_fn)\n",
    "    sent_cnt = 0\n",
    "    for sentence in sentences:\n",
    "        sent_cnt += 1\n",
    "    print(\"# of sents: {}\".format(sent_cnt))\n",
    "    model = Word2Vec(\n",
    "        sentences, min_count=1, size=param.emb_dim,\n",
    "        window=5, iter=5, workers=10\n",
    "    )\n",
    "    \n",
    "    model.intersect_word2vec_format(\n",
    "        wiki_embed_fn, lockf=1.0, binary=True\n",
    "    )\n",
    "    # measure running time\n",
    "    start = time.time()\n",
    "    model.train(sentences, total_examples=model.corpus_count, epochs=model.iter)\n",
    "    end = time.time()\n",
    "    print(\"Done embedding tuning, time used: {}s\".format(end - start))\n",
    "    word_vectors = model.wv\n",
    "    word_vectors.save_word2vec_format(tune_embed_fn)\n",
    "    print(\"Saving embedding to {}\".format(tune_embed_fn))"
   ]
  },
  {
   "cell_type": "code",
   "execution_count": 8,
   "id": "590380de",
   "metadata": {
    "ExecuteTime": {
     "end_time": "2021-11-19T06:11:30.179870Z",
     "start_time": "2021-11-19T06:10:41.723158Z"
    }
   },
   "outputs": [
    {
     "name": "stdout",
     "output_type": "stream",
     "text": [
      "# of sents: 11527\n"
     ]
    },
    {
     "name": "stderr",
     "output_type": "stream",
     "text": [
      "C:\\Users\\apra\\AppData\\Local\\Temp/ipykernel_24252/727384390.py:17: DeprecationWarning: Call to deprecated `iter` (Attribute will be removed in 4.0.0, use self.epochs instead).\n",
      "  model.train(sentences, total_examples=model.corpus_count, epochs=model.iter)\n"
     ]
    },
    {
     "name": "stdout",
     "output_type": "stream",
     "text": [
      "Done embedding tuning, time used: 1.419997215270996s\n",
      "Saving embedding to C:\\Users\\apra\\Desktop\\FALL 2021\\CY 7990\\toxicity_filter_attacks\\preprocessing/dump_2/youtube_300d.txt\n"
     ]
    }
   ],
   "source": [
    "#path to word to vec embedding \n",
    "wiki_embed_fn = r'word_emb/GoogleNews-vectors-negative300.bin'\n",
    "corpus_path = os.path.join(param.dump_folder, \"corpus.txt\")\n",
    "tune_embed_fn = os.path.join(param.dump_folder, \"youtube_{}d.txt\".format(param.emb_dim))\n",
    "\n",
    "vocab_pkl = os.path.join(param.dump_folder, \"vocab.pkl\")\n",
    "embed_pkl = os.path.join(param.dump_folder, \"init_embed.pkl\")\n",
    "norm_embed_pkl = os.path.join(param.dump_folder, \"norm_init_embed.pkl\")\n",
    "pos_corpus_file = os.path.join(param.dump_folder, \"pos_corpus.txt\")\n",
    "# pos_data_path = os.path.join(param.dump_folder, \"train_comm_pos.data\")\n",
    "pos_vocab_pkl = os.path.join(param.dump_folder, \"pos_vocab.pkl\")\n",
    "\n",
    "# tune embedding on Youtube corpus\n",
    "tuneEmbed(wiki_embed_fn, corpus_path, tune_embed_fn)\n",
    "\n",
    "# # word vocab and embed\n",
    "\n"
   ]
  },
  {
   "cell_type": "code",
   "execution_count": 9,
   "id": "fc183a60",
   "metadata": {
    "ExecuteTime": {
     "end_time": "2021-11-19T06:12:33.539169Z",
     "start_time": "2021-11-19T06:12:27.441932Z"
    }
   },
   "outputs": [
    {
     "name": "stdout",
     "output_type": "stream",
     "text": [
      "# of sents for vocab: 11540\n",
      "Vocab size: 18161, save to C:\\Users\\apra\\Desktop\\FALL 2021\\CY 7990\\toxicity_filter_attacks\\preprocessing/dump_2/vocab.pkl\n",
      "load from C:\\Users\\apra\\Desktop\\FALL 2021\\CY 7990\\toxicity_filter_attacks\\preprocessing/dump_2/youtube_300d.txt, vector dim: 300\n",
      "unknown word: 2 ['<UNK>', '<PAD/>']\n",
      "init_embed shape (18161, 300)\n",
      "Save embedding to C:\\Users\\apra\\Desktop\\FALL 2021\\CY 7990\\toxicity_filter_attacks\\preprocessing/dump_2/init_embed.pkl\n",
      "done saving normalized vectors.\n",
      "# of sents for pos vocab: 11540\n",
      "Vocab size: 26, save to C:\\Users\\apra\\Desktop\\FALL 2021\\CY 7990\\toxicity_filter_attacks\\preprocessing/dump_2/pos_vocab.pkl\n"
     ]
    }
   ],
   "source": [
    "bve.saveVocabEmbed(corpus_path, vocab_pkl, tune_embed_fn, embed_pkl)\n",
    "bve.normEmbed(embed_pkl, norm_embed_pkl)\n",
    "\n",
    "# POS vocab\n",
    "bve.savePOSVocab(pos_corpus_file, pos_vocab_pkl)"
   ]
  },
  {
   "cell_type": "code",
   "execution_count": null,
   "id": "d88a942f",
   "metadata": {},
   "outputs": [],
   "source": []
  }
 ],
 "metadata": {
  "kernelspec": {
   "display_name": "Python 3",
   "language": "python",
   "name": "python3"
  },
  "language_info": {
   "codemirror_mode": {
    "name": "ipython",
    "version": 3
   },
   "file_extension": ".py",
   "mimetype": "text/x-python",
   "name": "python",
   "nbconvert_exporter": "python",
   "pygments_lexer": "ipython3",
   "version": "3.6.13"
  },
  "toc": {
   "base_numbering": 1,
   "nav_menu": {},
   "number_sections": true,
   "sideBar": true,
   "skip_h1_title": false,
   "title_cell": "Table of Contents",
   "title_sidebar": "Contents",
   "toc_cell": false,
   "toc_position": {},
   "toc_section_display": true,
   "toc_window_display": false
  },
  "varInspector": {
   "cols": {
    "lenName": 16,
    "lenType": 16,
    "lenVar": 40
   },
   "kernels_config": {
    "python": {
     "delete_cmd_postfix": "",
     "delete_cmd_prefix": "del ",
     "library": "var_list.py",
     "varRefreshCmd": "print(var_dic_list())"
    },
    "r": {
     "delete_cmd_postfix": ") ",
     "delete_cmd_prefix": "rm(",
     "library": "var_list.r",
     "varRefreshCmd": "cat(var_dic_list()) "
    }
   },
   "types_to_exclude": [
    "module",
    "function",
    "builtin_function_or_method",
    "instance",
    "_Feature"
   ],
   "window_display": false
  }
 },
 "nbformat": 4,
 "nbformat_minor": 5
}
