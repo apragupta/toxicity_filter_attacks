{
 "cells": [
  {
   "cell_type": "markdown",
   "id": "8a4191ec",
   "metadata": {},
   "source": [
    "# Preprocessing and Feature Generation"
   ]
  },
  {
   "cell_type": "code",
   "execution_count": 1,
   "id": "962314c4",
   "metadata": {
    "ExecuteTime": {
     "end_time": "2021-12-13T15:41:58.078901Z",
     "start_time": "2021-12-13T15:41:58.061910Z"
    },
    "run_control": {
     "marked": true
    }
   },
   "outputs": [],
   "source": [
    "#defining paths: these should be the only inputs\n",
    "#path to raw data\n",
    "raw_input_file_path = r'data/Anonymized_Sentences_Classified.csv'\n",
    "\n",
    "#path to folder to save processed data in\n",
    "out_folder_path = r'../preprocessed/try_2'\n"
   ]
  },
  {
   "cell_type": "code",
   "execution_count": 2,
   "id": "5ac354eb",
   "metadata": {
    "ExecuteTime": {
     "end_time": "2021-12-13T15:41:58.584905Z",
     "start_time": "2021-12-13T15:41:58.080902Z"
    }
   },
   "outputs": [],
   "source": [
    "from preprocess_utils import preprocess_save_raw_df"
   ]
  },
  {
   "cell_type": "code",
   "execution_count": 3,
   "id": "3ef64c55",
   "metadata": {
    "ExecuteTime": {
     "end_time": "2021-12-13T15:43:03.298147Z",
     "start_time": "2021-12-13T15:41:58.586905Z"
    }
   },
   "outputs": [
    {
     "name": "stdout",
     "output_type": "stream",
     "text": [
      "length before filtering 26372\n"
     ]
    },
    {
     "name": "stderr",
     "output_type": "stream",
     "text": [
      "  8%|█████▋                                                                  | 2102/26372 [00:00<00:02, 10409.56it/s]"
     ]
    },
    {
     "name": "stdout",
     "output_type": "stream",
     "text": [
      "Missing label in comment: 150 sentence 234\n",
      "Missing label in comment: 478 sentence 634\n"
     ]
    },
    {
     "name": "stderr",
     "output_type": "stream",
     "text": [
      "\r",
      " 12%|████████▋                                                               | 3160/26372 [00:00<00:02, 10486.96it/s]"
     ]
    },
    {
     "name": "stdout",
     "output_type": "stream",
     "text": [
      "Missing label in comment: 1682 sentence 2875\n",
      "empty comment_ind 2876\n"
     ]
    },
    {
     "name": "stderr",
     "output_type": "stream",
     "text": [
      "\r",
      " 16%|███████████▍                                                            | 4209/26372 [00:00<00:02, 10246.26it/s]"
     ]
    },
    {
     "name": "stdout",
     "output_type": "stream",
     "text": [
      "Missing label in comment: 2316 sentence 4183\n",
      "Missing label in comment: 2316 sentence 4184\n",
      "Missing label in comment: 2473 sentence 4388\n",
      "Missing label in comment: 2543 sentence 4505\n",
      "Missing label in comment: 2604 sentence 4608\n",
      "Missing label in comment: 2744 sentence 4823\n"
     ]
    },
    {
     "name": "stderr",
     "output_type": "stream",
     "text": [
      " 33%|███████████████████████▍                                                | 8597/26372 [00:00<00:01, 10814.35it/s]"
     ]
    },
    {
     "name": "stdout",
     "output_type": "stream",
     "text": [
      "Missing label in comment: 3625 sentence 6199\n",
      "Missing label in comment: 3845 sentence 6863\n",
      "Missing label in comment: 4157 sentence 7468\n",
      "Missing label in comment: 4264 sentence 7713\n",
      "Missing label in comment: 4343 sentence 7808\n",
      "Missing label in comment: 4421 sentence 7926\n",
      "Missing label in comment: 4422 sentence 7927\n",
      "Missing label in comment: 4467 sentence 7993\n",
      "Missing label in comment: 4472 sentence 7999\n",
      "Missing label in comment: 4559 sentence 8140\n",
      "Missing label in comment: 4637 sentence 8333\n",
      "Missing label in comment: 4655 sentence 8404\n",
      "Missing label in comment: 4727 sentence 8570\n",
      "Missing label in comment: 4743 sentence 8595\n"
     ]
    },
    {
     "name": "stderr",
     "output_type": "stream",
     "text": [
      " 49%|██████████████████████████████████▋                                    | 12894/26372 [00:01<00:01, 10560.47it/s]"
     ]
    },
    {
     "name": "stdout",
     "output_type": "stream",
     "text": [
      "Missing label in comment: 5211 sentence 9740\n",
      "Missing label in comment: 5258 sentence 9884\n",
      "Missing label in comment: 5295 sentence 9976\n",
      "Missing label in comment: 5460 sentence 10460\n"
     ]
    },
    {
     "name": "stderr",
     "output_type": "stream",
     "text": [
      " 57%|████████████████████████████████████████▎                              | 14966/26372 [00:01<00:01, 10052.35it/s]"
     ]
    },
    {
     "name": "stdout",
     "output_type": "stream",
     "text": [
      "empty sentence 13831\n"
     ]
    },
    {
     "name": "stderr",
     "output_type": "stream",
     "text": [
      " 76%|██████████████████████████████████████████████████████                 | 20104/26372 [00:01<00:00, 10056.61it/s]"
     ]
    },
    {
     "name": "stdout",
     "output_type": "stream",
     "text": [
      "empty sentence 17354\n",
      "empty sentence 17357\n",
      "empty sentence 17358\n",
      "empty sentence 17365\n",
      "empty sentence 17366\n",
      "empty sentence 17389\n",
      "empty sentence 17390\n",
      "empty sentence 17400\n",
      "empty sentence 17654\n",
      "empty sentence 17674\n",
      "empty sentence 17772\n",
      "empty sentence 17779\n",
      "empty sentence 17786\n"
     ]
    },
    {
     "name": "stderr",
     "output_type": "stream",
     "text": [
      " 96%|███████████████████████████████████████████████████████████████████▊   | 25192/26372 [00:02<00:00, 10092.55it/s]"
     ]
    },
    {
     "name": "stdout",
     "output_type": "stream",
     "text": [
      "empty sentence 23720\n",
      "empty sentence 24273\n",
      "empty sentence 24282\n",
      "empty sentence 24319\n",
      "empty sentence 24320\n",
      "empty sentence 25504\n"
     ]
    },
    {
     "name": "stderr",
     "output_type": "stream",
     "text": [
      "100%|███████████████████████████████████████████████████████████████████████| 26372/26372 [00:02<00:00, 10146.99it/s]\n"
     ]
    },
    {
     "name": "stdout",
     "output_type": "stream",
     "text": [
      "# of unlabeld sents: 27\n",
      "# of sents without comment: 1\n",
      "# of empty sentences 20 \n",
      "length after filtering 26324\n"
     ]
    },
    {
     "name": "stderr",
     "output_type": "stream",
     "text": [
      "100%|████████████████████████████████████████████████████████████████████████| 26324/26324 [00:02<00:00, 9840.77it/s]\n"
     ]
    },
    {
     "name": "stdout",
     "output_type": "stream",
     "text": [
      "example comment: ['add me on steam and get cs go lol you would love that shit lol'] labels: [0]\n",
      "example comment: ['You bet your faggot ass im sending you money right now, keep up the good work numb dick'] labels: [1]\n",
      "@user06652 You can't be serious? Just google \"United Nations\". You may learn something.\n",
      "Feminist = Misandrist\n",
      "Where the fuck do these fat cunts learn this shit?ï»¿\n",
      "bearing holy shit i cant xDD these vids kill me LMAOï»¿\n",
      "dear bearing. you can not be \"mansplaining\" anything. you can only \"bearsplain\". may be \"malebearsplain\" XDï»¿\n",
      "generating merged_comment POS TAGS\n",
      "gen 0 tags\n",
      "gen 5000 tags\n",
      "gen 10000 tags\n",
      "@user06652 You can't be serious?\n",
      "Just google \"United Nations\".\n",
      "You may learn something.\n",
      "Feminist = Misandrist\n",
      "Where the fuck do these fat cunts learn this shit?ï»¿\n",
      "generating Sentence POS TAGS\n",
      "gen 0 tags\n",
      "gen 5000 tags\n",
      "gen 10000 tags\n",
      "gen 15000 tags\n",
      "gen 20000 tags\n",
      "gen 25000 tags\n"
     ]
    }
   ],
   "source": [
    "preprocess_save_raw_df(raw_input_file_path,out_folder_path)"
   ]
  },
  {
   "cell_type": "code",
   "execution_count": 4,
   "id": "167a85b4",
   "metadata": {
    "ExecuteTime": {
     "end_time": "2021-12-13T15:43:03.457147Z",
     "start_time": "2021-12-13T15:43:03.300151Z"
    },
    "run_control": {
     "marked": true
    }
   },
   "outputs": [],
   "source": [
    "import pandas as pd \n",
    "sentences = pd.read_pickle('../preprocessed/try_2/sentence_df')"
   ]
  },
  {
   "cell_type": "code",
   "execution_count": 5,
   "id": "fc49c8e2",
   "metadata": {
    "ExecuteTime": {
     "end_time": "2021-12-13T15:43:03.472148Z",
     "start_time": "2021-12-13T15:43:03.459152Z"
    }
   },
   "outputs": [
    {
     "data": {
      "text/plain": [
       "0            0\n",
       "1            1\n",
       "2            2\n",
       "3            3\n",
       "4            4\n",
       "         ...  \n",
       "26367    26367\n",
       "26368    26368\n",
       "26369    26369\n",
       "26370    26370\n",
       "26371    26371\n",
       "Name: sentence_idx, Length: 26324, dtype: int64"
      ]
     },
     "execution_count": 5,
     "metadata": {},
     "output_type": "execute_result"
    }
   ],
   "source": [
    "sentences['sentence_idx']"
   ]
  },
  {
   "cell_type": "code",
   "execution_count": 6,
   "id": "06498fb4",
   "metadata": {
    "ExecuteTime": {
     "end_time": "2021-12-13T15:43:03.519148Z",
     "start_time": "2021-12-13T15:43:03.474152Z"
    }
   },
   "outputs": [
    {
     "data": {
      "text/html": [
       "<div>\n",
       "<style scoped>\n",
       "    .dataframe tbody tr th:only-of-type {\n",
       "        vertical-align: middle;\n",
       "    }\n",
       "\n",
       "    .dataframe tbody tr th {\n",
       "        vertical-align: top;\n",
       "    }\n",
       "\n",
       "    .dataframe thead th {\n",
       "        text-align: right;\n",
       "    }\n",
       "</style>\n",
       "<table border=\"1\" class=\"dataframe\">\n",
       "  <thead>\n",
       "    <tr style=\"text-align: right;\">\n",
       "      <th></th>\n",
       "      <th>Comment #</th>\n",
       "      <th>Assigned to:</th>\n",
       "      <th>Sentence</th>\n",
       "      <th>Prosocial</th>\n",
       "      <th>Abusive</th>\n",
       "      <th>sentence_idx</th>\n",
       "      <th>label</th>\n",
       "      <th>binarized_label</th>\n",
       "      <th>tokenized</th>\n",
       "      <th>attention</th>\n",
       "      <th>pos_tags</th>\n",
       "    </tr>\n",
       "  </thead>\n",
       "  <tbody>\n",
       "    <tr>\n",
       "      <th>0</th>\n",
       "      <td>1</td>\n",
       "      <td>Lauren</td>\n",
       "      <td>@user06652 You can't be serious?</td>\n",
       "      <td>No</td>\n",
       "      <td>No</td>\n",
       "      <td>0</td>\n",
       "      <td>0</td>\n",
       "      <td>[0, 1]</td>\n",
       "      <td>[$mention$, you, ca, n't, be, serious, \\?]</td>\n",
       "      <td>[0, 0, 0, 0, 0, 0, 0]</td>\n",
       "      <td>[@, O, V, V, A, ,]</td>\n",
       "    </tr>\n",
       "    <tr>\n",
       "      <th>1</th>\n",
       "      <td>1</td>\n",
       "      <td>Lauren</td>\n",
       "      <td>Just google \"United Nations\".</td>\n",
       "      <td>No</td>\n",
       "      <td>No</td>\n",
       "      <td>1</td>\n",
       "      <td>0</td>\n",
       "      <td>[0, 1]</td>\n",
       "      <td>[just, google, united, nations]</td>\n",
       "      <td>[0, 0, 0, 0]</td>\n",
       "      <td>[R, ^, ,, ^, N, ,, ,]</td>\n",
       "    </tr>\n",
       "    <tr>\n",
       "      <th>2</th>\n",
       "      <td>1</td>\n",
       "      <td>Lauren</td>\n",
       "      <td>You may learn something.</td>\n",
       "      <td>No</td>\n",
       "      <td>No</td>\n",
       "      <td>2</td>\n",
       "      <td>0</td>\n",
       "      <td>[0, 1]</td>\n",
       "      <td>[you, may, learn, something]</td>\n",
       "      <td>[0, 0, 0, 0]</td>\n",
       "      <td>[O, V, V, N, ,]</td>\n",
       "    </tr>\n",
       "    <tr>\n",
       "      <th>3</th>\n",
       "      <td>2</td>\n",
       "      <td>Lauren</td>\n",
       "      <td>Feminist = Misandrist</td>\n",
       "      <td>No</td>\n",
       "      <td>Yes</td>\n",
       "      <td>3</td>\n",
       "      <td>1</td>\n",
       "      <td>[1, 0]</td>\n",
       "      <td>[feminist, misandrist]</td>\n",
       "      <td>[1, 1]</td>\n",
       "      <td>[A, ,, ^]</td>\n",
       "    </tr>\n",
       "    <tr>\n",
       "      <th>4</th>\n",
       "      <td>3</td>\n",
       "      <td>Lauren</td>\n",
       "      <td>Where the fuck do these fat cunts learn this s...</td>\n",
       "      <td>No</td>\n",
       "      <td>Yes</td>\n",
       "      <td>4</td>\n",
       "      <td>1</td>\n",
       "      <td>[1, 0]</td>\n",
       "      <td>[where, the, fuck, do, these, fat, cunts, lear...</td>\n",
       "      <td>[1, 1, 1, 1, 1, 1, 1, 1, 1, 1, 1]</td>\n",
       "      <td>[R, D, N, V, D, A, N, V, D, N, ,, G]</td>\n",
       "    </tr>\n",
       "    <tr>\n",
       "      <th>...</th>\n",
       "      <td>...</td>\n",
       "      <td>...</td>\n",
       "      <td>...</td>\n",
       "      <td>...</td>\n",
       "      <td>...</td>\n",
       "      <td>...</td>\n",
       "      <td>...</td>\n",
       "      <td>...</td>\n",
       "      <td>...</td>\n",
       "      <td>...</td>\n",
       "      <td>...</td>\n",
       "    </tr>\n",
       "    <tr>\n",
       "      <th>26367</th>\n",
       "      <td>13038</td>\n",
       "      <td>Tiana</td>\n",
       "      <td>I will donate and I would encourage others to ...</td>\n",
       "      <td>No</td>\n",
       "      <td>No</td>\n",
       "      <td>26367</td>\n",
       "      <td>0</td>\n",
       "      <td>[0, 1]</td>\n",
       "      <td>[i, will, donate, and, i, would, encourage, ot...</td>\n",
       "      <td>[0, 0, 0, 0, 0, 0, 0, 0, 0, 0, 0]</td>\n",
       "      <td>[O, V, V, &amp;, O, V, V, N, P, V, O, ,]</td>\n",
       "    </tr>\n",
       "    <tr>\n",
       "      <th>26368</th>\n",
       "      <td>13038</td>\n",
       "      <td>Tiana</td>\n",
       "      <td>Do anything it takes to destroy these stupid c...</td>\n",
       "      <td>No</td>\n",
       "      <td>Yes</td>\n",
       "      <td>26368</td>\n",
       "      <td>1</td>\n",
       "      <td>[1, 0]</td>\n",
       "      <td>[do, anything, it, takes, to, destroy, these, ...</td>\n",
       "      <td>[1, 1, 1, 1, 1, 1, 1, 1, 1, 1]</td>\n",
       "      <td>[V, N, O, V, P, V, D, A, N, ,]</td>\n",
       "    </tr>\n",
       "    <tr>\n",
       "      <th>26369</th>\n",
       "      <td>13039</td>\n",
       "      <td>Tiana</td>\n",
       "      <td>\"100 lkies\". Try 6k :D</td>\n",
       "      <td>No</td>\n",
       "      <td>No</td>\n",
       "      <td>26369</td>\n",
       "      <td>0</td>\n",
       "      <td>[0, 1]</td>\n",
       "      <td>[100, lkies, try, $number$k, $smiley$]</td>\n",
       "      <td>[0, 0, 0, 0, 0]</td>\n",
       "      <td>[,, $, N, ,, ,, V, $, E]</td>\n",
       "    </tr>\n",
       "    <tr>\n",
       "      <th>26370</th>\n",
       "      <td>13040</td>\n",
       "      <td>Tiana</td>\n",
       "      <td>You bet your faggot ass im sending you money r...</td>\n",
       "      <td>No</td>\n",
       "      <td>Yes</td>\n",
       "      <td>26370</td>\n",
       "      <td>1</td>\n",
       "      <td>[1, 0]</td>\n",
       "      <td>[you, bet, your, faggot, ass, im, sending, you...</td>\n",
       "      <td>[1, 1, 1, 1, 1, 1, 1, 1, 1, 1, 1, 1, 1, 1, 1, ...</td>\n",
       "      <td>[O, V, D, N, N, L, V, O, N, R, R, ,, V, T, D, ...</td>\n",
       "    </tr>\n",
       "    <tr>\n",
       "      <th>26371</th>\n",
       "      <td>13041</td>\n",
       "      <td>Tiana</td>\n",
       "      <td>add me on steam and get cs go lol you would lo...</td>\n",
       "      <td>No</td>\n",
       "      <td>No</td>\n",
       "      <td>26371</td>\n",
       "      <td>0</td>\n",
       "      <td>[0, 1]</td>\n",
       "      <td>[add, me, on, steam, and, get, cs, go, lol, yo...</td>\n",
       "      <td>[0, 0, 0, 0, 0, 0, 0, 0, 0, 0, 0, 0, 0, 0, 0]</td>\n",
       "      <td>[V, O, P, N, &amp;, V, N, V, !, O, V, V, D, N, !]</td>\n",
       "    </tr>\n",
       "  </tbody>\n",
       "</table>\n",
       "<p>26324 rows × 11 columns</p>\n",
       "</div>"
      ],
      "text/plain": [
       "      Comment # Assigned to:  \\\n",
       "0             1       Lauren   \n",
       "1             1       Lauren   \n",
       "2             1       Lauren   \n",
       "3             2       Lauren   \n",
       "4             3       Lauren   \n",
       "...         ...          ...   \n",
       "26367     13038        Tiana   \n",
       "26368     13038        Tiana   \n",
       "26369     13039        Tiana   \n",
       "26370     13040        Tiana   \n",
       "26371     13041        Tiana   \n",
       "\n",
       "                                                Sentence Prosocial Abusive  \\\n",
       "0                       @user06652 You can't be serious?        No      No   \n",
       "1                          Just google \"United Nations\".        No      No   \n",
       "2                               You may learn something.        No      No   \n",
       "3                                  Feminist = Misandrist        No     Yes   \n",
       "4      Where the fuck do these fat cunts learn this s...        No     Yes   \n",
       "...                                                  ...       ...     ...   \n",
       "26367  I will donate and I would encourage others to ...        No      No   \n",
       "26368  Do anything it takes to destroy these stupid c...        No     Yes   \n",
       "26369                             \"100 lkies\". Try 6k :D        No      No   \n",
       "26370  You bet your faggot ass im sending you money r...        No     Yes   \n",
       "26371  add me on steam and get cs go lol you would lo...        No      No   \n",
       "\n",
       "       sentence_idx  label binarized_label  \\\n",
       "0                 0      0          [0, 1]   \n",
       "1                 1      0          [0, 1]   \n",
       "2                 2      0          [0, 1]   \n",
       "3                 3      1          [1, 0]   \n",
       "4                 4      1          [1, 0]   \n",
       "...             ...    ...             ...   \n",
       "26367         26367      0          [0, 1]   \n",
       "26368         26368      1          [1, 0]   \n",
       "26369         26369      0          [0, 1]   \n",
       "26370         26370      1          [1, 0]   \n",
       "26371         26371      0          [0, 1]   \n",
       "\n",
       "                                               tokenized  \\\n",
       "0             [$mention$, you, ca, n't, be, serious, \\?]   \n",
       "1                        [just, google, united, nations]   \n",
       "2                           [you, may, learn, something]   \n",
       "3                                 [feminist, misandrist]   \n",
       "4      [where, the, fuck, do, these, fat, cunts, lear...   \n",
       "...                                                  ...   \n",
       "26367  [i, will, donate, and, i, would, encourage, ot...   \n",
       "26368  [do, anything, it, takes, to, destroy, these, ...   \n",
       "26369             [100, lkies, try, $number$k, $smiley$]   \n",
       "26370  [you, bet, your, faggot, ass, im, sending, you...   \n",
       "26371  [add, me, on, steam, and, get, cs, go, lol, yo...   \n",
       "\n",
       "                                               attention  \\\n",
       "0                                  [0, 0, 0, 0, 0, 0, 0]   \n",
       "1                                           [0, 0, 0, 0]   \n",
       "2                                           [0, 0, 0, 0]   \n",
       "3                                                 [1, 1]   \n",
       "4                      [1, 1, 1, 1, 1, 1, 1, 1, 1, 1, 1]   \n",
       "...                                                  ...   \n",
       "26367                  [0, 0, 0, 0, 0, 0, 0, 0, 0, 0, 0]   \n",
       "26368                     [1, 1, 1, 1, 1, 1, 1, 1, 1, 1]   \n",
       "26369                                    [0, 0, 0, 0, 0]   \n",
       "26370  [1, 1, 1, 1, 1, 1, 1, 1, 1, 1, 1, 1, 1, 1, 1, ...   \n",
       "26371      [0, 0, 0, 0, 0, 0, 0, 0, 0, 0, 0, 0, 0, 0, 0]   \n",
       "\n",
       "                                                pos_tags  \n",
       "0                                     [@, O, V, V, A, ,]  \n",
       "1                                  [R, ^, ,, ^, N, ,, ,]  \n",
       "2                                        [O, V, V, N, ,]  \n",
       "3                                              [A, ,, ^]  \n",
       "4                   [R, D, N, V, D, A, N, V, D, N, ,, G]  \n",
       "...                                                  ...  \n",
       "26367               [O, V, V, &, O, V, V, N, P, V, O, ,]  \n",
       "26368                     [V, N, O, V, P, V, D, A, N, ,]  \n",
       "26369                           [,, $, N, ,, ,, V, $, E]  \n",
       "26370  [O, V, D, N, N, L, V, O, N, R, R, ,, V, T, D, ...  \n",
       "26371      [V, O, P, N, &, V, N, V, !, O, V, V, D, N, !]  \n",
       "\n",
       "[26324 rows x 11 columns]"
      ]
     },
     "execution_count": 6,
     "metadata": {},
     "output_type": "execute_result"
    }
   ],
   "source": [
    "sentences"
   ]
  },
  {
   "cell_type": "code",
   "execution_count": 7,
   "id": "41f8ee04",
   "metadata": {
    "ExecuteTime": {
     "end_time": "2021-12-13T15:43:03.551150Z",
     "start_time": "2021-12-13T15:43:03.520151Z"
    }
   },
   "outputs": [
    {
     "data": {
      "text/html": [
       "<div>\n",
       "<style scoped>\n",
       "    .dataframe tbody tr th:only-of-type {\n",
       "        vertical-align: middle;\n",
       "    }\n",
       "\n",
       "    .dataframe tbody tr th {\n",
       "        vertical-align: top;\n",
       "    }\n",
       "\n",
       "    .dataframe thead th {\n",
       "        text-align: right;\n",
       "    }\n",
       "</style>\n",
       "<table border=\"1\" class=\"dataframe\">\n",
       "  <thead>\n",
       "    <tr style=\"text-align: right;\">\n",
       "      <th></th>\n",
       "      <th>Comment #</th>\n",
       "      <th>Assigned to:</th>\n",
       "      <th>Sentence</th>\n",
       "      <th>Prosocial</th>\n",
       "      <th>Abusive</th>\n",
       "      <th>sentence_idx</th>\n",
       "      <th>label</th>\n",
       "      <th>binarized_label</th>\n",
       "      <th>tokenized</th>\n",
       "      <th>attention</th>\n",
       "      <th>pos_tags</th>\n",
       "    </tr>\n",
       "  </thead>\n",
       "  <tbody>\n",
       "  </tbody>\n",
       "</table>\n",
       "</div>"
      ],
      "text/plain": [
       "Empty DataFrame\n",
       "Columns: [Comment #, Assigned to:, Sentence, Prosocial, Abusive, sentence_idx, label, binarized_label, tokenized, attention, pos_tags]\n",
       "Index: []"
      ]
     },
     "execution_count": 7,
     "metadata": {},
     "output_type": "execute_result"
    }
   ],
   "source": [
    "sentences[sentences['sentence_idx']==4183]"
   ]
  },
  {
   "cell_type": "code",
   "execution_count": null,
   "id": "f58343fa",
   "metadata": {},
   "outputs": [],
   "source": []
  }
 ],
 "metadata": {
  "kernelspec": {
   "display_name": "Python 3",
   "language": "python",
   "name": "python3"
  },
  "language_info": {
   "codemirror_mode": {
    "name": "ipython",
    "version": 3
   },
   "file_extension": ".py",
   "mimetype": "text/x-python",
   "name": "python",
   "nbconvert_exporter": "python",
   "pygments_lexer": "ipython3",
   "version": "3.6.13"
  },
  "toc": {
   "base_numbering": 1,
   "nav_menu": {},
   "number_sections": true,
   "sideBar": true,
   "skip_h1_title": false,
   "title_cell": "Table of Contents",
   "title_sidebar": "Contents",
   "toc_cell": false,
   "toc_position": {},
   "toc_section_display": true,
   "toc_window_display": false
  },
  "varInspector": {
   "cols": {
    "lenName": 16,
    "lenType": 16,
    "lenVar": 40
   },
   "kernels_config": {
    "python": {
     "delete_cmd_postfix": "",
     "delete_cmd_prefix": "del ",
     "library": "var_list.py",
     "varRefreshCmd": "print(var_dic_list())"
    },
    "r": {
     "delete_cmd_postfix": ") ",
     "delete_cmd_prefix": "rm(",
     "library": "var_list.r",
     "varRefreshCmd": "cat(var_dic_list()) "
    }
   },
   "types_to_exclude": [
    "module",
    "function",
    "builtin_function_or_method",
    "instance",
    "_Feature"
   ],
   "window_display": false
  }
 },
 "nbformat": 4,
 "nbformat_minor": 5
}
