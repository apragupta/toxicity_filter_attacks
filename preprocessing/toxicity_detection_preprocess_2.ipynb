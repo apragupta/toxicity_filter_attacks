{
 "cells": [
  {
   "cell_type": "markdown",
   "id": "88a7581e",
   "metadata": {},
   "source": [
    "## Step 2 for preprocessing training and test data: custom functions for tokenizing and POS tagging"
   ]
  },
  {
   "cell_type": "code",
   "execution_count": 3,
   "id": "40f5d5d1",
   "metadata": {
    "ExecuteTime": {
     "end_time": "2021-11-19T04:43:31.871330Z",
     "start_time": "2021-11-19T04:43:31.865334Z"
    }
   },
   "outputs": [
    {
     "ename": "ImportError",
     "evalue": "cannot import name 'get_pos_of_file' from 'twitter_pos_tagger' (C:\\Users\\apra\\Desktop\\FALL 2021\\CY 7990\\toxicity_filter_attacks\\preprocessing\\twitter_pos_tagger.py)",
     "output_type": "error",
     "traceback": [
      "\u001B[1;31m---------------------------------------------------------------------------\u001B[0m",
      "\u001B[1;31mImportError\u001B[0m                               Traceback (most recent call last)",
      "\u001B[1;32m~\\AppData\\Local\\Temp/ipykernel_7124/2005827976.py\u001B[0m in \u001B[0;36m<module>\u001B[1;34m\u001B[0m\n\u001B[0;32m      2\u001B[0m \u001B[1;32mimport\u001B[0m \u001B[0mpickle\u001B[0m\u001B[1;33m\u001B[0m\u001B[1;33m\u001B[0m\u001B[0m\n\u001B[0;32m      3\u001B[0m \u001B[1;32mimport\u001B[0m \u001B[0mos\u001B[0m\u001B[1;33m\u001B[0m\u001B[1;33m\u001B[0m\u001B[0m\n\u001B[1;32m----> 4\u001B[1;33m \u001B[1;32mfrom\u001B[0m \u001B[0mtwitter_pos_tagger\u001B[0m \u001B[1;32mimport\u001B[0m \u001B[0mget_pos_of_file\u001B[0m\u001B[1;33m\u001B[0m\u001B[1;33m\u001B[0m\u001B[0m\n\u001B[0m\u001B[0;32m      5\u001B[0m \u001B[1;33m\u001B[0m\u001B[0m\n",
      "\u001B[1;31mImportError\u001B[0m: cannot import name 'get_pos_of_file' from 'twitter_pos_tagger' (C:\\Users\\apra\\Desktop\\FALL 2021\\CY 7990\\toxicity_filter_attacks\\preprocessing\\twitter_pos_tagger.py)"
     ]
    }
   ],
   "source": [
    "#imports \n",
    "import pickle\n",
    "import os\n",
    "from twitter_pos_tagger import get_pos_of_file"
   ]
  },
  {
   "cell_type": "code",
   "execution_count": 25,
   "id": "a811876c",
   "metadata": {
    "ExecuteTime": {
     "end_time": "2021-11-19T04:43:33.932330Z",
     "start_time": "2021-11-19T04:43:33.919335Z"
    }
   },
   "outputs": [],
   "source": [
    "#folders we will be pulling from and writing to \n",
    "dump_folder_name = \"dump_2\"\n",
    "dump_folder = os.path.join(os.path.dirname(os.getcwd()), f\"preprocessing/{dump_folder_name}/\")\n",
    "tweet_pos_folder = os.path.join(dump_folder_name,\"for_pos\")"
   ]
  },
  {
   "cell_type": "code",
   "execution_count": 27,
   "id": "f93fa14b",
   "metadata": {
    "ExecuteTime": {
     "end_time": "2021-11-19T04:43:41.728877Z",
     "start_time": "2021-11-19T04:43:41.720882Z"
    }
   },
   "outputs": [],
   "source": [
    "#open the pos corpus file to write in\n",
    "pos_corpus_file = open(os.path.join(dump_folder, \"pos_corpus.txt\"), \"w\")"
   ]
  },
  {
   "cell_type": "markdown",
   "id": "5985595e",
   "metadata": {},
   "source": [
    "## First for train comments (we use raw for some reason)"
   ]
  },
  {
   "cell_type": "code",
   "execution_count": 28,
   "id": "8574f084",
   "metadata": {
    "ExecuteTime": {
     "end_time": "2021-11-19T04:44:02.692539Z",
     "start_time": "2021-11-19T04:43:43.704119Z"
    }
   },
   "outputs": [
    {
     "name": "stdout",
     "output_type": "stream",
     "text": [
      "Either she has a pig nose... Or she has her camera at a bad angle.. I couldn't help but notice that I could see up her nostrils most of her clips lol..\n",
      "You ramble.ï»¿\n",
      "STOP SPEAKING HATE SPEAK LAND WALRUSï»¿\n",
      "Whore\n",
      "@user03476 you don't have to be religious, if she make some video about IS, she's screwed!\n"
     ]
    }
   ],
   "source": [
    "#file we will be pulling from and writing to \n",
    "raw_comm_data_file = \"raw_train_comm.data\"\n",
    "out_pos_file = \"train_comm_pos.data\"\n",
    "\n",
    "\n",
    "with open(os.path.join(dump_folder, raw_comm_data_file), \"rb\") as handle:\n",
    "        comment_list, _ = pickle.load(handle)\n",
    "        \n",
    "        \n",
    "pos_comment_list = []\n",
    "max_sent_num = 5000\n",
    "ind = 0\n",
    "\n",
    "for i in range(5):\n",
    "    print(comment_list[i])\n",
    "    \n",
    "    \n",
    "while (ind < len(comment_list)):\n",
    "    comm_list = comment_list[ind: ind + max_sent_num]\n",
    "    \n",
    "    #name of file to save newline seperated comments in \n",
    "    for_pos_filename = f\"{raw_comm_data_file}_{ind}.txt\"\n",
    "    \n",
    "    #path of file to save newline seperated comments in \n",
    "    for_pos_filepath = os.path.join(tweet_pos_folder,for_pos_filename)\n",
    "    \n",
    "    \n",
    "    #first, we write these tweets (newline seperated) into a text file\n",
    "    with open (for_pos_filepath, 'w',encoding=\"utf-8\") as f:\n",
    "        for comm in comm_list:\n",
    "            f.write(str(comm+'\\n'))\n",
    "            \n",
    "            \n",
    "    #then, we can run the pos tagger on that file and get the tags for each token\n",
    "    pos_tags = get_pos_of_file(for_pos_filepath)\n",
    "    \n",
    "    #for each comment \n",
    "    pos_list = [comm[1] for comm in pos_tags]\n",
    "    pos_comment_list = pos_comment_list + pos_list\n",
    "            \n",
    "            \n",
    "    \n",
    "    ind += max_sent_num\n",
    "    \n",
    "\n"
   ]
  },
  {
   "cell_type": "code",
   "execution_count": 29,
   "id": "e79d69cf",
   "metadata": {
    "ExecuteTime": {
     "end_time": "2021-11-19T04:44:05.898538Z",
     "start_time": "2021-11-19T04:44:05.886536Z"
    },
    "scrolled": false
   },
   "outputs": [
    {
     "name": "stdout",
     "output_type": "stream",
     "text": [
      "['&', 'O', 'V', 'D', 'N', 'N', ',', '&', 'O', 'V', 'D', 'N', 'P', 'D', 'A', 'N', ',', 'O', 'V', 'V', '&', 'V', 'P', 'O', 'V', 'V', 'T', 'D', 'N', 'R', 'P', 'D', 'N', '!', ',']\n",
      "['O', 'V', ',', 'G']\n",
      "['V', 'V', 'V', 'V', '^', '^']\n",
      "['N']\n",
      "['@', 'O', 'V', 'V', 'P', 'V', 'A', ',', 'P', 'O', 'V', 'D', 'N', 'P', 'V', ',', 'L', 'V', ',']\n",
      "9232\n"
     ]
    }
   ],
   "source": [
    "for i in range(5):\n",
    "    print(pos_comment_list[i])\n",
    "    \n",
    "print(len(pos_comment_list))"
   ]
  },
  {
   "cell_type": "code",
   "execution_count": 30,
   "id": "f61ba85e",
   "metadata": {
    "ExecuteTime": {
     "end_time": "2021-11-19T04:44:09.106034Z",
     "start_time": "2021-11-19T04:44:09.075033Z"
    }
   },
   "outputs": [
    {
     "data": {
      "text/plain": [
       "1"
      ]
     },
     "execution_count": 30,
     "metadata": {},
     "output_type": "execute_result"
    }
   ],
   "source": [
    "#save th pos tags per comment\n",
    "with open(os.path.join(dump_folder, out_pos_file), \"wb\") as handle:\n",
    "    pickle.dump(pos_comment_list, handle)\n",
    "\n",
    "    \n",
    "#write to the vocab file \n",
    "pos_corpus_file.write(\"\\n\".join([\" \".join(pos_comm) for pos_comm in pos_comment_list]))\n",
    "pos_corpus_file.write(\"\\n\")"
   ]
  },
  {
   "cell_type": "markdown",
   "id": "e5d3ff77",
   "metadata": {},
   "source": [
    "## Then for test comments"
   ]
  },
  {
   "cell_type": "code",
   "execution_count": 31,
   "id": "e540513a",
   "metadata": {
    "ExecuteTime": {
     "end_time": "2021-11-19T04:44:17.754653Z",
     "start_time": "2021-11-19T04:44:12.294653Z"
    }
   },
   "outputs": [
    {
     "name": "stdout",
     "output_type": "stream",
     "text": [
      "Nice try. I'm a conservative libertarian. But I can spot a racist from a mile away. Because they make comments like that. Stupid, senseless, idiotic, mind-numbing, low I.Q. comments. Designed to not only insult one person, but an entire ra\n",
      "fucking cultural marxists. there is a feminist in my school who would not let me criticize Islam or the middle east, cause ''that's there culture and beliefs''.\n",
      "@user03185 *\"Kate's Wall will be a fat one.\"* That's *MEAN!*\n",
      "'+Red Robot I must say your video isn't very good :( .. 1 ) of course it matters if a statement comes from a Child /Teenager or Adult ... 2 ) And if your Ideology and statements in your videos are against the TOS of Youtube you should find a different p\n",
      "What comic is that in the background?ï»¿\n"
     ]
    }
   ],
   "source": [
    "#file we will be pulling from and writing to \n",
    "raw_comm_data_file = \"raw_test_comm.data\"\n",
    "out_pos_file = \"test_comm_pos.data\"\n",
    "\n",
    "\n",
    "with open(os.path.join(dump_folder, raw_comm_data_file), \"rb\") as handle:\n",
    "        comment_list, _ = pickle.load(handle)\n",
    "        \n",
    "        \n",
    "pos_comment_list = []\n",
    "max_sent_num = 5000\n",
    "ind = 0\n",
    "\n",
    "for i in range(5):\n",
    "    print(comment_list[i])\n",
    "    \n",
    "    \n",
    "while (ind < len(comment_list)):\n",
    "    comm_list = comment_list[ind: ind + max_sent_num]\n",
    "    \n",
    "    #name of file to save newline seperated comments in \n",
    "    for_pos_filename = f\"{raw_comm_data_file}_{ind}.txt\"\n",
    "    \n",
    "    #path of file to save newline seperated comments in \n",
    "    for_pos_filepath = os.path.join(tweet_pos_folder,for_pos_filename)\n",
    "    \n",
    "    \n",
    "    #first, we write these tweets (newline seperated) into a text file\n",
    "    with open (for_pos_filepath, 'w',encoding=\"utf-8\") as f:\n",
    "        for comm in comm_list:\n",
    "            f.write(str(comm+'\\n'))\n",
    "            \n",
    "            \n",
    "    #then, we can run the pos tagger on that file and get the tags for each token\n",
    "    pos_tags = get_pos_of_file(for_pos_filepath)\n",
    "    \n",
    "    #for each comment \n",
    "    pos_list = [comm[1] for comm in pos_tags]\n",
    "    pos_comment_list = pos_comment_list + pos_list\n",
    "            \n",
    "            \n",
    "    \n",
    "    ind += max_sent_num\n",
    "    \n",
    "\n"
   ]
  },
  {
   "cell_type": "code",
   "execution_count": 32,
   "id": "b2b416bb",
   "metadata": {
    "ExecuteTime": {
     "end_time": "2021-11-19T04:44:19.968652Z",
     "start_time": "2021-11-19T04:44:19.954653Z"
    },
    "scrolled": false
   },
   "outputs": [
    {
     "name": "stdout",
     "output_type": "stream",
     "text": [
      "['A', 'N', ',', 'L', 'D', 'A', 'A', ',', '&', 'O', 'V', 'V', 'D', 'A', 'P', 'D', 'N', 'R', ',', 'P', 'O', 'V', 'N', 'P', 'O', ',', 'A', ',', 'A', ',', 'A', ',', 'A', ',', 'A', 'N', 'N', ',', 'V', 'P', 'R', 'R', 'V', '$', 'N', ',', '&', 'D', 'A', 'N']\n",
      "['R', 'A', 'N', ',', 'X', 'V', 'D', 'A', 'P', 'D', 'N', 'O', 'V', 'R', 'V', 'O', 'V', '^', '&', 'D', 'N', 'A', ',', 'P', ',', 'L', 'R', 'N', '&', 'N', ',', ',']\n",
      "['@', ',', ',', 'Z', '^', 'V', 'V', 'D', 'A', '$', ',', ',', ',', 'L', ',', 'V', ',', ',']\n",
      "[',', 'A', 'N', 'O', 'V', 'V', 'D', 'N', 'V', 'R', 'A', 'E', ',', '$', ',', 'P', 'N', 'O', 'V', 'P', 'D', 'N', 'V', 'P', 'D', 'N', 'N', '&', 'N', ',', '$', ',', '&', 'P', 'D', 'N', '&', 'N', 'P', 'D', 'N', 'V', 'P', 'D', 'N', 'P', '^', 'O', 'V', 'V', 'D', 'A', 'N']\n",
      "['O', 'N', 'V', 'O', 'P', 'D', 'N', ',', 'G']\n",
      "2308\n"
     ]
    }
   ],
   "source": [
    "for i in range(5):\n",
    "    print(pos_comment_list[i])\n",
    "    \n",
    "print(len(pos_comment_list))"
   ]
  },
  {
   "cell_type": "code",
   "execution_count": 33,
   "id": "e433b5d7",
   "metadata": {
    "ExecuteTime": {
     "end_time": "2021-11-19T04:44:22.061652Z",
     "start_time": "2021-11-19T04:44:22.046653Z"
    }
   },
   "outputs": [
    {
     "data": {
      "text/plain": [
       "1"
      ]
     },
     "execution_count": 33,
     "metadata": {},
     "output_type": "execute_result"
    }
   ],
   "source": [
    "#save th pos tags per comment\n",
    "with open(os.path.join(dump_folder, out_pos_file), \"wb\") as handle:\n",
    "    pickle.dump(pos_comment_list, handle)\n",
    "\n",
    "    \n",
    "#write to the vocab file \n",
    "pos_corpus_file.write(\"\\n\".join([\" \".join(pos_comm) for pos_comm in pos_comment_list]))\n",
    "pos_corpus_file.write(\"\\n\")"
   ]
  },
  {
   "cell_type": "code",
   "execution_count": 34,
   "id": "23d08e1f",
   "metadata": {
    "ExecuteTime": {
     "end_time": "2021-11-19T04:44:24.334653Z",
     "start_time": "2021-11-19T04:44:24.321655Z"
    }
   },
   "outputs": [],
   "source": [
    "#finally, dont forget to close the pos corpus!\n",
    "pos_corpus_file.close()"
   ]
  },
  {
   "cell_type": "code",
   "execution_count": null,
   "id": "49cfd840",
   "metadata": {},
   "outputs": [],
   "source": []
  }
 ],
 "metadata": {
  "kernelspec": {
   "display_name": "Python 3 (ipykernel)",
   "language": "python",
   "name": "python3"
  },
  "language_info": {
   "codemirror_mode": {
    "name": "ipython",
    "version": 3
   },
   "file_extension": ".py",
   "mimetype": "text/x-python",
   "name": "python",
   "nbconvert_exporter": "python",
   "pygments_lexer": "ipython3",
   "version": "3.8.12"
  },
  "toc": {
   "base_numbering": 1,
   "nav_menu": {},
   "number_sections": true,
   "sideBar": true,
   "skip_h1_title": false,
   "title_cell": "Table of Contents",
   "title_sidebar": "Contents",
   "toc_cell": false,
   "toc_position": {},
   "toc_section_display": true,
   "toc_window_display": false
  },
  "varInspector": {
   "cols": {
    "lenName": 16,
    "lenType": 16,
    "lenVar": 40
   },
   "kernels_config": {
    "python": {
     "delete_cmd_postfix": "",
     "delete_cmd_prefix": "del ",
     "library": "var_list.py",
     "varRefreshCmd": "print(var_dic_list())"
    },
    "r": {
     "delete_cmd_postfix": ") ",
     "delete_cmd_prefix": "rm(",
     "library": "var_list.r",
     "varRefreshCmd": "cat(var_dic_list()) "
    }
   },
   "types_to_exclude": [
    "module",
    "function",
    "builtin_function_or_method",
    "instance",
    "_Feature"
   ],
   "window_display": false
  }
 },
 "nbformat": 4,
 "nbformat_minor": 5
}