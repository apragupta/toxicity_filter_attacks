{
 "cells": [
  {
   "cell_type": "markdown",
   "id": "3f4a350a",
   "metadata": {
    "ExecuteTime": {
     "end_time": "2021-12-06T07:09:07.158000Z",
     "start_time": "2021-12-06T07:09:07.153999Z"
    }
   },
   "source": [
    "# Run Attacks\n",
    "\n",
    "## This attack simply inserts high-confidence 'positive' words based on queries from the test set to the model on sentences around that are negative. \n",
    "\n",
    "- This is a black box attack, assumes only access to confidence predictions and some preexising dataset of sentences, which may be benign.\n",
    "\n"
   ]
  },
  {
   "cell_type": "markdown",
   "id": "ac9b62a6",
   "metadata": {},
   "source": [
    "## STEPS\n",
    "1. Load all test sentences\n",
    "2. Score them individually\n",
    "3. Get top N (10?) benign, with high-confidence \n",
    "4. Generate attack tests (vary combinations of (`a=0,1,2` and `b=0,1,2`):\n",
    " - Adding `a` sentences before and `b` sentences after, chosen randomly from step3"
   ]
  },
  {
   "cell_type": "code",
   "execution_count": 14,
   "id": "c0a66eb8",
   "metadata": {
    "ExecuteTime": {
     "end_time": "2021-12-06T09:20:07.274883Z",
     "start_time": "2021-12-06T09:20:07.258884Z"
    }
   },
   "outputs": [],
   "source": [
    "import pickle\n",
    "import os \n",
    "import pandas as pd \n",
    "from collections import Counter\n",
    "import sys\n",
    "import tensorflow as tf\n",
    "from experiments import params\n",
    "from data_utils_v2.data_helpers import genFeatures, loadVocabEmb,genPOSFeatures\n",
    "from model.abuse_classifier import AbuseClassifier\n",
    "import numpy as np\n",
    "from sklearn.metrics import accuracy_score\n",
    "from tqdm import trange"
   ]
  },
  {
   "cell_type": "code",
   "execution_count": 2,
   "id": "8006169a",
   "metadata": {},
   "outputs": [],
   "source": [
    "#define the model type and attention loss type we are testing\n",
    "\n",
    "# MODEL_TYPE = \"model_att=encoded_checkpoints\"\n",
    "MODEL_TYPE = \"model_noatt_checkpoints\"\n",
    "ATTENTION_LOSS_TYPE = \"encoded\"\n",
    "comm_or_sent = \"sent\"\n",
    "\n",
    "#if model type is no attention, attention lambda should be 0\n",
    "if MODEL_TYPE == \"model_noatt_checkpoints\":\n",
    "    attention_lambda = 0.0\n",
    "    ATTENTION_LOSS_TYPE = \"none\"\n",
    "else:\n",
    "    attention_lambda = 0.2"
   ]
  },
  {
   "cell_type": "code",
   "execution_count": 3,
   "id": "c69cc37f",
   "metadata": {},
   "outputs": [],
   "source": [
    "CLASSIFICATION_THRESHOLD = 0.3"
   ]
  },
  {
   "cell_type": "code",
   "execution_count": 4,
   "id": "a82e0289",
   "metadata": {},
   "outputs": [],
   "source": [
    "flags = tf.app.flags\n",
    "\n",
    "tf.flags.DEFINE_integer(\"embedding_dim\", 300, \"Dimensionality of character embedding (default: 128)\")\n",
    "tf.flags.DEFINE_integer(\"pos_vocab_size\", 26, \"Vocab size of POS tags\")\n",
    "tf.flags.DEFINE_integer(\"pos_embedding_dim\", 25, \"Dimensionality of pos tag embedding (default: 20)\")\n",
    "tf.flags.DEFINE_float(\"dropout_keep_prob\", 1.0, \"Dropout keep probability (default: 0.5)\")\n",
    "tf.flags.DEFINE_float(\"attention_lambda\", attention_lambda, \"Supervised attention lambda (default: 0.05)\")\n",
    "tf.flags.DEFINE_string(\"attention_loss_type\", ATTENTION_LOSS_TYPE, \"loss function of attention\")\n",
    "tf.flags.DEFINE_float(\"l2_reg_lambda\", 0.02, \"L2 regularization lambda (default: 0.05)\")\n",
    "tf.flags.DEFINE_integer(\"hidden_size\", 300, \"Dimensionality of RNN cell (default: 300)\")\n",
    "tf.flags.DEFINE_integer(\"pos_hidden_size\", 25, \"Dimensionality of POS-RNN cell\")\n",
    "tf.flags.DEFINE_integer(\"attention_size\", 20, \"Dimensionality of attention scheme (default: 50)\")\n",
    "tf.flags.DEFINE_boolean(\"use_pos_flag\", True, \"use the sequence of POS tags\")\n",
    "# Training parameters -- evaluate_every should be 100\n",
    "tf.flags.DEFINE_integer(\"batch_size\", 32, \"Batch Size (default: 32)\")\n",
    "tf.flags.DEFINE_integer(\"num_epochs\", 60, \"Number of training epochs (default: 200)\")\n",
    "tf.flags.DEFINE_integer(\"evaluate_every\", 50, \"Evaluate model on dev set after this many steps (default: 100)\")\n",
    "tf.flags.DEFINE_integer(\"checkpoint_every\", 500000, \"Save model after this many steps (default: 100)\")\n",
    "# tf.flags.DEFINE_float(\"train_ratio\", 1.0, \"Ratio of training data\")\n",
    "# Misc Parameters\n",
    "tf.flags.DEFINE_string(\"checkpoint\", '', \"model\")\n",
    "tf.flags.DEFINE_boolean(\"allow_soft_placement\", True, \"Allow device soft device placement\")\n",
    "tf.flags.DEFINE_boolean(\"log_device_placement\", False, \"Log placement of ops on devices\")\n",
    "\n",
    "tf.app.flags.DEFINE_string('f', '', 'kernel')\n",
    "\n",
    "FLAGS = flags.FLAGS"
   ]
  },
  {
   "cell_type": "code",
   "execution_count": 5,
   "id": "f6a1bf2b",
   "metadata": {
    "ExecuteTime": {
     "end_time": "2021-12-06T12:03:09.413747Z",
     "start_time": "2021-12-06T12:03:09.404748Z"
    },
    "code_folding": [],
    "run_control": {
     "marked": false
    }
   },
   "outputs": [
    {
     "name": "stdout",
     "output_type": "stream",
     "text": [
      "Running model from model_noatt_checkpoints\n"
     ]
    }
   ],
   "source": [
    "model_save_folder_name = MODEL_TYPE\n",
    "print(f\"Running model from {model_save_folder_name}\")\n",
    "model_folder_path = 'model_new'\n",
    "checkpoint_dir = os.path.abspath(os.path.join(model_folder_path, model_save_folder_name))\n",
    "model_path = os.path.join(checkpoint_dir, \"best_model\")\n",
    "\n",
    "assert os.path.isdir(checkpoint_dir)"
   ]
  },
  {
   "cell_type": "code",
   "execution_count": 6,
   "id": "80b7f173",
   "metadata": {},
   "outputs": [
    {
     "name": "stdout",
     "output_type": "stream",
     "text": [
      "Using data from preprocessing/dump/ and dump from preprocessing/dump/\n"
     ]
    }
   ],
   "source": [
    "data_path = 'preprocessing/dump/'\n",
    "dump_path = \"preprocessing/dump/\"\n",
    "print(f\"Using data from {data_path} and dump from {dump_path}\")\n",
    "assert os.path.isdir(data_path)\n",
    "assert os.path.isdir(dump_path)"
   ]
  },
  {
   "cell_type": "code",
   "execution_count": 7,
   "id": "d095ad85",
   "metadata": {},
   "outputs": [],
   "source": [
    "def load_vocab(dump_folder):\n",
    "    vocabulary, pos_vocabulary, init_embed = loadVocabEmb(dump_folder)\n",
    "    return vocabulary, pos_vocabulary, init_embed"
   ]
  },
  {
   "cell_type": "code",
   "execution_count": 8,
   "id": "97d6f879",
   "metadata": {},
   "outputs": [],
   "source": [
    "# hyperparameter\n",
    "max_sent_len = 100\n",
    "unk = \"<UNK>\"\n",
    "pad = \"<PAD/>\"\n",
    "emb_dim = 300\n",
    "\n",
    "def load_adv_exmples_and_evaluate(dump_folder, df_path):\n",
    "    with open(os.path.join(dump_folder, \"vocab.pkl\"), \"rb\") as handle:\n",
    "        vocabulary = pickle.load(handle)\n",
    "    with open(os.path.join(dump_folder, \"pos_vocab.pkl\"), \"rb\") as handle:\n",
    "        pos_vocabulary = pickle.load(handle)\n",
    "        \n",
    "    data_df = pd.read_pickle(df_path)\n",
    "    \n",
    "    sentences = data_df[\"tokenized\"].to_list()\n",
    "\n",
    "    labels = data_df[\"merged_label\"].to_list()\n",
    "\n",
    "    pos_sentences = data_df[\"pos_tags\"].to_list()\n",
    "    attention = data_df[\"attention\"].to_list()\n",
    "\n",
    "    # generate features & labels\n",
    "    x, length, attention = genFeatures(sentences, attention, max_sent_len, vocabulary)\n",
    "    pos, pos_length = genPOSFeatures(pos_sentences, max_sent_len, pos_vocabulary)\n",
    "    y = np.array(labels)\n",
    "\n",
    "    return x, length, attention, pos, pos_length, y, sentences"
   ]
  },
  {
   "cell_type": "code",
   "execution_count": 9,
   "id": "287e28df",
   "metadata": {},
   "outputs": [],
   "source": [
    "def get_predictions_adv_examples(model_path, dump_folder_path, adv_path, n, a, b, att):\n",
    "    with open(os.path.join(dump_folder_path, \"norm_init_embed.pkl\"), \"rb\") as handle:\n",
    "        init_embed = pickle.load(handle)\n",
    "\n",
    "    \n",
    "    if att:\n",
    "        df_path = f\"{adv_path}/adv_sent_mimicry_n{n}_a{a}_b{b}_ENCATT_df\"\n",
    "    else:\n",
    "        df_path = f\"{adv_path}/adv_sent_mimicry_n{n}_a{a}_b{b}_df\"\n",
    "        \n",
    "    x_test, length_test, attention_test, pos_test, pos_length_test, y_test, sentences = \\\n",
    "        load_adv_exmples_and_evaluate(dump_folder_path, df_path)\n",
    "    \n",
    "    len_data = len(x_test)\n",
    "    print(f\"Running model on {len_data} ADV samples\")\n",
    "\n",
    "    with tf.Graph().as_default():\n",
    "        session_conf = tf.ConfigProto(\n",
    "            allow_soft_placement=FLAGS.allow_soft_placement,\n",
    "            log_device_placement=FLAGS.log_device_placement\n",
    "        )\n",
    "        sess = tf.Session(config=session_conf)\n",
    "        with sess.as_default():\n",
    "            model = AbuseClassifier(\n",
    "                max_sequence_length=params.max_sent_len,\n",
    "                num_classes=2,\n",
    "                pos_vocab_size=FLAGS.pos_vocab_size,\n",
    "                init_embed=init_embed,\n",
    "                hidden_size=FLAGS.hidden_size,\n",
    "                attention_size=FLAGS.attention_size,\n",
    "                keep_prob=FLAGS.dropout_keep_prob,\n",
    "                attention_lambda=FLAGS.attention_lambda,\n",
    "                attention_loss_type=FLAGS.attention_loss_type,\n",
    "                l2_reg_lambda=0.1,\n",
    "                use_pos_flag=FLAGS.use_pos_flag)\n",
    "\n",
    "            global_step = tf.Variable(0, name=\"global_step\", trainable=False)\n",
    "            saver = tf.train.Saver(tf.all_variables())\n",
    "            # Initialize all variables\n",
    "            sess.run(tf.initialize_all_variables())\n",
    "            saver.restore(sess, model_path)\n",
    "\n",
    "            dev_scores = []\n",
    "            dev_confidences = []\n",
    "            alphas = []\n",
    "            pos = 0\n",
    "            gap = 50\n",
    "            while pos < len(x_test):\n",
    "                x_batch = x_test[pos:pos + gap]\n",
    "                pos_batch = pos_test[pos:pos + gap]\n",
    "                y_batch = y_test[pos:pos + gap]\n",
    "                length_batch = length_test[pos:pos + gap]\n",
    "                pos_length_batch = pos_length_test[pos:pos + gap]\n",
    "                pos += gap\n",
    "                # score sentences\n",
    "                feed_dict = {\n",
    "                    model.input_word: x_batch,\n",
    "                    model.input_pos: pos_batch,\n",
    "                    model.input_y: y_batch,\n",
    "                    model.sequence_length: length_batch,\n",
    "                    model.dropout_keep_prob: 1.0\n",
    "                }\n",
    "                step, scores, alpha = sess.run([global_step, model.prob, model.alphas], feed_dict)\n",
    "                dev_confidences = dev_confidences + list([[s[0],s[1]] for s in scores])\n",
    "                dev_scores = dev_scores + list([s[0] for s in scores])\n",
    "                alphas = alphas + list(alpha)\n",
    "                \n",
    "    return (dev_confidences, dev_scores, y_test, alphas), (x_test, length_test, attention_test, pos_test, pos_length_test, y_test, sentences)"
   ]
  },
  {
   "cell_type": "markdown",
   "id": "88cef445",
   "metadata": {},
   "source": [
    "# Evaluate Attack"
   ]
  },
  {
   "cell_type": "code",
   "execution_count": 11,
   "id": "7454e4df",
   "metadata": {},
   "outputs": [],
   "source": [
    "def evaluate_attack(n, a, b, att):\n",
    "    predictions_only_pos, _ = get_predictions_adv_examples(\n",
    "        model_path, \n",
    "        dump_path,\n",
    "        \"adv_sentence_mimicry\", \n",
    "        n, a, b, att\n",
    "    )\n",
    "    \n",
    "    _, dev_scores_only_pos, _, _ = predictions_only_pos\n",
    "    dev_scores_only_pos = np.array(dev_scores_only_pos)\n",
    "    \n",
    "    y_desired = np.array([[0] for _ in range(dev_scores_only_pos.shape[0])])\n",
    "    \n",
    "    y_pred = dev_scores_only_pos > CLASSIFICATION_THRESHOLD\n",
    "    y_pred = y_pred.astype(int)\n",
    "    \n",
    "    \n",
    "    # Metrics:\n",
    "    attack_sucess_rate = accuracy_score(y_desired, y_pred)\n",
    "    \n",
    "    return attack_sucess_rate"
   ]
  },
  {
   "cell_type": "code",
   "execution_count": 15,
   "id": "f7032bf6",
   "metadata": {},
   "outputs": [],
   "source": [
    "top_n_options = [10, 50, 100]\n",
    "ab_sent_options = [0, 1, 2, 3, 5]\n",
    "opts = []\n",
    "for n in top_n_options:\n",
    "    for a in ab_sent_options:\n",
    "        for b in ab_sent_options:\n",
    "            for att in [True, False]:\n",
    "                opts.append((n,a,b,att))"
   ]
  },
  {
   "cell_type": "code",
   "execution_count": 16,
   "id": "830cccff",
   "metadata": {
    "scrolled": true
   },
   "outputs": [
    {
     "name": "stderr",
     "output_type": "stream",
     "text": [
      "\r",
      "  0%|          | 0/150 [00:00<?, ?it/s]"
     ]
    },
    {
     "name": "stdout",
     "output_type": "stream",
     "text": [
      "padded sent: (616, 100)\n",
      "feature shape: (616, 100)\n",
      "padded pos sentences: (616, 100)\n",
      "debug padded_pos_sentences: ['A', ',', '^', '<UNK>', '<UNK>', '<UNK>', '<UNK>', '<UNK>', '<UNK>', '<UNK>']\n",
      "pos feature shape: (616, 100)\n",
      "Running model on 616 ADV samples\n",
      "No supervised attention.\n",
      "INFO:tensorflow:Restoring parameters from /Users/pablokvitca/Projects/Academic/NEU/CY7790/toxicity_filter_attacks/model_new/model_noatt_checkpoints/best_model\n"
     ]
    },
    {
     "name": "stderr",
     "output_type": "stream",
     "text": [
      "\r",
      "  1%|          | 1/150 [00:02<06:48,  2.74s/it]"
     ]
    },
    {
     "name": "stdout",
     "output_type": "stream",
     "text": [
      "padded sent: (616, 100)\n",
      "feature shape: (616, 100)\n",
      "padded pos sentences: (616, 100)\n",
      "debug padded_pos_sentences: ['A', ',', '^', '<UNK>', '<UNK>', '<UNK>', '<UNK>', '<UNK>', '<UNK>', '<UNK>']\n",
      "pos feature shape: (616, 100)\n",
      "Running model on 616 ADV samples\n",
      "No supervised attention.\n",
      "INFO:tensorflow:Restoring parameters from /Users/pablokvitca/Projects/Academic/NEU/CY7790/toxicity_filter_attacks/model_new/model_noatt_checkpoints/best_model\n"
     ]
    },
    {
     "name": "stderr",
     "output_type": "stream",
     "text": [
      "\r",
      "  1%|▏         | 2/150 [00:05<06:46,  2.75s/it]"
     ]
    },
    {
     "name": "stdout",
     "output_type": "stream",
     "text": [
      "padded sent: (616, 100)\n",
      "feature shape: (616, 100)\n",
      "padded pos sentences: (616, 100)\n",
      "debug padded_pos_sentences: ['A', ',', '^', '<UNK>', '<UNK>', '<UNK>', '<UNK>', '<UNK>', '<UNK>', '<UNK>']\n",
      "pos feature shape: (616, 100)\n",
      "Running model on 616 ADV samples\n",
      "No supervised attention.\n",
      "INFO:tensorflow:Restoring parameters from /Users/pablokvitca/Projects/Academic/NEU/CY7790/toxicity_filter_attacks/model_new/model_noatt_checkpoints/best_model\n"
     ]
    },
    {
     "name": "stderr",
     "output_type": "stream",
     "text": [
      "\r",
      "  2%|▏         | 3/150 [00:08<06:59,  2.85s/it]"
     ]
    },
    {
     "name": "stdout",
     "output_type": "stream",
     "text": [
      "padded sent: (616, 100)\n",
      "feature shape: (616, 100)\n",
      "padded pos sentences: (616, 100)\n",
      "debug padded_pos_sentences: ['A', ',', '^', '<UNK>', '<UNK>', '<UNK>', '<UNK>', '<UNK>', '<UNK>', '<UNK>']\n",
      "pos feature shape: (616, 100)\n",
      "Running model on 616 ADV samples\n",
      "No supervised attention.\n",
      "INFO:tensorflow:Restoring parameters from /Users/pablokvitca/Projects/Academic/NEU/CY7790/toxicity_filter_attacks/model_new/model_noatt_checkpoints/best_model\n"
     ]
    },
    {
     "name": "stderr",
     "output_type": "stream",
     "text": [
      "\r",
      "  3%|▎         | 4/150 [00:11<06:49,  2.80s/it]"
     ]
    },
    {
     "name": "stdout",
     "output_type": "stream",
     "text": [
      "padded sent: (616, 100)\n",
      "feature shape: (616, 100)\n",
      "padded pos sentences: (616, 100)\n",
      "debug padded_pos_sentences: ['A', ',', '^', '<UNK>', '<UNK>', '<UNK>', '<UNK>', '<UNK>', '<UNK>', '<UNK>']\n",
      "pos feature shape: (616, 100)\n",
      "Running model on 616 ADV samples\n",
      "No supervised attention.\n",
      "INFO:tensorflow:Restoring parameters from /Users/pablokvitca/Projects/Academic/NEU/CY7790/toxicity_filter_attacks/model_new/model_noatt_checkpoints/best_model\n"
     ]
    },
    {
     "name": "stderr",
     "output_type": "stream",
     "text": [
      "\r",
      "  3%|▎         | 5/150 [00:13<06:46,  2.80s/it]"
     ]
    },
    {
     "name": "stdout",
     "output_type": "stream",
     "text": [
      "padded sent: (616, 100)\n",
      "feature shape: (616, 100)\n",
      "padded pos sentences: (616, 100)\n",
      "debug padded_pos_sentences: ['A', ',', '^', '<UNK>', '<UNK>', '<UNK>', '<UNK>', '<UNK>', '<UNK>', '<UNK>']\n",
      "pos feature shape: (616, 100)\n",
      "Running model on 616 ADV samples\n",
      "No supervised attention.\n",
      "INFO:tensorflow:Restoring parameters from /Users/pablokvitca/Projects/Academic/NEU/CY7790/toxicity_filter_attacks/model_new/model_noatt_checkpoints/best_model\n"
     ]
    },
    {
     "name": "stderr",
     "output_type": "stream",
     "text": [
      "\r",
      "  4%|▍         | 6/150 [00:16<06:45,  2.82s/it]"
     ]
    },
    {
     "name": "stdout",
     "output_type": "stream",
     "text": [
      "padded sent: (616, 100)\n",
      "feature shape: (616, 100)\n",
      "padded pos sentences: (616, 100)\n",
      "debug padded_pos_sentences: ['A', ',', '^', '<UNK>', '<UNK>', '<UNK>', '<UNK>', '<UNK>', '<UNK>', '<UNK>']\n",
      "pos feature shape: (616, 100)\n",
      "Running model on 616 ADV samples\n",
      "No supervised attention.\n",
      "INFO:tensorflow:Restoring parameters from /Users/pablokvitca/Projects/Academic/NEU/CY7790/toxicity_filter_attacks/model_new/model_noatt_checkpoints/best_model\n"
     ]
    },
    {
     "name": "stderr",
     "output_type": "stream",
     "text": [
      "\r",
      "  5%|▍         | 7/150 [00:20<07:29,  3.15s/it]"
     ]
    },
    {
     "name": "stdout",
     "output_type": "stream",
     "text": [
      "padded sent: (616, 100)\n",
      "feature shape: (616, 100)\n",
      "padded pos sentences: (616, 100)\n",
      "debug padded_pos_sentences: ['A', ',', '^', '<UNK>', '<UNK>', '<UNK>', '<UNK>', '<UNK>', '<UNK>', '<UNK>']\n",
      "pos feature shape: (616, 100)\n",
      "Running model on 616 ADV samples\n",
      "No supervised attention.\n",
      "INFO:tensorflow:Restoring parameters from /Users/pablokvitca/Projects/Academic/NEU/CY7790/toxicity_filter_attacks/model_new/model_noatt_checkpoints/best_model\n"
     ]
    },
    {
     "name": "stderr",
     "output_type": "stream",
     "text": [
      "\r",
      "  5%|▌         | 8/150 [00:23<07:11,  3.04s/it]"
     ]
    },
    {
     "name": "stdout",
     "output_type": "stream",
     "text": [
      "padded sent: (616, 100)\n",
      "feature shape: (616, 100)\n",
      "padded pos sentences: (616, 100)\n",
      "debug padded_pos_sentences: ['A', ',', '^', '<UNK>', '<UNK>', '<UNK>', '<UNK>', '<UNK>', '<UNK>', '<UNK>']\n",
      "pos feature shape: (616, 100)\n",
      "Running model on 616 ADV samples\n",
      "No supervised attention.\n",
      "INFO:tensorflow:Restoring parameters from /Users/pablokvitca/Projects/Academic/NEU/CY7790/toxicity_filter_attacks/model_new/model_noatt_checkpoints/best_model\n"
     ]
    },
    {
     "name": "stderr",
     "output_type": "stream",
     "text": [
      "\r",
      "  6%|▌         | 9/150 [00:26<07:01,  2.99s/it]"
     ]
    },
    {
     "name": "stdout",
     "output_type": "stream",
     "text": [
      "padded sent: (616, 100)\n",
      "feature shape: (616, 100)\n",
      "padded pos sentences: (616, 100)\n",
      "debug padded_pos_sentences: ['A', ',', '^', '<UNK>', '<UNK>', '<UNK>', '<UNK>', '<UNK>', '<UNK>', '<UNK>']\n",
      "pos feature shape: (616, 100)\n",
      "Running model on 616 ADV samples\n",
      "No supervised attention.\n",
      "INFO:tensorflow:Restoring parameters from /Users/pablokvitca/Projects/Academic/NEU/CY7790/toxicity_filter_attacks/model_new/model_noatt_checkpoints/best_model\n"
     ]
    },
    {
     "name": "stderr",
     "output_type": "stream",
     "text": [
      "\r",
      "  7%|▋         | 10/150 [00:29<06:51,  2.94s/it]"
     ]
    },
    {
     "name": "stdout",
     "output_type": "stream",
     "text": [
      "padded sent: (616, 100)\n",
      "feature shape: (616, 100)\n",
      "padded pos sentences: (616, 100)\n",
      "debug padded_pos_sentences: ['<UNK>', '<UNK>', '<UNK>', '<UNK>', '<UNK>', '<UNK>', '<UNK>', '<UNK>', '<UNK>', '<UNK>']\n",
      "pos feature shape: (616, 100)\n",
      "Running model on 616 ADV samples\n",
      "No supervised attention.\n",
      "INFO:tensorflow:Restoring parameters from /Users/pablokvitca/Projects/Academic/NEU/CY7790/toxicity_filter_attacks/model_new/model_noatt_checkpoints/best_model\n"
     ]
    },
    {
     "name": "stderr",
     "output_type": "stream",
     "text": [
      "\r",
      "  7%|▋         | 11/150 [00:32<06:48,  2.94s/it]"
     ]
    },
    {
     "name": "stdout",
     "output_type": "stream",
     "text": [
      "padded sent: (616, 100)\n",
      "feature shape: (616, 100)\n",
      "padded pos sentences: (616, 100)\n",
      "debug padded_pos_sentences: ['<UNK>', '<UNK>', '<UNK>', '<UNK>', '<UNK>', '<UNK>', '<UNK>', '<UNK>', '<UNK>', '<UNK>']\n",
      "pos feature shape: (616, 100)\n",
      "Running model on 616 ADV samples\n",
      "No supervised attention.\n",
      "INFO:tensorflow:Restoring parameters from /Users/pablokvitca/Projects/Academic/NEU/CY7790/toxicity_filter_attacks/model_new/model_noatt_checkpoints/best_model\n"
     ]
    },
    {
     "name": "stderr",
     "output_type": "stream",
     "text": [
      "\r",
      "  8%|▊         | 12/150 [00:34<06:40,  2.90s/it]"
     ]
    },
    {
     "name": "stdout",
     "output_type": "stream",
     "text": [
      "padded sent: (616, 100)\n",
      "feature shape: (616, 100)\n",
      "padded pos sentences: (616, 100)\n",
      "debug padded_pos_sentences: ['<UNK>', '<UNK>', '<UNK>', '<UNK>', '<UNK>', '<UNK>', '<UNK>', '<UNK>', '<UNK>', '<UNK>']\n",
      "pos feature shape: (616, 100)\n",
      "Running model on 616 ADV samples\n",
      "No supervised attention.\n",
      "INFO:tensorflow:Restoring parameters from /Users/pablokvitca/Projects/Academic/NEU/CY7790/toxicity_filter_attacks/model_new/model_noatt_checkpoints/best_model\n"
     ]
    },
    {
     "name": "stderr",
     "output_type": "stream",
     "text": [
      "\r",
      "  9%|▊         | 13/150 [00:37<06:36,  2.89s/it]"
     ]
    },
    {
     "name": "stdout",
     "output_type": "stream",
     "text": [
      "padded sent: (616, 100)\n",
      "feature shape: (616, 100)\n",
      "padded pos sentences: (616, 100)\n",
      "debug padded_pos_sentences: ['<UNK>', '<UNK>', '<UNK>', '<UNK>', '<UNK>', '<UNK>', '<UNK>', '<UNK>', '<UNK>', '<UNK>']\n",
      "pos feature shape: (616, 100)\n",
      "Running model on 616 ADV samples\n",
      "No supervised attention.\n",
      "INFO:tensorflow:Restoring parameters from /Users/pablokvitca/Projects/Academic/NEU/CY7790/toxicity_filter_attacks/model_new/model_noatt_checkpoints/best_model\n"
     ]
    },
    {
     "name": "stderr",
     "output_type": "stream",
     "text": [
      "\r",
      "  9%|▉         | 14/150 [00:40<06:27,  2.85s/it]"
     ]
    },
    {
     "name": "stdout",
     "output_type": "stream",
     "text": [
      "padded sent: (616, 100)\n",
      "feature shape: (616, 100)\n",
      "padded pos sentences: (616, 100)\n",
      "debug padded_pos_sentences: ['<UNK>', '<UNK>', '<UNK>', '<UNK>', '<UNK>', '<UNK>', '<UNK>', '<UNK>', '<UNK>', '<UNK>']\n",
      "pos feature shape: (616, 100)\n",
      "Running model on 616 ADV samples\n",
      "No supervised attention.\n",
      "INFO:tensorflow:Restoring parameters from /Users/pablokvitca/Projects/Academic/NEU/CY7790/toxicity_filter_attacks/model_new/model_noatt_checkpoints/best_model\n"
     ]
    },
    {
     "name": "stderr",
     "output_type": "stream",
     "text": [
      "\r",
      " 10%|█         | 15/150 [00:43<06:21,  2.82s/it]"
     ]
    },
    {
     "name": "stdout",
     "output_type": "stream",
     "text": [
      "padded sent: (616, 100)\n",
      "feature shape: (616, 100)\n",
      "padded pos sentences: (616, 100)\n",
      "debug padded_pos_sentences: ['<UNK>', '<UNK>', '<UNK>', '<UNK>', '<UNK>', '<UNK>', '<UNK>', '<UNK>', '<UNK>', '<UNK>']\n",
      "pos feature shape: (616, 100)\n",
      "Running model on 616 ADV samples\n",
      "No supervised attention.\n",
      "INFO:tensorflow:Restoring parameters from /Users/pablokvitca/Projects/Academic/NEU/CY7790/toxicity_filter_attacks/model_new/model_noatt_checkpoints/best_model\n"
     ]
    },
    {
     "name": "stderr",
     "output_type": "stream",
     "text": [
      "\r",
      " 11%|█         | 16/150 [00:46<06:20,  2.84s/it]"
     ]
    },
    {
     "name": "stdout",
     "output_type": "stream",
     "text": [
      "padded sent: (616, 100)\n",
      "feature shape: (616, 100)\n",
      "padded pos sentences: (616, 100)\n",
      "debug padded_pos_sentences: ['<UNK>', '<UNK>', '<UNK>', '<UNK>', '<UNK>', '<UNK>', '<UNK>', '<UNK>', '<UNK>', '<UNK>']\n",
      "pos feature shape: (616, 100)\n",
      "Running model on 616 ADV samples\n",
      "No supervised attention.\n",
      "INFO:tensorflow:Restoring parameters from /Users/pablokvitca/Projects/Academic/NEU/CY7790/toxicity_filter_attacks/model_new/model_noatt_checkpoints/best_model\n"
     ]
    },
    {
     "name": "stderr",
     "output_type": "stream",
     "text": [
      "\r",
      " 11%|█▏        | 17/150 [00:49<06:17,  2.84s/it]"
     ]
    },
    {
     "name": "stdout",
     "output_type": "stream",
     "text": [
      "padded sent: (616, 100)\n",
      "feature shape: (616, 100)\n",
      "padded pos sentences: (616, 100)\n",
      "debug padded_pos_sentences: ['<UNK>', '<UNK>', '<UNK>', '<UNK>', '<UNK>', '<UNK>', '<UNK>', '<UNK>', '<UNK>', '<UNK>']\n",
      "pos feature shape: (616, 100)\n",
      "Running model on 616 ADV samples\n",
      "No supervised attention.\n",
      "INFO:tensorflow:Restoring parameters from /Users/pablokvitca/Projects/Academic/NEU/CY7790/toxicity_filter_attacks/model_new/model_noatt_checkpoints/best_model\n"
     ]
    },
    {
     "name": "stderr",
     "output_type": "stream",
     "text": [
      "\r",
      " 12%|█▏        | 18/150 [00:52<06:30,  2.96s/it]"
     ]
    },
    {
     "name": "stdout",
     "output_type": "stream",
     "text": [
      "padded sent: (616, 100)\n",
      "feature shape: (616, 100)\n",
      "padded pos sentences: (616, 100)\n",
      "debug padded_pos_sentences: ['<UNK>', '<UNK>', '<UNK>', '<UNK>', '<UNK>', '<UNK>', '<UNK>', '<UNK>', '<UNK>', '<UNK>']\n",
      "pos feature shape: (616, 100)\n",
      "Running model on 616 ADV samples\n",
      "No supervised attention.\n",
      "INFO:tensorflow:Restoring parameters from /Users/pablokvitca/Projects/Academic/NEU/CY7790/toxicity_filter_attacks/model_new/model_noatt_checkpoints/best_model\n"
     ]
    },
    {
     "name": "stderr",
     "output_type": "stream",
     "text": [
      "\r",
      " 13%|█▎        | 19/150 [00:55<06:27,  2.96s/it]"
     ]
    },
    {
     "name": "stdout",
     "output_type": "stream",
     "text": [
      "padded sent: (616, 100)\n",
      "feature shape: (616, 100)\n",
      "padded pos sentences: (616, 100)\n",
      "debug padded_pos_sentences: ['<UNK>', '<UNK>', '<UNK>', '<UNK>', '<UNK>', '<UNK>', '<UNK>', '<UNK>', '<UNK>', '<UNK>']\n",
      "pos feature shape: (616, 100)\n",
      "Running model on 616 ADV samples\n",
      "No supervised attention.\n",
      "INFO:tensorflow:Restoring parameters from /Users/pablokvitca/Projects/Academic/NEU/CY7790/toxicity_filter_attacks/model_new/model_noatt_checkpoints/best_model\n"
     ]
    },
    {
     "name": "stderr",
     "output_type": "stream",
     "text": [
      "\r",
      " 13%|█▎        | 20/150 [00:58<06:23,  2.95s/it]"
     ]
    },
    {
     "name": "stdout",
     "output_type": "stream",
     "text": [
      "padded sent: (616, 100)\n",
      "feature shape: (616, 100)\n",
      "padded pos sentences: (616, 100)\n",
      "debug padded_pos_sentences: ['<UNK>', '<UNK>', '<UNK>', '<UNK>', '<UNK>', '<UNK>', '<UNK>', '<UNK>', '<UNK>', '<UNK>']\n",
      "pos feature shape: (616, 100)\n",
      "Running model on 616 ADV samples\n",
      "No supervised attention.\n",
      "INFO:tensorflow:Restoring parameters from /Users/pablokvitca/Projects/Academic/NEU/CY7790/toxicity_filter_attacks/model_new/model_noatt_checkpoints/best_model\n"
     ]
    },
    {
     "name": "stderr",
     "output_type": "stream",
     "text": [
      "\r",
      " 14%|█▍        | 21/150 [01:00<06:12,  2.89s/it]"
     ]
    },
    {
     "name": "stdout",
     "output_type": "stream",
     "text": [
      "padded sent: (616, 100)\n",
      "feature shape: (616, 100)\n",
      "padded pos sentences: (616, 100)\n",
      "debug padded_pos_sentences: ['<UNK>', '<UNK>', '<UNK>', '<UNK>', '<UNK>', '<UNK>', '<UNK>', '<UNK>', '<UNK>', '<UNK>']\n",
      "pos feature shape: (616, 100)\n",
      "Running model on 616 ADV samples\n",
      "No supervised attention.\n",
      "INFO:tensorflow:Restoring parameters from /Users/pablokvitca/Projects/Academic/NEU/CY7790/toxicity_filter_attacks/model_new/model_noatt_checkpoints/best_model\n"
     ]
    },
    {
     "name": "stderr",
     "output_type": "stream",
     "text": [
      "\r",
      " 15%|█▍        | 22/150 [01:03<06:04,  2.85s/it]"
     ]
    },
    {
     "name": "stdout",
     "output_type": "stream",
     "text": [
      "padded sent: (616, 100)\n",
      "feature shape: (616, 100)\n",
      "padded pos sentences: (616, 100)\n",
      "debug padded_pos_sentences: ['<UNK>', '<UNK>', '<UNK>', '<UNK>', '<UNK>', '<UNK>', '<UNK>', '<UNK>', '<UNK>', '<UNK>']\n",
      "pos feature shape: (616, 100)\n",
      "Running model on 616 ADV samples\n",
      "No supervised attention.\n",
      "INFO:tensorflow:Restoring parameters from /Users/pablokvitca/Projects/Academic/NEU/CY7790/toxicity_filter_attacks/model_new/model_noatt_checkpoints/best_model\n"
     ]
    },
    {
     "name": "stderr",
     "output_type": "stream",
     "text": [
      "\r",
      " 15%|█▌        | 23/150 [01:06<05:59,  2.83s/it]"
     ]
    },
    {
     "name": "stdout",
     "output_type": "stream",
     "text": [
      "padded sent: (616, 100)\n",
      "feature shape: (616, 100)\n",
      "padded pos sentences: (616, 100)\n",
      "debug padded_pos_sentences: ['<UNK>', '<UNK>', '<UNK>', '<UNK>', '<UNK>', '<UNK>', '<UNK>', '<UNK>', '<UNK>', '<UNK>']\n",
      "pos feature shape: (616, 100)\n",
      "Running model on 616 ADV samples\n",
      "No supervised attention.\n",
      "INFO:tensorflow:Restoring parameters from /Users/pablokvitca/Projects/Academic/NEU/CY7790/toxicity_filter_attacks/model_new/model_noatt_checkpoints/best_model\n"
     ]
    },
    {
     "name": "stderr",
     "output_type": "stream",
     "text": [
      "\r",
      " 16%|█▌        | 24/150 [01:09<05:57,  2.84s/it]"
     ]
    },
    {
     "name": "stdout",
     "output_type": "stream",
     "text": [
      "padded sent: (616, 100)\n",
      "feature shape: (616, 100)\n",
      "padded pos sentences: (616, 100)\n",
      "debug padded_pos_sentences: ['<UNK>', '<UNK>', '<UNK>', '<UNK>', '<UNK>', '<UNK>', '<UNK>', '<UNK>', '<UNK>', '<UNK>']\n",
      "pos feature shape: (616, 100)\n",
      "Running model on 616 ADV samples\n",
      "No supervised attention.\n",
      "INFO:tensorflow:Restoring parameters from /Users/pablokvitca/Projects/Academic/NEU/CY7790/toxicity_filter_attacks/model_new/model_noatt_checkpoints/best_model\n"
     ]
    },
    {
     "name": "stderr",
     "output_type": "stream",
     "text": [
      "\r",
      " 17%|█▋        | 25/150 [01:12<05:53,  2.83s/it]"
     ]
    },
    {
     "name": "stdout",
     "output_type": "stream",
     "text": [
      "padded sent: (616, 100)\n",
      "feature shape: (616, 100)\n",
      "padded pos sentences: (616, 100)\n",
      "debug padded_pos_sentences: ['<UNK>', '<UNK>', '<UNK>', '<UNK>', '<UNK>', '<UNK>', '<UNK>', '<UNK>', '<UNK>', '<UNK>']\n",
      "pos feature shape: (616, 100)\n",
      "Running model on 616 ADV samples\n",
      "No supervised attention.\n",
      "INFO:tensorflow:Restoring parameters from /Users/pablokvitca/Projects/Academic/NEU/CY7790/toxicity_filter_attacks/model_new/model_noatt_checkpoints/best_model\n"
     ]
    },
    {
     "name": "stderr",
     "output_type": "stream",
     "text": [
      "\r",
      " 17%|█▋        | 26/150 [01:14<05:49,  2.82s/it]"
     ]
    },
    {
     "name": "stdout",
     "output_type": "stream",
     "text": [
      "padded sent: (616, 100)\n",
      "feature shape: (616, 100)\n",
      "padded pos sentences: (616, 100)\n",
      "debug padded_pos_sentences: ['<UNK>', '<UNK>', '<UNK>', '<UNK>', '<UNK>', '<UNK>', '<UNK>', '<UNK>', '<UNK>', '<UNK>']\n",
      "pos feature shape: (616, 100)\n",
      "Running model on 616 ADV samples\n",
      "No supervised attention.\n",
      "INFO:tensorflow:Restoring parameters from /Users/pablokvitca/Projects/Academic/NEU/CY7790/toxicity_filter_attacks/model_new/model_noatt_checkpoints/best_model\n"
     ]
    },
    {
     "name": "stderr",
     "output_type": "stream",
     "text": [
      "\r",
      " 18%|█▊        | 27/150 [01:17<05:47,  2.83s/it]"
     ]
    },
    {
     "name": "stdout",
     "output_type": "stream",
     "text": [
      "padded sent: (616, 100)\n",
      "feature shape: (616, 100)\n",
      "padded pos sentences: (616, 100)\n",
      "debug padded_pos_sentences: ['<UNK>', '<UNK>', '<UNK>', '<UNK>', '<UNK>', '<UNK>', '<UNK>', '<UNK>', '<UNK>', '<UNK>']\n",
      "pos feature shape: (616, 100)\n",
      "Running model on 616 ADV samples\n",
      "No supervised attention.\n",
      "INFO:tensorflow:Restoring parameters from /Users/pablokvitca/Projects/Academic/NEU/CY7790/toxicity_filter_attacks/model_new/model_noatt_checkpoints/best_model\n"
     ]
    },
    {
     "name": "stderr",
     "output_type": "stream",
     "text": [
      "\r",
      " 19%|█▊        | 28/150 [01:20<05:44,  2.83s/it]"
     ]
    },
    {
     "name": "stdout",
     "output_type": "stream",
     "text": [
      "padded sent: (616, 100)\n",
      "feature shape: (616, 100)\n",
      "padded pos sentences: (616, 100)\n",
      "debug padded_pos_sentences: ['<UNK>', '<UNK>', '<UNK>', '<UNK>', '<UNK>', '<UNK>', '<UNK>', '<UNK>', '<UNK>', '<UNK>']\n",
      "pos feature shape: (616, 100)\n",
      "Running model on 616 ADV samples\n",
      "No supervised attention.\n",
      "INFO:tensorflow:Restoring parameters from /Users/pablokvitca/Projects/Academic/NEU/CY7790/toxicity_filter_attacks/model_new/model_noatt_checkpoints/best_model\n"
     ]
    },
    {
     "name": "stderr",
     "output_type": "stream",
     "text": [
      "\r",
      " 19%|█▉        | 29/150 [01:23<05:44,  2.85s/it]"
     ]
    },
    {
     "name": "stdout",
     "output_type": "stream",
     "text": [
      "padded sent: (616, 100)\n",
      "feature shape: (616, 100)\n",
      "padded pos sentences: (616, 100)\n",
      "debug padded_pos_sentences: ['<UNK>', '<UNK>', '<UNK>', '<UNK>', '<UNK>', '<UNK>', '<UNK>', '<UNK>', '<UNK>', '<UNK>']\n",
      "pos feature shape: (616, 100)\n",
      "Running model on 616 ADV samples\n",
      "No supervised attention.\n",
      "INFO:tensorflow:Restoring parameters from /Users/pablokvitca/Projects/Academic/NEU/CY7790/toxicity_filter_attacks/model_new/model_noatt_checkpoints/best_model\n"
     ]
    },
    {
     "name": "stderr",
     "output_type": "stream",
     "text": [
      "\r",
      " 20%|██        | 30/150 [01:26<05:59,  3.00s/it]"
     ]
    },
    {
     "name": "stdout",
     "output_type": "stream",
     "text": [
      "padded sent: (616, 100)\n",
      "feature shape: (616, 100)\n",
      "padded pos sentences: (616, 100)\n",
      "debug padded_pos_sentences: ['<UNK>', '<UNK>', '<UNK>', '<UNK>', '<UNK>', '<UNK>', '<UNK>', '<UNK>', '<UNK>', '<UNK>']\n",
      "pos feature shape: (616, 100)\n",
      "Running model on 616 ADV samples\n",
      "No supervised attention.\n",
      "INFO:tensorflow:Restoring parameters from /Users/pablokvitca/Projects/Academic/NEU/CY7790/toxicity_filter_attacks/model_new/model_noatt_checkpoints/best_model\n"
     ]
    },
    {
     "name": "stderr",
     "output_type": "stream",
     "text": [
      "\r",
      " 21%|██        | 31/150 [01:29<05:50,  2.94s/it]"
     ]
    },
    {
     "name": "stdout",
     "output_type": "stream",
     "text": [
      "padded sent: (616, 100)\n",
      "feature shape: (616, 100)\n",
      "padded pos sentences: (616, 100)\n",
      "debug padded_pos_sentences: ['<UNK>', '<UNK>', '<UNK>', '<UNK>', '<UNK>', '<UNK>', '<UNK>', '<UNK>', '<UNK>', '<UNK>']\n",
      "pos feature shape: (616, 100)\n",
      "Running model on 616 ADV samples\n",
      "No supervised attention.\n",
      "INFO:tensorflow:Restoring parameters from /Users/pablokvitca/Projects/Academic/NEU/CY7790/toxicity_filter_attacks/model_new/model_noatt_checkpoints/best_model\n"
     ]
    },
    {
     "name": "stderr",
     "output_type": "stream",
     "text": [
      "\r",
      " 21%|██▏       | 32/150 [01:32<05:42,  2.90s/it]"
     ]
    },
    {
     "name": "stdout",
     "output_type": "stream",
     "text": [
      "padded sent: (616, 100)\n",
      "feature shape: (616, 100)\n",
      "padded pos sentences: (616, 100)\n",
      "debug padded_pos_sentences: ['<UNK>', '<UNK>', '<UNK>', '<UNK>', '<UNK>', '<UNK>', '<UNK>', '<UNK>', '<UNK>', '<UNK>']\n",
      "pos feature shape: (616, 100)\n",
      "Running model on 616 ADV samples\n",
      "No supervised attention.\n",
      "INFO:tensorflow:Restoring parameters from /Users/pablokvitca/Projects/Academic/NEU/CY7790/toxicity_filter_attacks/model_new/model_noatt_checkpoints/best_model\n"
     ]
    },
    {
     "name": "stderr",
     "output_type": "stream",
     "text": [
      "\r",
      " 22%|██▏       | 33/150 [01:35<05:35,  2.87s/it]"
     ]
    },
    {
     "name": "stdout",
     "output_type": "stream",
     "text": [
      "padded sent: (616, 100)\n",
      "feature shape: (616, 100)\n",
      "padded pos sentences: (616, 100)\n",
      "debug padded_pos_sentences: ['<UNK>', '<UNK>', '<UNK>', '<UNK>', '<UNK>', '<UNK>', '<UNK>', '<UNK>', '<UNK>', '<UNK>']\n",
      "pos feature shape: (616, 100)\n",
      "Running model on 616 ADV samples\n",
      "No supervised attention.\n",
      "INFO:tensorflow:Restoring parameters from /Users/pablokvitca/Projects/Academic/NEU/CY7790/toxicity_filter_attacks/model_new/model_noatt_checkpoints/best_model\n"
     ]
    },
    {
     "name": "stderr",
     "output_type": "stream",
     "text": [
      "\r",
      " 23%|██▎       | 34/150 [01:38<05:30,  2.85s/it]"
     ]
    },
    {
     "name": "stdout",
     "output_type": "stream",
     "text": [
      "padded sent: (616, 100)\n",
      "feature shape: (616, 100)\n",
      "padded pos sentences: (616, 100)\n",
      "debug padded_pos_sentences: ['<UNK>', '<UNK>', '<UNK>', '<UNK>', '<UNK>', '<UNK>', '<UNK>', '<UNK>', '<UNK>', '<UNK>']\n",
      "pos feature shape: (616, 100)\n",
      "Running model on 616 ADV samples\n",
      "No supervised attention.\n",
      "INFO:tensorflow:Restoring parameters from /Users/pablokvitca/Projects/Academic/NEU/CY7790/toxicity_filter_attacks/model_new/model_noatt_checkpoints/best_model\n"
     ]
    },
    {
     "name": "stderr",
     "output_type": "stream",
     "text": [
      "\r",
      " 23%|██▎       | 35/150 [01:40<05:27,  2.85s/it]"
     ]
    },
    {
     "name": "stdout",
     "output_type": "stream",
     "text": [
      "padded sent: (616, 100)\n",
      "feature shape: (616, 100)\n",
      "padded pos sentences: (616, 100)\n",
      "debug padded_pos_sentences: ['<UNK>', '<UNK>', '<UNK>', '<UNK>', '<UNK>', '<UNK>', '<UNK>', '<UNK>', '<UNK>', '<UNK>']\n",
      "pos feature shape: (616, 100)\n",
      "Running model on 616 ADV samples\n",
      "No supervised attention.\n",
      "INFO:tensorflow:Restoring parameters from /Users/pablokvitca/Projects/Academic/NEU/CY7790/toxicity_filter_attacks/model_new/model_noatt_checkpoints/best_model\n"
     ]
    },
    {
     "name": "stderr",
     "output_type": "stream",
     "text": [
      "\r",
      " 24%|██▍       | 36/150 [01:43<05:24,  2.84s/it]"
     ]
    },
    {
     "name": "stdout",
     "output_type": "stream",
     "text": [
      "padded sent: (616, 100)\n",
      "feature shape: (616, 100)\n",
      "padded pos sentences: (616, 100)\n",
      "debug padded_pos_sentences: ['<UNK>', '<UNK>', '<UNK>', '<UNK>', '<UNK>', '<UNK>', '<UNK>', '<UNK>', '<UNK>', '<UNK>']\n",
      "pos feature shape: (616, 100)\n",
      "Running model on 616 ADV samples\n",
      "No supervised attention.\n",
      "INFO:tensorflow:Restoring parameters from /Users/pablokvitca/Projects/Academic/NEU/CY7790/toxicity_filter_attacks/model_new/model_noatt_checkpoints/best_model\n"
     ]
    },
    {
     "name": "stderr",
     "output_type": "stream",
     "text": [
      "\r",
      " 25%|██▍       | 37/150 [01:46<05:22,  2.86s/it]"
     ]
    },
    {
     "name": "stdout",
     "output_type": "stream",
     "text": [
      "padded sent: (616, 100)\n",
      "feature shape: (616, 100)\n",
      "padded pos sentences: (616, 100)\n",
      "debug padded_pos_sentences: ['<UNK>', '<UNK>', '<UNK>', '<UNK>', '<UNK>', '<UNK>', '<UNK>', '<UNK>', '<UNK>', '<UNK>']\n",
      "pos feature shape: (616, 100)\n",
      "Running model on 616 ADV samples\n",
      "No supervised attention.\n",
      "INFO:tensorflow:Restoring parameters from /Users/pablokvitca/Projects/Academic/NEU/CY7790/toxicity_filter_attacks/model_new/model_noatt_checkpoints/best_model\n"
     ]
    },
    {
     "name": "stderr",
     "output_type": "stream",
     "text": [
      "\r",
      " 25%|██▌       | 38/150 [01:49<05:19,  2.85s/it]"
     ]
    },
    {
     "name": "stdout",
     "output_type": "stream",
     "text": [
      "padded sent: (616, 100)\n",
      "feature shape: (616, 100)\n",
      "padded pos sentences: (616, 100)\n",
      "debug padded_pos_sentences: ['<UNK>', '<UNK>', '<UNK>', '<UNK>', '<UNK>', '<UNK>', '<UNK>', '<UNK>', '<UNK>', '<UNK>']\n",
      "pos feature shape: (616, 100)\n",
      "Running model on 616 ADV samples\n",
      "No supervised attention.\n",
      "INFO:tensorflow:Restoring parameters from /Users/pablokvitca/Projects/Academic/NEU/CY7790/toxicity_filter_attacks/model_new/model_noatt_checkpoints/best_model\n"
     ]
    },
    {
     "name": "stderr",
     "output_type": "stream",
     "text": [
      "\r",
      " 26%|██▌       | 39/150 [01:52<05:20,  2.89s/it]"
     ]
    },
    {
     "name": "stdout",
     "output_type": "stream",
     "text": [
      "padded sent: (616, 100)\n",
      "feature shape: (616, 100)\n",
      "padded pos sentences: (616, 100)\n",
      "debug padded_pos_sentences: ['<UNK>', '<UNK>', '<UNK>', '<UNK>', '<UNK>', '<UNK>', '<UNK>', '<UNK>', '<UNK>', '<UNK>']\n",
      "pos feature shape: (616, 100)\n",
      "Running model on 616 ADV samples\n",
      "No supervised attention.\n",
      "INFO:tensorflow:Restoring parameters from /Users/pablokvitca/Projects/Academic/NEU/CY7790/toxicity_filter_attacks/model_new/model_noatt_checkpoints/best_model\n"
     ]
    },
    {
     "name": "stderr",
     "output_type": "stream",
     "text": [
      "\r",
      " 27%|██▋       | 40/150 [01:55<05:24,  2.95s/it]"
     ]
    },
    {
     "name": "stdout",
     "output_type": "stream",
     "text": [
      "padded sent: (616, 100)\n",
      "feature shape: (616, 100)\n",
      "padded pos sentences: (616, 100)\n",
      "debug padded_pos_sentences: ['<UNK>', '<UNK>', '<UNK>', '<UNK>', '<UNK>', '<UNK>', '<UNK>', '<UNK>', '<UNK>', '<UNK>']\n",
      "pos feature shape: (616, 100)\n",
      "Running model on 616 ADV samples\n",
      "No supervised attention.\n",
      "INFO:tensorflow:Restoring parameters from /Users/pablokvitca/Projects/Academic/NEU/CY7790/toxicity_filter_attacks/model_new/model_noatt_checkpoints/best_model\n"
     ]
    },
    {
     "name": "stderr",
     "output_type": "stream",
     "text": [
      "\r",
      " 27%|██▋       | 41/150 [01:58<05:21,  2.95s/it]"
     ]
    },
    {
     "name": "stdout",
     "output_type": "stream",
     "text": [
      "padded sent: (616, 100)\n",
      "feature shape: (616, 100)\n",
      "padded pos sentences: (616, 100)\n",
      "debug padded_pos_sentences: ['<UNK>', '<UNK>', '<UNK>', '<UNK>', '<UNK>', '<UNK>', '<UNK>', '<UNK>', '<UNK>', '<UNK>']\n",
      "pos feature shape: (616, 100)\n",
      "Running model on 616 ADV samples\n",
      "No supervised attention.\n",
      "INFO:tensorflow:Restoring parameters from /Users/pablokvitca/Projects/Academic/NEU/CY7790/toxicity_filter_attacks/model_new/model_noatt_checkpoints/best_model\n"
     ]
    },
    {
     "name": "stderr",
     "output_type": "stream",
     "text": [
      "\r",
      " 28%|██▊       | 42/150 [02:01<05:23,  2.99s/it]"
     ]
    },
    {
     "name": "stdout",
     "output_type": "stream",
     "text": [
      "padded sent: (616, 100)\n",
      "feature shape: (616, 100)\n",
      "padded pos sentences: (616, 100)\n",
      "debug padded_pos_sentences: ['<UNK>', '<UNK>', '<UNK>', '<UNK>', '<UNK>', '<UNK>', '<UNK>', '<UNK>', '<UNK>', '<UNK>']\n",
      "pos feature shape: (616, 100)\n",
      "Running model on 616 ADV samples\n",
      "No supervised attention.\n",
      "INFO:tensorflow:Restoring parameters from /Users/pablokvitca/Projects/Academic/NEU/CY7790/toxicity_filter_attacks/model_new/model_noatt_checkpoints/best_model\n"
     ]
    },
    {
     "name": "stderr",
     "output_type": "stream",
     "text": [
      "\r",
      " 29%|██▊       | 43/150 [02:04<05:14,  2.94s/it]"
     ]
    },
    {
     "name": "stdout",
     "output_type": "stream",
     "text": [
      "padded sent: (616, 100)\n",
      "feature shape: (616, 100)\n",
      "padded pos sentences: (616, 100)\n",
      "debug padded_pos_sentences: ['<UNK>', '<UNK>', '<UNK>', '<UNK>', '<UNK>', '<UNK>', '<UNK>', '<UNK>', '<UNK>', '<UNK>']\n",
      "pos feature shape: (616, 100)\n",
      "Running model on 616 ADV samples\n",
      "No supervised attention.\n",
      "INFO:tensorflow:Restoring parameters from /Users/pablokvitca/Projects/Academic/NEU/CY7790/toxicity_filter_attacks/model_new/model_noatt_checkpoints/best_model\n"
     ]
    },
    {
     "name": "stderr",
     "output_type": "stream",
     "text": [
      "\r",
      " 29%|██▉       | 44/150 [02:07<05:08,  2.91s/it]"
     ]
    },
    {
     "name": "stdout",
     "output_type": "stream",
     "text": [
      "padded sent: (616, 100)\n",
      "feature shape: (616, 100)\n",
      "padded pos sentences: (616, 100)\n",
      "debug padded_pos_sentences: ['<UNK>', '<UNK>', '<UNK>', '<UNK>', '<UNK>', '<UNK>', '<UNK>', '<UNK>', '<UNK>', '<UNK>']\n",
      "pos feature shape: (616, 100)\n",
      "Running model on 616 ADV samples\n",
      "No supervised attention.\n",
      "INFO:tensorflow:Restoring parameters from /Users/pablokvitca/Projects/Academic/NEU/CY7790/toxicity_filter_attacks/model_new/model_noatt_checkpoints/best_model\n"
     ]
    },
    {
     "name": "stderr",
     "output_type": "stream",
     "text": [
      "\r",
      " 30%|███       | 45/150 [02:10<05:04,  2.90s/it]"
     ]
    },
    {
     "name": "stdout",
     "output_type": "stream",
     "text": [
      "padded sent: (616, 100)\n",
      "feature shape: (616, 100)\n",
      "padded pos sentences: (616, 100)\n",
      "debug padded_pos_sentences: ['<UNK>', '<UNK>', '<UNK>', '<UNK>', '<UNK>', '<UNK>', '<UNK>', '<UNK>', '<UNK>', '<UNK>']\n",
      "pos feature shape: (616, 100)\n",
      "Running model on 616 ADV samples\n",
      "No supervised attention.\n",
      "INFO:tensorflow:Restoring parameters from /Users/pablokvitca/Projects/Academic/NEU/CY7790/toxicity_filter_attacks/model_new/model_noatt_checkpoints/best_model\n"
     ]
    },
    {
     "name": "stderr",
     "output_type": "stream",
     "text": [
      "\r",
      " 31%|███       | 46/150 [02:13<05:02,  2.90s/it]"
     ]
    },
    {
     "name": "stdout",
     "output_type": "stream",
     "text": [
      "padded sent: (616, 100)\n",
      "feature shape: (616, 100)\n",
      "padded pos sentences: (616, 100)\n",
      "debug padded_pos_sentences: ['<UNK>', '<UNK>', '<UNK>', '<UNK>', '<UNK>', '<UNK>', '<UNK>', '<UNK>', '<UNK>', '<UNK>']\n",
      "pos feature shape: (616, 100)\n",
      "Running model on 616 ADV samples\n",
      "No supervised attention.\n",
      "INFO:tensorflow:Restoring parameters from /Users/pablokvitca/Projects/Academic/NEU/CY7790/toxicity_filter_attacks/model_new/model_noatt_checkpoints/best_model\n"
     ]
    },
    {
     "name": "stderr",
     "output_type": "stream",
     "text": [
      "\r",
      " 31%|███▏      | 47/150 [02:15<04:59,  2.90s/it]"
     ]
    },
    {
     "name": "stdout",
     "output_type": "stream",
     "text": [
      "padded sent: (616, 100)\n",
      "feature shape: (616, 100)\n",
      "padded pos sentences: (616, 100)\n",
      "debug padded_pos_sentences: ['<UNK>', '<UNK>', '<UNK>', '<UNK>', '<UNK>', '<UNK>', '<UNK>', '<UNK>', '<UNK>', '<UNK>']\n",
      "pos feature shape: (616, 100)\n",
      "Running model on 616 ADV samples\n",
      "No supervised attention.\n",
      "INFO:tensorflow:Restoring parameters from /Users/pablokvitca/Projects/Academic/NEU/CY7790/toxicity_filter_attacks/model_new/model_noatt_checkpoints/best_model\n"
     ]
    },
    {
     "name": "stderr",
     "output_type": "stream",
     "text": [
      "\r",
      " 32%|███▏      | 48/150 [02:18<04:54,  2.89s/it]"
     ]
    },
    {
     "name": "stdout",
     "output_type": "stream",
     "text": [
      "padded sent: (616, 100)\n",
      "feature shape: (616, 100)\n",
      "padded pos sentences: (616, 100)\n",
      "debug padded_pos_sentences: ['<UNK>', '<UNK>', '<UNK>', '<UNK>', '<UNK>', '<UNK>', '<UNK>', '<UNK>', '<UNK>', '<UNK>']\n",
      "pos feature shape: (616, 100)\n",
      "Running model on 616 ADV samples\n",
      "No supervised attention.\n",
      "INFO:tensorflow:Restoring parameters from /Users/pablokvitca/Projects/Academic/NEU/CY7790/toxicity_filter_attacks/model_new/model_noatt_checkpoints/best_model\n"
     ]
    },
    {
     "name": "stderr",
     "output_type": "stream",
     "text": [
      "\r",
      " 33%|███▎      | 49/150 [02:21<04:52,  2.90s/it]"
     ]
    },
    {
     "name": "stdout",
     "output_type": "stream",
     "text": [
      "padded sent: (616, 100)\n",
      "feature shape: (616, 100)\n",
      "padded pos sentences: (616, 100)\n",
      "debug padded_pos_sentences: ['<UNK>', '<UNK>', '<UNK>', '<UNK>', '<UNK>', '<UNK>', '<UNK>', '<UNK>', '<UNK>', '<UNK>']\n",
      "pos feature shape: (616, 100)\n",
      "Running model on 616 ADV samples\n",
      "No supervised attention.\n",
      "INFO:tensorflow:Restoring parameters from /Users/pablokvitca/Projects/Academic/NEU/CY7790/toxicity_filter_attacks/model_new/model_noatt_checkpoints/best_model\n"
     ]
    },
    {
     "name": "stderr",
     "output_type": "stream",
     "text": [
      "\r",
      " 33%|███▎      | 50/150 [02:24<04:50,  2.91s/it]"
     ]
    },
    {
     "name": "stdout",
     "output_type": "stream",
     "text": [
      "padded sent: (616, 100)\n",
      "feature shape: (616, 100)\n",
      "padded pos sentences: (616, 100)\n",
      "debug padded_pos_sentences: ['A', ',', '^', '<UNK>', '<UNK>', '<UNK>', '<UNK>', '<UNK>', '<UNK>', '<UNK>']\n",
      "pos feature shape: (616, 100)\n",
      "Running model on 616 ADV samples\n",
      "No supervised attention.\n",
      "INFO:tensorflow:Restoring parameters from /Users/pablokvitca/Projects/Academic/NEU/CY7790/toxicity_filter_attacks/model_new/model_noatt_checkpoints/best_model\n"
     ]
    },
    {
     "name": "stderr",
     "output_type": "stream",
     "text": [
      "\r",
      " 34%|███▍      | 51/150 [02:27<04:39,  2.82s/it]"
     ]
    },
    {
     "name": "stdout",
     "output_type": "stream",
     "text": [
      "padded sent: (616, 100)\n",
      "feature shape: (616, 100)\n",
      "padded pos sentences: (616, 100)\n",
      "debug padded_pos_sentences: ['A', ',', '^', '<UNK>', '<UNK>', '<UNK>', '<UNK>', '<UNK>', '<UNK>', '<UNK>']\n",
      "pos feature shape: (616, 100)\n",
      "Running model on 616 ADV samples\n",
      "No supervised attention.\n",
      "INFO:tensorflow:Restoring parameters from /Users/pablokvitca/Projects/Academic/NEU/CY7790/toxicity_filter_attacks/model_new/model_noatt_checkpoints/best_model\n"
     ]
    },
    {
     "name": "stderr",
     "output_type": "stream",
     "text": [
      "\r",
      " 35%|███▍      | 52/150 [02:29<04:32,  2.78s/it]"
     ]
    },
    {
     "name": "stdout",
     "output_type": "stream",
     "text": [
      "padded sent: (616, 100)\n",
      "feature shape: (616, 100)\n",
      "padded pos sentences: (616, 100)\n",
      "debug padded_pos_sentences: ['A', ',', '^', '<UNK>', '<UNK>', '<UNK>', '<UNK>', '<UNK>', '<UNK>', '<UNK>']\n",
      "pos feature shape: (616, 100)\n",
      "Running model on 616 ADV samples\n",
      "No supervised attention.\n",
      "INFO:tensorflow:Restoring parameters from /Users/pablokvitca/Projects/Academic/NEU/CY7790/toxicity_filter_attacks/model_new/model_noatt_checkpoints/best_model\n"
     ]
    },
    {
     "name": "stderr",
     "output_type": "stream",
     "text": [
      "\r",
      " 35%|███▌      | 53/150 [02:32<04:30,  2.79s/it]"
     ]
    },
    {
     "name": "stdout",
     "output_type": "stream",
     "text": [
      "padded sent: (616, 100)\n",
      "feature shape: (616, 100)\n",
      "padded pos sentences: (616, 100)\n",
      "debug padded_pos_sentences: ['A', ',', '^', '<UNK>', '<UNK>', '<UNK>', '<UNK>', '<UNK>', '<UNK>', '<UNK>']\n",
      "pos feature shape: (616, 100)\n",
      "Running model on 616 ADV samples\n",
      "No supervised attention.\n",
      "INFO:tensorflow:Restoring parameters from /Users/pablokvitca/Projects/Academic/NEU/CY7790/toxicity_filter_attacks/model_new/model_noatt_checkpoints/best_model\n"
     ]
    },
    {
     "name": "stderr",
     "output_type": "stream",
     "text": [
      "\r",
      " 36%|███▌      | 54/150 [02:35<04:23,  2.75s/it]"
     ]
    },
    {
     "name": "stdout",
     "output_type": "stream",
     "text": [
      "padded sent: (616, 100)\n",
      "feature shape: (616, 100)\n",
      "padded pos sentences: (616, 100)\n",
      "debug padded_pos_sentences: ['A', ',', '^', '<UNK>', '<UNK>', '<UNK>', '<UNK>', '<UNK>', '<UNK>', '<UNK>']\n",
      "pos feature shape: (616, 100)\n",
      "Running model on 616 ADV samples\n",
      "No supervised attention.\n",
      "INFO:tensorflow:Restoring parameters from /Users/pablokvitca/Projects/Academic/NEU/CY7790/toxicity_filter_attacks/model_new/model_noatt_checkpoints/best_model\n"
     ]
    },
    {
     "name": "stderr",
     "output_type": "stream",
     "text": [
      "\r",
      " 37%|███▋      | 55/150 [02:38<04:20,  2.74s/it]"
     ]
    },
    {
     "name": "stdout",
     "output_type": "stream",
     "text": [
      "padded sent: (616, 100)\n",
      "feature shape: (616, 100)\n",
      "padded pos sentences: (616, 100)\n",
      "debug padded_pos_sentences: ['A', ',', '^', '<UNK>', '<UNK>', '<UNK>', '<UNK>', '<UNK>', '<UNK>', '<UNK>']\n",
      "pos feature shape: (616, 100)\n",
      "Running model on 616 ADV samples\n",
      "No supervised attention.\n",
      "INFO:tensorflow:Restoring parameters from /Users/pablokvitca/Projects/Academic/NEU/CY7790/toxicity_filter_attacks/model_new/model_noatt_checkpoints/best_model\n"
     ]
    },
    {
     "name": "stderr",
     "output_type": "stream",
     "text": [
      "\r",
      " 37%|███▋      | 56/150 [02:40<04:16,  2.73s/it]"
     ]
    },
    {
     "name": "stdout",
     "output_type": "stream",
     "text": [
      "padded sent: (616, 100)\n",
      "feature shape: (616, 100)\n",
      "padded pos sentences: (616, 100)\n",
      "debug padded_pos_sentences: ['A', ',', '^', '<UNK>', '<UNK>', '<UNK>', '<UNK>', '<UNK>', '<UNK>', '<UNK>']\n",
      "pos feature shape: (616, 100)\n",
      "Running model on 616 ADV samples\n",
      "No supervised attention.\n",
      "INFO:tensorflow:Restoring parameters from /Users/pablokvitca/Projects/Academic/NEU/CY7790/toxicity_filter_attacks/model_new/model_noatt_checkpoints/best_model\n"
     ]
    },
    {
     "name": "stderr",
     "output_type": "stream",
     "text": [
      "\r",
      " 38%|███▊      | 57/150 [02:43<04:14,  2.73s/it]"
     ]
    },
    {
     "name": "stdout",
     "output_type": "stream",
     "text": [
      "padded sent: (616, 100)\n",
      "feature shape: (616, 100)\n",
      "padded pos sentences: (616, 100)\n",
      "debug padded_pos_sentences: ['A', ',', '^', '<UNK>', '<UNK>', '<UNK>', '<UNK>', '<UNK>', '<UNK>', '<UNK>']\n",
      "pos feature shape: (616, 100)\n",
      "Running model on 616 ADV samples\n",
      "No supervised attention.\n",
      "INFO:tensorflow:Restoring parameters from /Users/pablokvitca/Projects/Academic/NEU/CY7790/toxicity_filter_attacks/model_new/model_noatt_checkpoints/best_model\n"
     ]
    },
    {
     "name": "stderr",
     "output_type": "stream",
     "text": [
      "\r",
      " 39%|███▊      | 58/150 [02:46<04:14,  2.76s/it]"
     ]
    },
    {
     "name": "stdout",
     "output_type": "stream",
     "text": [
      "padded sent: (616, 100)\n",
      "feature shape: (616, 100)\n",
      "padded pos sentences: (616, 100)\n",
      "debug padded_pos_sentences: ['A', ',', '^', '<UNK>', '<UNK>', '<UNK>', '<UNK>', '<UNK>', '<UNK>', '<UNK>']\n",
      "pos feature shape: (616, 100)\n",
      "Running model on 616 ADV samples\n",
      "No supervised attention.\n",
      "INFO:tensorflow:Restoring parameters from /Users/pablokvitca/Projects/Academic/NEU/CY7790/toxicity_filter_attacks/model_new/model_noatt_checkpoints/best_model\n"
     ]
    },
    {
     "name": "stderr",
     "output_type": "stream",
     "text": [
      "\r",
      " 39%|███▉      | 59/150 [02:49<04:12,  2.78s/it]"
     ]
    },
    {
     "name": "stdout",
     "output_type": "stream",
     "text": [
      "padded sent: (616, 100)\n",
      "feature shape: (616, 100)\n",
      "padded pos sentences: (616, 100)\n",
      "debug padded_pos_sentences: ['A', ',', '^', '<UNK>', '<UNK>', '<UNK>', '<UNK>', '<UNK>', '<UNK>', '<UNK>']\n",
      "pos feature shape: (616, 100)\n",
      "Running model on 616 ADV samples\n",
      "No supervised attention.\n",
      "INFO:tensorflow:Restoring parameters from /Users/pablokvitca/Projects/Academic/NEU/CY7790/toxicity_filter_attacks/model_new/model_noatt_checkpoints/best_model\n"
     ]
    },
    {
     "name": "stderr",
     "output_type": "stream",
     "text": [
      "\r",
      " 40%|████      | 60/150 [02:52<04:11,  2.80s/it]"
     ]
    },
    {
     "name": "stdout",
     "output_type": "stream",
     "text": [
      "padded sent: (616, 100)\n",
      "feature shape: (616, 100)\n",
      "padded pos sentences: (616, 100)\n",
      "debug padded_pos_sentences: ['<UNK>', '<UNK>', '<UNK>', '<UNK>', '<UNK>', '<UNK>', '<UNK>', '<UNK>', '<UNK>', '<UNK>']\n",
      "pos feature shape: (616, 100)\n",
      "Running model on 616 ADV samples\n",
      "No supervised attention.\n",
      "INFO:tensorflow:Restoring parameters from /Users/pablokvitca/Projects/Academic/NEU/CY7790/toxicity_filter_attacks/model_new/model_noatt_checkpoints/best_model\n"
     ]
    },
    {
     "name": "stderr",
     "output_type": "stream",
     "text": [
      "\r",
      " 41%|████      | 61/150 [02:54<04:04,  2.75s/it]"
     ]
    },
    {
     "name": "stdout",
     "output_type": "stream",
     "text": [
      "padded sent: (616, 100)\n",
      "feature shape: (616, 100)\n",
      "padded pos sentences: (616, 100)\n",
      "debug padded_pos_sentences: ['<UNK>', '<UNK>', '<UNK>', '<UNK>', '<UNK>', '<UNK>', '<UNK>', '<UNK>', '<UNK>', '<UNK>']\n",
      "pos feature shape: (616, 100)\n",
      "Running model on 616 ADV samples\n",
      "No supervised attention.\n",
      "INFO:tensorflow:Restoring parameters from /Users/pablokvitca/Projects/Academic/NEU/CY7790/toxicity_filter_attacks/model_new/model_noatt_checkpoints/best_model\n"
     ]
    },
    {
     "name": "stderr",
     "output_type": "stream",
     "text": [
      "\r",
      " 41%|████▏     | 62/150 [02:57<03:59,  2.72s/it]"
     ]
    },
    {
     "name": "stdout",
     "output_type": "stream",
     "text": [
      "padded sent: (616, 100)\n",
      "feature shape: (616, 100)\n",
      "padded pos sentences: (616, 100)\n",
      "debug padded_pos_sentences: ['<UNK>', '<UNK>', '<UNK>', '<UNK>', '<UNK>', '<UNK>', '<UNK>', '<UNK>', '<UNK>', '<UNK>']\n",
      "pos feature shape: (616, 100)\n",
      "Running model on 616 ADV samples\n",
      "No supervised attention.\n",
      "INFO:tensorflow:Restoring parameters from /Users/pablokvitca/Projects/Academic/NEU/CY7790/toxicity_filter_attacks/model_new/model_noatt_checkpoints/best_model\n"
     ]
    },
    {
     "name": "stderr",
     "output_type": "stream",
     "text": [
      "\r",
      " 42%|████▏     | 63/150 [03:00<03:56,  2.71s/it]"
     ]
    },
    {
     "name": "stdout",
     "output_type": "stream",
     "text": [
      "padded sent: (616, 100)\n",
      "feature shape: (616, 100)\n",
      "padded pos sentences: (616, 100)\n",
      "debug padded_pos_sentences: ['<UNK>', '<UNK>', '<UNK>', '<UNK>', '<UNK>', '<UNK>', '<UNK>', '<UNK>', '<UNK>', '<UNK>']\n",
      "pos feature shape: (616, 100)\n",
      "Running model on 616 ADV samples\n",
      "No supervised attention.\n",
      "INFO:tensorflow:Restoring parameters from /Users/pablokvitca/Projects/Academic/NEU/CY7790/toxicity_filter_attacks/model_new/model_noatt_checkpoints/best_model\n"
     ]
    },
    {
     "name": "stderr",
     "output_type": "stream",
     "text": [
      "\r",
      " 43%|████▎     | 64/150 [03:02<03:58,  2.77s/it]"
     ]
    },
    {
     "name": "stdout",
     "output_type": "stream",
     "text": [
      "padded sent: (616, 100)\n",
      "feature shape: (616, 100)\n",
      "padded pos sentences: (616, 100)\n",
      "debug padded_pos_sentences: ['<UNK>', '<UNK>', '<UNK>', '<UNK>', '<UNK>', '<UNK>', '<UNK>', '<UNK>', '<UNK>', '<UNK>']\n",
      "pos feature shape: (616, 100)\n",
      "Running model on 616 ADV samples\n",
      "No supervised attention.\n",
      "INFO:tensorflow:Restoring parameters from /Users/pablokvitca/Projects/Academic/NEU/CY7790/toxicity_filter_attacks/model_new/model_noatt_checkpoints/best_model\n"
     ]
    },
    {
     "name": "stderr",
     "output_type": "stream",
     "text": [
      "\r",
      " 43%|████▎     | 65/150 [03:05<03:55,  2.77s/it]"
     ]
    },
    {
     "name": "stdout",
     "output_type": "stream",
     "text": [
      "padded sent: (616, 100)\n",
      "feature shape: (616, 100)\n",
      "padded pos sentences: (616, 100)\n",
      "debug padded_pos_sentences: ['<UNK>', '<UNK>', '<UNK>', '<UNK>', '<UNK>', '<UNK>', '<UNK>', '<UNK>', '<UNK>', '<UNK>']\n",
      "pos feature shape: (616, 100)\n",
      "Running model on 616 ADV samples\n",
      "No supervised attention.\n",
      "INFO:tensorflow:Restoring parameters from /Users/pablokvitca/Projects/Academic/NEU/CY7790/toxicity_filter_attacks/model_new/model_noatt_checkpoints/best_model\n"
     ]
    },
    {
     "name": "stderr",
     "output_type": "stream",
     "text": [
      "\r",
      " 44%|████▍     | 66/150 [03:08<03:52,  2.77s/it]"
     ]
    },
    {
     "name": "stdout",
     "output_type": "stream",
     "text": [
      "padded sent: (616, 100)\n",
      "feature shape: (616, 100)\n",
      "padded pos sentences: (616, 100)\n",
      "debug padded_pos_sentences: ['<UNK>', '<UNK>', '<UNK>', '<UNK>', '<UNK>', '<UNK>', '<UNK>', '<UNK>', '<UNK>', '<UNK>']\n",
      "pos feature shape: (616, 100)\n",
      "Running model on 616 ADV samples\n",
      "No supervised attention.\n",
      "INFO:tensorflow:Restoring parameters from /Users/pablokvitca/Projects/Academic/NEU/CY7790/toxicity_filter_attacks/model_new/model_noatt_checkpoints/best_model\n"
     ]
    },
    {
     "name": "stderr",
     "output_type": "stream",
     "text": [
      "\r",
      " 45%|████▍     | 67/150 [03:11<03:50,  2.77s/it]"
     ]
    },
    {
     "name": "stdout",
     "output_type": "stream",
     "text": [
      "padded sent: (616, 100)\n",
      "feature shape: (616, 100)\n",
      "padded pos sentences: (616, 100)\n",
      "debug padded_pos_sentences: ['<UNK>', '<UNK>', '<UNK>', '<UNK>', '<UNK>', '<UNK>', '<UNK>', '<UNK>', '<UNK>', '<UNK>']\n",
      "pos feature shape: (616, 100)\n",
      "Running model on 616 ADV samples\n",
      "No supervised attention.\n",
      "INFO:tensorflow:Restoring parameters from /Users/pablokvitca/Projects/Academic/NEU/CY7790/toxicity_filter_attacks/model_new/model_noatt_checkpoints/best_model\n"
     ]
    },
    {
     "name": "stderr",
     "output_type": "stream",
     "text": [
      "\r",
      " 45%|████▌     | 68/150 [03:14<03:47,  2.77s/it]"
     ]
    },
    {
     "name": "stdout",
     "output_type": "stream",
     "text": [
      "padded sent: (616, 100)\n",
      "feature shape: (616, 100)\n",
      "padded pos sentences: (616, 100)\n",
      "debug padded_pos_sentences: ['<UNK>', '<UNK>', '<UNK>', '<UNK>', '<UNK>', '<UNK>', '<UNK>', '<UNK>', '<UNK>', '<UNK>']\n",
      "pos feature shape: (616, 100)\n",
      "Running model on 616 ADV samples\n",
      "No supervised attention.\n",
      "INFO:tensorflow:Restoring parameters from /Users/pablokvitca/Projects/Academic/NEU/CY7790/toxicity_filter_attacks/model_new/model_noatt_checkpoints/best_model\n"
     ]
    },
    {
     "name": "stderr",
     "output_type": "stream",
     "text": [
      "\r",
      " 46%|████▌     | 69/150 [03:16<03:48,  2.82s/it]"
     ]
    },
    {
     "name": "stdout",
     "output_type": "stream",
     "text": [
      "padded sent: (616, 100)\n",
      "feature shape: (616, 100)\n",
      "padded pos sentences: (616, 100)\n",
      "debug padded_pos_sentences: ['<UNK>', '<UNK>', '<UNK>', '<UNK>', '<UNK>', '<UNK>', '<UNK>', '<UNK>', '<UNK>', '<UNK>']\n",
      "pos feature shape: (616, 100)\n",
      "Running model on 616 ADV samples\n",
      "No supervised attention.\n",
      "INFO:tensorflow:Restoring parameters from /Users/pablokvitca/Projects/Academic/NEU/CY7790/toxicity_filter_attacks/model_new/model_noatt_checkpoints/best_model\n"
     ]
    },
    {
     "name": "stderr",
     "output_type": "stream",
     "text": [
      "\r",
      " 47%|████▋     | 70/150 [03:19<03:46,  2.83s/it]"
     ]
    },
    {
     "name": "stdout",
     "output_type": "stream",
     "text": [
      "padded sent: (616, 100)\n",
      "feature shape: (616, 100)\n",
      "padded pos sentences: (616, 100)\n",
      "debug padded_pos_sentences: ['<UNK>', '<UNK>', '<UNK>', '<UNK>', '<UNK>', '<UNK>', '<UNK>', '<UNK>', '<UNK>', '<UNK>']\n",
      "pos feature shape: (616, 100)\n",
      "Running model on 616 ADV samples\n",
      "No supervised attention.\n",
      "INFO:tensorflow:Restoring parameters from /Users/pablokvitca/Projects/Academic/NEU/CY7790/toxicity_filter_attacks/model_new/model_noatt_checkpoints/best_model\n"
     ]
    },
    {
     "name": "stderr",
     "output_type": "stream",
     "text": [
      "\r",
      " 47%|████▋     | 71/150 [03:22<03:41,  2.80s/it]"
     ]
    },
    {
     "name": "stdout",
     "output_type": "stream",
     "text": [
      "padded sent: (616, 100)\n",
      "feature shape: (616, 100)\n",
      "padded pos sentences: (616, 100)\n",
      "debug padded_pos_sentences: ['<UNK>', '<UNK>', '<UNK>', '<UNK>', '<UNK>', '<UNK>', '<UNK>', '<UNK>', '<UNK>', '<UNK>']\n",
      "pos feature shape: (616, 100)\n",
      "Running model on 616 ADV samples\n",
      "No supervised attention.\n",
      "INFO:tensorflow:Restoring parameters from /Users/pablokvitca/Projects/Academic/NEU/CY7790/toxicity_filter_attacks/model_new/model_noatt_checkpoints/best_model\n"
     ]
    },
    {
     "name": "stderr",
     "output_type": "stream",
     "text": [
      "\r",
      " 48%|████▊     | 72/150 [03:25<03:36,  2.78s/it]"
     ]
    },
    {
     "name": "stdout",
     "output_type": "stream",
     "text": [
      "padded sent: (616, 100)\n",
      "feature shape: (616, 100)\n",
      "padded pos sentences: (616, 100)\n",
      "debug padded_pos_sentences: ['<UNK>', '<UNK>', '<UNK>', '<UNK>', '<UNK>', '<UNK>', '<UNK>', '<UNK>', '<UNK>', '<UNK>']\n",
      "pos feature shape: (616, 100)\n",
      "Running model on 616 ADV samples\n",
      "No supervised attention.\n",
      "INFO:tensorflow:Restoring parameters from /Users/pablokvitca/Projects/Academic/NEU/CY7790/toxicity_filter_attacks/model_new/model_noatt_checkpoints/best_model\n"
     ]
    },
    {
     "name": "stderr",
     "output_type": "stream",
     "text": [
      "\r",
      " 49%|████▊     | 73/150 [03:28<03:33,  2.77s/it]"
     ]
    },
    {
     "name": "stdout",
     "output_type": "stream",
     "text": [
      "padded sent: (616, 100)\n",
      "feature shape: (616, 100)\n",
      "padded pos sentences: (616, 100)\n",
      "debug padded_pos_sentences: ['<UNK>', '<UNK>', '<UNK>', '<UNK>', '<UNK>', '<UNK>', '<UNK>', '<UNK>', '<UNK>', '<UNK>']\n",
      "pos feature shape: (616, 100)\n",
      "Running model on 616 ADV samples\n",
      "No supervised attention.\n",
      "INFO:tensorflow:Restoring parameters from /Users/pablokvitca/Projects/Academic/NEU/CY7790/toxicity_filter_attacks/model_new/model_noatt_checkpoints/best_model\n"
     ]
    },
    {
     "name": "stderr",
     "output_type": "stream",
     "text": [
      "\r",
      " 49%|████▉     | 74/150 [03:30<03:31,  2.78s/it]"
     ]
    },
    {
     "name": "stdout",
     "output_type": "stream",
     "text": [
      "padded sent: (616, 100)\n",
      "feature shape: (616, 100)\n",
      "padded pos sentences: (616, 100)\n",
      "debug padded_pos_sentences: ['<UNK>', '<UNK>', '<UNK>', '<UNK>', '<UNK>', '<UNK>', '<UNK>', '<UNK>', '<UNK>', '<UNK>']\n",
      "pos feature shape: (616, 100)\n",
      "Running model on 616 ADV samples\n",
      "No supervised attention.\n",
      "INFO:tensorflow:Restoring parameters from /Users/pablokvitca/Projects/Academic/NEU/CY7790/toxicity_filter_attacks/model_new/model_noatt_checkpoints/best_model\n"
     ]
    },
    {
     "name": "stderr",
     "output_type": "stream",
     "text": [
      "\r",
      " 50%|█████     | 75/150 [03:33<03:27,  2.77s/it]"
     ]
    },
    {
     "name": "stdout",
     "output_type": "stream",
     "text": [
      "padded sent: (616, 100)\n",
      "feature shape: (616, 100)\n",
      "padded pos sentences: (616, 100)\n",
      "debug padded_pos_sentences: ['<UNK>', '<UNK>', '<UNK>', '<UNK>', '<UNK>', '<UNK>', '<UNK>', '<UNK>', '<UNK>', '<UNK>']\n",
      "pos feature shape: (616, 100)\n",
      "Running model on 616 ADV samples\n",
      "No supervised attention.\n",
      "INFO:tensorflow:Restoring parameters from /Users/pablokvitca/Projects/Academic/NEU/CY7790/toxicity_filter_attacks/model_new/model_noatt_checkpoints/best_model\n"
     ]
    },
    {
     "name": "stderr",
     "output_type": "stream",
     "text": [
      "\r",
      " 51%|█████     | 76/150 [03:36<03:24,  2.77s/it]"
     ]
    },
    {
     "name": "stdout",
     "output_type": "stream",
     "text": [
      "padded sent: (616, 100)\n",
      "feature shape: (616, 100)\n",
      "padded pos sentences: (616, 100)\n",
      "debug padded_pos_sentences: ['<UNK>', '<UNK>', '<UNK>', '<UNK>', '<UNK>', '<UNK>', '<UNK>', '<UNK>', '<UNK>', '<UNK>']\n",
      "pos feature shape: (616, 100)\n",
      "Running model on 616 ADV samples\n",
      "No supervised attention.\n",
      "INFO:tensorflow:Restoring parameters from /Users/pablokvitca/Projects/Academic/NEU/CY7790/toxicity_filter_attacks/model_new/model_noatt_checkpoints/best_model\n"
     ]
    },
    {
     "name": "stderr",
     "output_type": "stream",
     "text": [
      "\r",
      " 51%|█████▏    | 77/150 [03:39<03:22,  2.78s/it]"
     ]
    },
    {
     "name": "stdout",
     "output_type": "stream",
     "text": [
      "padded sent: (616, 100)\n",
      "feature shape: (616, 100)\n",
      "padded pos sentences: (616, 100)\n",
      "debug padded_pos_sentences: ['<UNK>', '<UNK>', '<UNK>', '<UNK>', '<UNK>', '<UNK>', '<UNK>', '<UNK>', '<UNK>', '<UNK>']\n",
      "pos feature shape: (616, 100)\n",
      "Running model on 616 ADV samples\n",
      "No supervised attention.\n",
      "INFO:tensorflow:Restoring parameters from /Users/pablokvitca/Projects/Academic/NEU/CY7790/toxicity_filter_attacks/model_new/model_noatt_checkpoints/best_model\n"
     ]
    },
    {
     "name": "stderr",
     "output_type": "stream",
     "text": [
      "\r",
      " 52%|█████▏    | 78/150 [03:41<03:20,  2.78s/it]"
     ]
    },
    {
     "name": "stdout",
     "output_type": "stream",
     "text": [
      "padded sent: (616, 100)\n",
      "feature shape: (616, 100)\n",
      "padded pos sentences: (616, 100)\n",
      "debug padded_pos_sentences: ['<UNK>', '<UNK>', '<UNK>', '<UNK>', '<UNK>', '<UNK>', '<UNK>', '<UNK>', '<UNK>', '<UNK>']\n",
      "pos feature shape: (616, 100)\n",
      "Running model on 616 ADV samples\n",
      "No supervised attention.\n",
      "INFO:tensorflow:Restoring parameters from /Users/pablokvitca/Projects/Academic/NEU/CY7790/toxicity_filter_attacks/model_new/model_noatt_checkpoints/best_model\n"
     ]
    },
    {
     "name": "stderr",
     "output_type": "stream",
     "text": [
      "\r",
      " 53%|█████▎    | 79/150 [03:44<03:19,  2.81s/it]"
     ]
    },
    {
     "name": "stdout",
     "output_type": "stream",
     "text": [
      "padded sent: (616, 100)\n",
      "feature shape: (616, 100)\n",
      "padded pos sentences: (616, 100)\n",
      "debug padded_pos_sentences: ['<UNK>', '<UNK>', '<UNK>', '<UNK>', '<UNK>', '<UNK>', '<UNK>', '<UNK>', '<UNK>', '<UNK>']\n",
      "pos feature shape: (616, 100)\n",
      "Running model on 616 ADV samples\n",
      "No supervised attention.\n",
      "INFO:tensorflow:Restoring parameters from /Users/pablokvitca/Projects/Academic/NEU/CY7790/toxicity_filter_attacks/model_new/model_noatt_checkpoints/best_model\n"
     ]
    },
    {
     "name": "stderr",
     "output_type": "stream",
     "text": [
      "\r",
      " 53%|█████▎    | 80/150 [03:47<03:20,  2.86s/it]"
     ]
    },
    {
     "name": "stdout",
     "output_type": "stream",
     "text": [
      "padded sent: (616, 100)\n",
      "feature shape: (616, 100)\n",
      "padded pos sentences: (616, 100)\n",
      "debug padded_pos_sentences: ['<UNK>', '<UNK>', '<UNK>', '<UNK>', '<UNK>', '<UNK>', '<UNK>', '<UNK>', '<UNK>', '<UNK>']\n",
      "pos feature shape: (616, 100)\n",
      "Running model on 616 ADV samples\n",
      "No supervised attention.\n",
      "INFO:tensorflow:Restoring parameters from /Users/pablokvitca/Projects/Academic/NEU/CY7790/toxicity_filter_attacks/model_new/model_noatt_checkpoints/best_model\n"
     ]
    },
    {
     "name": "stderr",
     "output_type": "stream",
     "text": [
      "\r",
      " 54%|█████▍    | 81/150 [03:50<03:15,  2.83s/it]"
     ]
    },
    {
     "name": "stdout",
     "output_type": "stream",
     "text": [
      "padded sent: (616, 100)\n",
      "feature shape: (616, 100)\n",
      "padded pos sentences: (616, 100)\n",
      "debug padded_pos_sentences: ['<UNK>', '<UNK>', '<UNK>', '<UNK>', '<UNK>', '<UNK>', '<UNK>', '<UNK>', '<UNK>', '<UNK>']\n",
      "pos feature shape: (616, 100)\n",
      "Running model on 616 ADV samples\n",
      "No supervised attention.\n",
      "INFO:tensorflow:Restoring parameters from /Users/pablokvitca/Projects/Academic/NEU/CY7790/toxicity_filter_attacks/model_new/model_noatt_checkpoints/best_model\n"
     ]
    },
    {
     "name": "stderr",
     "output_type": "stream",
     "text": [
      "\r",
      " 55%|█████▍    | 82/150 [03:53<03:10,  2.81s/it]"
     ]
    },
    {
     "name": "stdout",
     "output_type": "stream",
     "text": [
      "padded sent: (616, 100)\n",
      "feature shape: (616, 100)\n",
      "padded pos sentences: (616, 100)\n",
      "debug padded_pos_sentences: ['<UNK>', '<UNK>', '<UNK>', '<UNK>', '<UNK>', '<UNK>', '<UNK>', '<UNK>', '<UNK>', '<UNK>']\n",
      "pos feature shape: (616, 100)\n",
      "Running model on 616 ADV samples\n",
      "No supervised attention.\n",
      "INFO:tensorflow:Restoring parameters from /Users/pablokvitca/Projects/Academic/NEU/CY7790/toxicity_filter_attacks/model_new/model_noatt_checkpoints/best_model\n"
     ]
    },
    {
     "name": "stderr",
     "output_type": "stream",
     "text": [
      "\r",
      " 55%|█████▌    | 83/150 [03:56<03:07,  2.79s/it]"
     ]
    },
    {
     "name": "stdout",
     "output_type": "stream",
     "text": [
      "padded sent: (616, 100)\n",
      "feature shape: (616, 100)\n",
      "padded pos sentences: (616, 100)\n",
      "debug padded_pos_sentences: ['<UNK>', '<UNK>', '<UNK>', '<UNK>', '<UNK>', '<UNK>', '<UNK>', '<UNK>', '<UNK>', '<UNK>']\n",
      "pos feature shape: (616, 100)\n",
      "Running model on 616 ADV samples\n",
      "No supervised attention.\n",
      "INFO:tensorflow:Restoring parameters from /Users/pablokvitca/Projects/Academic/NEU/CY7790/toxicity_filter_attacks/model_new/model_noatt_checkpoints/best_model\n"
     ]
    },
    {
     "name": "stderr",
     "output_type": "stream",
     "text": [
      "\r",
      " 56%|█████▌    | 84/150 [03:58<03:03,  2.78s/it]"
     ]
    },
    {
     "name": "stdout",
     "output_type": "stream",
     "text": [
      "padded sent: (616, 100)\n",
      "feature shape: (616, 100)\n",
      "padded pos sentences: (616, 100)\n",
      "debug padded_pos_sentences: ['<UNK>', '<UNK>', '<UNK>', '<UNK>', '<UNK>', '<UNK>', '<UNK>', '<UNK>', '<UNK>', '<UNK>']\n",
      "pos feature shape: (616, 100)\n",
      "Running model on 616 ADV samples\n",
      "No supervised attention.\n",
      "INFO:tensorflow:Restoring parameters from /Users/pablokvitca/Projects/Academic/NEU/CY7790/toxicity_filter_attacks/model_new/model_noatt_checkpoints/best_model\n"
     ]
    },
    {
     "name": "stderr",
     "output_type": "stream",
     "text": [
      "\r",
      " 57%|█████▋    | 85/150 [04:01<03:01,  2.79s/it]"
     ]
    },
    {
     "name": "stdout",
     "output_type": "stream",
     "text": [
      "padded sent: (616, 100)\n",
      "feature shape: (616, 100)\n",
      "padded pos sentences: (616, 100)\n",
      "debug padded_pos_sentences: ['<UNK>', '<UNK>', '<UNK>', '<UNK>', '<UNK>', '<UNK>', '<UNK>', '<UNK>', '<UNK>', '<UNK>']\n",
      "pos feature shape: (616, 100)\n",
      "Running model on 616 ADV samples\n",
      "No supervised attention.\n",
      "INFO:tensorflow:Restoring parameters from /Users/pablokvitca/Projects/Academic/NEU/CY7790/toxicity_filter_attacks/model_new/model_noatt_checkpoints/best_model\n"
     ]
    },
    {
     "name": "stderr",
     "output_type": "stream",
     "text": [
      "\r",
      " 57%|█████▋    | 86/150 [04:04<03:01,  2.83s/it]"
     ]
    },
    {
     "name": "stdout",
     "output_type": "stream",
     "text": [
      "padded sent: (616, 100)\n",
      "feature shape: (616, 100)\n",
      "padded pos sentences: (616, 100)\n",
      "debug padded_pos_sentences: ['<UNK>', '<UNK>', '<UNK>', '<UNK>', '<UNK>', '<UNK>', '<UNK>', '<UNK>', '<UNK>', '<UNK>']\n",
      "pos feature shape: (616, 100)\n",
      "Running model on 616 ADV samples\n",
      "No supervised attention.\n",
      "INFO:tensorflow:Restoring parameters from /Users/pablokvitca/Projects/Academic/NEU/CY7790/toxicity_filter_attacks/model_new/model_noatt_checkpoints/best_model\n"
     ]
    },
    {
     "name": "stderr",
     "output_type": "stream",
     "text": [
      "\r",
      " 58%|█████▊    | 87/150 [04:07<02:58,  2.83s/it]"
     ]
    },
    {
     "name": "stdout",
     "output_type": "stream",
     "text": [
      "padded sent: (616, 100)\n",
      "feature shape: (616, 100)\n",
      "padded pos sentences: (616, 100)\n",
      "debug padded_pos_sentences: ['<UNK>', '<UNK>', '<UNK>', '<UNK>', '<UNK>', '<UNK>', '<UNK>', '<UNK>', '<UNK>', '<UNK>']\n",
      "pos feature shape: (616, 100)\n",
      "Running model on 616 ADV samples\n",
      "No supervised attention.\n",
      "INFO:tensorflow:Restoring parameters from /Users/pablokvitca/Projects/Academic/NEU/CY7790/toxicity_filter_attacks/model_new/model_noatt_checkpoints/best_model\n"
     ]
    },
    {
     "name": "stderr",
     "output_type": "stream",
     "text": [
      "\r",
      " 59%|█████▊    | 88/150 [04:10<02:55,  2.83s/it]"
     ]
    },
    {
     "name": "stdout",
     "output_type": "stream",
     "text": [
      "padded sent: (616, 100)\n",
      "feature shape: (616, 100)\n",
      "padded pos sentences: (616, 100)\n",
      "debug padded_pos_sentences: ['<UNK>', '<UNK>', '<UNK>', '<UNK>', '<UNK>', '<UNK>', '<UNK>', '<UNK>', '<UNK>', '<UNK>']\n",
      "pos feature shape: (616, 100)\n",
      "Running model on 616 ADV samples\n",
      "No supervised attention.\n",
      "INFO:tensorflow:Restoring parameters from /Users/pablokvitca/Projects/Academic/NEU/CY7790/toxicity_filter_attacks/model_new/model_noatt_checkpoints/best_model\n"
     ]
    },
    {
     "name": "stderr",
     "output_type": "stream",
     "text": [
      "\r",
      " 59%|█████▉    | 89/150 [04:13<02:53,  2.85s/it]"
     ]
    },
    {
     "name": "stdout",
     "output_type": "stream",
     "text": [
      "padded sent: (616, 100)\n",
      "feature shape: (616, 100)\n",
      "padded pos sentences: (616, 100)\n",
      "debug padded_pos_sentences: ['<UNK>', '<UNK>', '<UNK>', '<UNK>', '<UNK>', '<UNK>', '<UNK>', '<UNK>', '<UNK>', '<UNK>']\n",
      "pos feature shape: (616, 100)\n",
      "Running model on 616 ADV samples\n",
      "No supervised attention.\n",
      "INFO:tensorflow:Restoring parameters from /Users/pablokvitca/Projects/Academic/NEU/CY7790/toxicity_filter_attacks/model_new/model_noatt_checkpoints/best_model\n"
     ]
    },
    {
     "name": "stderr",
     "output_type": "stream",
     "text": [
      "\r",
      " 60%|██████    | 90/150 [04:15<02:51,  2.86s/it]"
     ]
    },
    {
     "name": "stdout",
     "output_type": "stream",
     "text": [
      "padded sent: (616, 100)\n",
      "feature shape: (616, 100)\n",
      "padded pos sentences: (616, 100)\n",
      "debug padded_pos_sentences: ['<UNK>', '<UNK>', '<UNK>', '<UNK>', '<UNK>', '<UNK>', '<UNK>', '<UNK>', '<UNK>', '<UNK>']\n",
      "pos feature shape: (616, 100)\n",
      "Running model on 616 ADV samples\n",
      "No supervised attention.\n",
      "INFO:tensorflow:Restoring parameters from /Users/pablokvitca/Projects/Academic/NEU/CY7790/toxicity_filter_attacks/model_new/model_noatt_checkpoints/best_model\n"
     ]
    },
    {
     "name": "stderr",
     "output_type": "stream",
     "text": [
      "\r",
      " 61%|██████    | 91/150 [04:18<02:49,  2.88s/it]"
     ]
    },
    {
     "name": "stdout",
     "output_type": "stream",
     "text": [
      "padded sent: (616, 100)\n",
      "feature shape: (616, 100)\n",
      "padded pos sentences: (616, 100)\n",
      "debug padded_pos_sentences: ['<UNK>', '<UNK>', '<UNK>', '<UNK>', '<UNK>', '<UNK>', '<UNK>', '<UNK>', '<UNK>', '<UNK>']\n",
      "pos feature shape: (616, 100)\n",
      "Running model on 616 ADV samples\n",
      "No supervised attention.\n",
      "INFO:tensorflow:Restoring parameters from /Users/pablokvitca/Projects/Academic/NEU/CY7790/toxicity_filter_attacks/model_new/model_noatt_checkpoints/best_model\n"
     ]
    },
    {
     "name": "stderr",
     "output_type": "stream",
     "text": [
      "\r",
      " 61%|██████▏   | 92/150 [04:21<02:45,  2.85s/it]"
     ]
    },
    {
     "name": "stdout",
     "output_type": "stream",
     "text": [
      "padded sent: (616, 100)\n",
      "feature shape: (616, 100)\n",
      "padded pos sentences: (616, 100)\n",
      "debug padded_pos_sentences: ['<UNK>', '<UNK>', '<UNK>', '<UNK>', '<UNK>', '<UNK>', '<UNK>', '<UNK>', '<UNK>', '<UNK>']\n",
      "pos feature shape: (616, 100)\n",
      "Running model on 616 ADV samples\n",
      "No supervised attention.\n",
      "INFO:tensorflow:Restoring parameters from /Users/pablokvitca/Projects/Academic/NEU/CY7790/toxicity_filter_attacks/model_new/model_noatt_checkpoints/best_model\n"
     ]
    },
    {
     "name": "stderr",
     "output_type": "stream",
     "text": [
      "\r",
      " 62%|██████▏   | 93/150 [04:24<02:43,  2.87s/it]"
     ]
    },
    {
     "name": "stdout",
     "output_type": "stream",
     "text": [
      "padded sent: (616, 100)\n",
      "feature shape: (616, 100)\n",
      "padded pos sentences: (616, 100)\n",
      "debug padded_pos_sentences: ['<UNK>', '<UNK>', '<UNK>', '<UNK>', '<UNK>', '<UNK>', '<UNK>', '<UNK>', '<UNK>', '<UNK>']\n",
      "pos feature shape: (616, 100)\n",
      "Running model on 616 ADV samples\n",
      "No supervised attention.\n",
      "INFO:tensorflow:Restoring parameters from /Users/pablokvitca/Projects/Academic/NEU/CY7790/toxicity_filter_attacks/model_new/model_noatt_checkpoints/best_model\n"
     ]
    },
    {
     "name": "stderr",
     "output_type": "stream",
     "text": [
      "\r",
      " 63%|██████▎   | 94/150 [04:27<02:44,  2.93s/it]"
     ]
    },
    {
     "name": "stdout",
     "output_type": "stream",
     "text": [
      "padded sent: (616, 100)\n",
      "feature shape: (616, 100)\n",
      "padded pos sentences: (616, 100)\n",
      "debug padded_pos_sentences: ['<UNK>', '<UNK>', '<UNK>', '<UNK>', '<UNK>', '<UNK>', '<UNK>', '<UNK>', '<UNK>', '<UNK>']\n",
      "pos feature shape: (616, 100)\n",
      "Running model on 616 ADV samples\n",
      "No supervised attention.\n",
      "INFO:tensorflow:Restoring parameters from /Users/pablokvitca/Projects/Academic/NEU/CY7790/toxicity_filter_attacks/model_new/model_noatt_checkpoints/best_model\n"
     ]
    },
    {
     "name": "stderr",
     "output_type": "stream",
     "text": [
      "\r",
      " 63%|██████▎   | 95/150 [04:30<02:40,  2.92s/it]"
     ]
    },
    {
     "name": "stdout",
     "output_type": "stream",
     "text": [
      "padded sent: (616, 100)\n",
      "feature shape: (616, 100)\n",
      "padded pos sentences: (616, 100)\n",
      "debug padded_pos_sentences: ['<UNK>', '<UNK>', '<UNK>', '<UNK>', '<UNK>', '<UNK>', '<UNK>', '<UNK>', '<UNK>', '<UNK>']\n",
      "pos feature shape: (616, 100)\n",
      "Running model on 616 ADV samples\n",
      "No supervised attention.\n",
      "INFO:tensorflow:Restoring parameters from /Users/pablokvitca/Projects/Academic/NEU/CY7790/toxicity_filter_attacks/model_new/model_noatt_checkpoints/best_model\n"
     ]
    },
    {
     "name": "stderr",
     "output_type": "stream",
     "text": [
      "\r",
      " 64%|██████▍   | 96/150 [04:33<02:37,  2.92s/it]"
     ]
    },
    {
     "name": "stdout",
     "output_type": "stream",
     "text": [
      "padded sent: (616, 100)\n",
      "feature shape: (616, 100)\n",
      "padded pos sentences: (616, 100)\n",
      "debug padded_pos_sentences: ['<UNK>', '<UNK>', '<UNK>', '<UNK>', '<UNK>', '<UNK>', '<UNK>', '<UNK>', '<UNK>', '<UNK>']\n",
      "pos feature shape: (616, 100)\n",
      "Running model on 616 ADV samples\n",
      "No supervised attention.\n",
      "INFO:tensorflow:Restoring parameters from /Users/pablokvitca/Projects/Academic/NEU/CY7790/toxicity_filter_attacks/model_new/model_noatt_checkpoints/best_model\n"
     ]
    },
    {
     "name": "stderr",
     "output_type": "stream",
     "text": [
      "\r",
      " 65%|██████▍   | 97/150 [04:36<02:34,  2.91s/it]"
     ]
    },
    {
     "name": "stdout",
     "output_type": "stream",
     "text": [
      "padded sent: (616, 100)\n",
      "feature shape: (616, 100)\n",
      "padded pos sentences: (616, 100)\n",
      "debug padded_pos_sentences: ['<UNK>', '<UNK>', '<UNK>', '<UNK>', '<UNK>', '<UNK>', '<UNK>', '<UNK>', '<UNK>', '<UNK>']\n",
      "pos feature shape: (616, 100)\n",
      "Running model on 616 ADV samples\n",
      "No supervised attention.\n",
      "INFO:tensorflow:Restoring parameters from /Users/pablokvitca/Projects/Academic/NEU/CY7790/toxicity_filter_attacks/model_new/model_noatt_checkpoints/best_model\n"
     ]
    },
    {
     "name": "stderr",
     "output_type": "stream",
     "text": [
      "\r",
      " 65%|██████▌   | 98/150 [04:39<02:31,  2.91s/it]"
     ]
    },
    {
     "name": "stdout",
     "output_type": "stream",
     "text": [
      "padded sent: (616, 100)\n",
      "feature shape: (616, 100)\n",
      "padded pos sentences: (616, 100)\n",
      "debug padded_pos_sentences: ['<UNK>', '<UNK>', '<UNK>', '<UNK>', '<UNK>', '<UNK>', '<UNK>', '<UNK>', '<UNK>', '<UNK>']\n",
      "pos feature shape: (616, 100)\n",
      "Running model on 616 ADV samples\n",
      "No supervised attention.\n",
      "INFO:tensorflow:Restoring parameters from /Users/pablokvitca/Projects/Academic/NEU/CY7790/toxicity_filter_attacks/model_new/model_noatt_checkpoints/best_model\n"
     ]
    },
    {
     "name": "stderr",
     "output_type": "stream",
     "text": [
      "\r",
      " 66%|██████▌   | 99/150 [04:42<02:28,  2.91s/it]"
     ]
    },
    {
     "name": "stdout",
     "output_type": "stream",
     "text": [
      "padded sent: (616, 100)\n",
      "feature shape: (616, 100)\n",
      "padded pos sentences: (616, 100)\n",
      "debug padded_pos_sentences: ['<UNK>', '<UNK>', '<UNK>', '<UNK>', '<UNK>', '<UNK>', '<UNK>', '<UNK>', '<UNK>', '<UNK>']\n",
      "pos feature shape: (616, 100)\n",
      "Running model on 616 ADV samples\n",
      "No supervised attention.\n",
      "INFO:tensorflow:Restoring parameters from /Users/pablokvitca/Projects/Academic/NEU/CY7790/toxicity_filter_attacks/model_new/model_noatt_checkpoints/best_model\n"
     ]
    },
    {
     "name": "stderr",
     "output_type": "stream",
     "text": [
      "\r",
      " 67%|██████▋   | 100/150 [04:45<02:25,  2.91s/it]"
     ]
    },
    {
     "name": "stdout",
     "output_type": "stream",
     "text": [
      "padded sent: (616, 100)\n",
      "feature shape: (616, 100)\n",
      "padded pos sentences: (616, 100)\n",
      "debug padded_pos_sentences: ['A', ',', '^', '<UNK>', '<UNK>', '<UNK>', '<UNK>', '<UNK>', '<UNK>', '<UNK>']\n",
      "pos feature shape: (616, 100)\n",
      "Running model on 616 ADV samples\n",
      "No supervised attention.\n",
      "INFO:tensorflow:Restoring parameters from /Users/pablokvitca/Projects/Academic/NEU/CY7790/toxicity_filter_attacks/model_new/model_noatt_checkpoints/best_model\n"
     ]
    },
    {
     "name": "stderr",
     "output_type": "stream",
     "text": [
      "\r",
      " 67%|██████▋   | 101/150 [04:47<02:18,  2.83s/it]"
     ]
    },
    {
     "name": "stdout",
     "output_type": "stream",
     "text": [
      "padded sent: (616, 100)\n",
      "feature shape: (616, 100)\n",
      "padded pos sentences: (616, 100)\n",
      "debug padded_pos_sentences: ['A', ',', '^', '<UNK>', '<UNK>', '<UNK>', '<UNK>', '<UNK>', '<UNK>', '<UNK>']\n",
      "pos feature shape: (616, 100)\n",
      "Running model on 616 ADV samples\n",
      "No supervised attention.\n",
      "INFO:tensorflow:Restoring parameters from /Users/pablokvitca/Projects/Academic/NEU/CY7790/toxicity_filter_attacks/model_new/model_noatt_checkpoints/best_model\n"
     ]
    },
    {
     "name": "stderr",
     "output_type": "stream",
     "text": [
      "\r",
      " 68%|██████▊   | 102/150 [04:50<02:14,  2.81s/it]"
     ]
    },
    {
     "name": "stdout",
     "output_type": "stream",
     "text": [
      "padded sent: (616, 100)\n",
      "feature shape: (616, 100)\n",
      "padded pos sentences: (616, 100)\n",
      "debug padded_pos_sentences: ['A', ',', '^', '<UNK>', '<UNK>', '<UNK>', '<UNK>', '<UNK>', '<UNK>', '<UNK>']\n",
      "pos feature shape: (616, 100)\n",
      "Running model on 616 ADV samples\n",
      "No supervised attention.\n",
      "INFO:tensorflow:Restoring parameters from /Users/pablokvitca/Projects/Academic/NEU/CY7790/toxicity_filter_attacks/model_new/model_noatt_checkpoints/best_model\n"
     ]
    },
    {
     "name": "stderr",
     "output_type": "stream",
     "text": [
      "\r",
      " 69%|██████▊   | 103/150 [04:53<02:09,  2.76s/it]"
     ]
    },
    {
     "name": "stdout",
     "output_type": "stream",
     "text": [
      "padded sent: (616, 100)\n",
      "feature shape: (616, 100)\n",
      "padded pos sentences: (616, 100)\n",
      "debug padded_pos_sentences: ['A', ',', '^', '<UNK>', '<UNK>', '<UNK>', '<UNK>', '<UNK>', '<UNK>', '<UNK>']\n",
      "pos feature shape: (616, 100)\n",
      "Running model on 616 ADV samples\n",
      "No supervised attention.\n",
      "INFO:tensorflow:Restoring parameters from /Users/pablokvitca/Projects/Academic/NEU/CY7790/toxicity_filter_attacks/model_new/model_noatt_checkpoints/best_model\n"
     ]
    },
    {
     "name": "stderr",
     "output_type": "stream",
     "text": [
      "\r",
      " 69%|██████▉   | 104/150 [04:55<02:06,  2.74s/it]"
     ]
    },
    {
     "name": "stdout",
     "output_type": "stream",
     "text": [
      "padded sent: (616, 100)\n",
      "feature shape: (616, 100)\n",
      "padded pos sentences: (616, 100)\n",
      "debug padded_pos_sentences: ['A', ',', '^', '<UNK>', '<UNK>', '<UNK>', '<UNK>', '<UNK>', '<UNK>', '<UNK>']\n",
      "pos feature shape: (616, 100)\n",
      "Running model on 616 ADV samples\n",
      "No supervised attention.\n",
      "INFO:tensorflow:Restoring parameters from /Users/pablokvitca/Projects/Academic/NEU/CY7790/toxicity_filter_attacks/model_new/model_noatt_checkpoints/best_model\n"
     ]
    },
    {
     "name": "stderr",
     "output_type": "stream",
     "text": [
      "\r",
      " 70%|███████   | 105/150 [04:58<02:03,  2.73s/it]"
     ]
    },
    {
     "name": "stdout",
     "output_type": "stream",
     "text": [
      "padded sent: (616, 100)\n",
      "feature shape: (616, 100)\n",
      "padded pos sentences: (616, 100)\n",
      "debug padded_pos_sentences: ['A', ',', '^', '<UNK>', '<UNK>', '<UNK>', '<UNK>', '<UNK>', '<UNK>', '<UNK>']\n",
      "pos feature shape: (616, 100)\n",
      "Running model on 616 ADV samples\n",
      "No supervised attention.\n",
      "INFO:tensorflow:Restoring parameters from /Users/pablokvitca/Projects/Academic/NEU/CY7790/toxicity_filter_attacks/model_new/model_noatt_checkpoints/best_model\n"
     ]
    },
    {
     "name": "stderr",
     "output_type": "stream",
     "text": [
      "\r",
      " 71%|███████   | 106/150 [05:01<02:00,  2.73s/it]"
     ]
    },
    {
     "name": "stdout",
     "output_type": "stream",
     "text": [
      "padded sent: (616, 100)\n",
      "feature shape: (616, 100)\n",
      "padded pos sentences: (616, 100)\n",
      "debug padded_pos_sentences: ['A', ',', '^', '<UNK>', '<UNK>', '<UNK>', '<UNK>', '<UNK>', '<UNK>', '<UNK>']\n",
      "pos feature shape: (616, 100)\n",
      "Running model on 616 ADV samples\n",
      "No supervised attention.\n",
      "INFO:tensorflow:Restoring parameters from /Users/pablokvitca/Projects/Academic/NEU/CY7790/toxicity_filter_attacks/model_new/model_noatt_checkpoints/best_model\n"
     ]
    },
    {
     "name": "stderr",
     "output_type": "stream",
     "text": [
      "\r",
      " 71%|███████▏  | 107/150 [05:04<01:57,  2.74s/it]"
     ]
    },
    {
     "name": "stdout",
     "output_type": "stream",
     "text": [
      "padded sent: (616, 100)\n",
      "feature shape: (616, 100)\n",
      "padded pos sentences: (616, 100)\n",
      "debug padded_pos_sentences: ['A', ',', '^', '<UNK>', '<UNK>', '<UNK>', '<UNK>', '<UNK>', '<UNK>', '<UNK>']\n",
      "pos feature shape: (616, 100)\n",
      "Running model on 616 ADV samples\n",
      "No supervised attention.\n",
      "INFO:tensorflow:Restoring parameters from /Users/pablokvitca/Projects/Academic/NEU/CY7790/toxicity_filter_attacks/model_new/model_noatt_checkpoints/best_model\n"
     ]
    },
    {
     "name": "stderr",
     "output_type": "stream",
     "text": [
      "\r",
      " 72%|███████▏  | 108/150 [05:06<01:56,  2.78s/it]"
     ]
    },
    {
     "name": "stdout",
     "output_type": "stream",
     "text": [
      "padded sent: (616, 100)\n",
      "feature shape: (616, 100)\n",
      "padded pos sentences: (616, 100)\n",
      "debug padded_pos_sentences: ['A', ',', '^', '<UNK>', '<UNK>', '<UNK>', '<UNK>', '<UNK>', '<UNK>', '<UNK>']\n",
      "pos feature shape: (616, 100)\n",
      "Running model on 616 ADV samples\n",
      "No supervised attention.\n",
      "INFO:tensorflow:Restoring parameters from /Users/pablokvitca/Projects/Academic/NEU/CY7790/toxicity_filter_attacks/model_new/model_noatt_checkpoints/best_model\n"
     ]
    },
    {
     "name": "stderr",
     "output_type": "stream",
     "text": [
      "\r",
      " 73%|███████▎  | 109/150 [05:09<01:53,  2.78s/it]"
     ]
    },
    {
     "name": "stdout",
     "output_type": "stream",
     "text": [
      "padded sent: (616, 100)\n",
      "feature shape: (616, 100)\n",
      "padded pos sentences: (616, 100)\n",
      "debug padded_pos_sentences: ['A', ',', '^', '<UNK>', '<UNK>', '<UNK>', '<UNK>', '<UNK>', '<UNK>', '<UNK>']\n",
      "pos feature shape: (616, 100)\n",
      "Running model on 616 ADV samples\n",
      "No supervised attention.\n",
      "INFO:tensorflow:Restoring parameters from /Users/pablokvitca/Projects/Academic/NEU/CY7790/toxicity_filter_attacks/model_new/model_noatt_checkpoints/best_model\n"
     ]
    },
    {
     "name": "stderr",
     "output_type": "stream",
     "text": [
      "\r",
      " 73%|███████▎  | 110/150 [05:12<01:52,  2.81s/it]"
     ]
    },
    {
     "name": "stdout",
     "output_type": "stream",
     "text": [
      "padded sent: (616, 100)\n",
      "feature shape: (616, 100)\n",
      "padded pos sentences: (616, 100)\n",
      "debug padded_pos_sentences: ['<UNK>', '<UNK>', '<UNK>', '<UNK>', '<UNK>', '<UNK>', '<UNK>', '<UNK>', '<UNK>', '<UNK>']\n",
      "pos feature shape: (616, 100)\n",
      "Running model on 616 ADV samples\n",
      "No supervised attention.\n",
      "INFO:tensorflow:Restoring parameters from /Users/pablokvitca/Projects/Academic/NEU/CY7790/toxicity_filter_attacks/model_new/model_noatt_checkpoints/best_model\n"
     ]
    },
    {
     "name": "stderr",
     "output_type": "stream",
     "text": [
      "\r",
      " 74%|███████▍  | 111/150 [05:15<01:47,  2.76s/it]"
     ]
    },
    {
     "name": "stdout",
     "output_type": "stream",
     "text": [
      "padded sent: (616, 100)\n",
      "feature shape: (616, 100)\n",
      "padded pos sentences: (616, 100)\n",
      "debug padded_pos_sentences: ['<UNK>', '<UNK>', '<UNK>', '<UNK>', '<UNK>', '<UNK>', '<UNK>', '<UNK>', '<UNK>', '<UNK>']\n",
      "pos feature shape: (616, 100)\n",
      "Running model on 616 ADV samples\n",
      "No supervised attention.\n",
      "INFO:tensorflow:Restoring parameters from /Users/pablokvitca/Projects/Academic/NEU/CY7790/toxicity_filter_attacks/model_new/model_noatt_checkpoints/best_model\n"
     ]
    },
    {
     "name": "stderr",
     "output_type": "stream",
     "text": [
      "\r",
      " 75%|███████▍  | 112/150 [05:17<01:43,  2.73s/it]"
     ]
    },
    {
     "name": "stdout",
     "output_type": "stream",
     "text": [
      "padded sent: (616, 100)\n",
      "feature shape: (616, 100)\n",
      "padded pos sentences: (616, 100)\n",
      "debug padded_pos_sentences: ['<UNK>', '<UNK>', '<UNK>', '<UNK>', '<UNK>', '<UNK>', '<UNK>', '<UNK>', '<UNK>', '<UNK>']\n",
      "pos feature shape: (616, 100)\n",
      "Running model on 616 ADV samples\n",
      "No supervised attention.\n",
      "INFO:tensorflow:Restoring parameters from /Users/pablokvitca/Projects/Academic/NEU/CY7790/toxicity_filter_attacks/model_new/model_noatt_checkpoints/best_model\n"
     ]
    },
    {
     "name": "stderr",
     "output_type": "stream",
     "text": [
      "\r",
      " 75%|███████▌  | 113/150 [05:20<01:42,  2.76s/it]"
     ]
    },
    {
     "name": "stdout",
     "output_type": "stream",
     "text": [
      "padded sent: (616, 100)\n",
      "feature shape: (616, 100)\n",
      "padded pos sentences: (616, 100)\n",
      "debug padded_pos_sentences: ['<UNK>', '<UNK>', '<UNK>', '<UNK>', '<UNK>', '<UNK>', '<UNK>', '<UNK>', '<UNK>', '<UNK>']\n",
      "pos feature shape: (616, 100)\n",
      "Running model on 616 ADV samples\n",
      "No supervised attention.\n",
      "INFO:tensorflow:Restoring parameters from /Users/pablokvitca/Projects/Academic/NEU/CY7790/toxicity_filter_attacks/model_new/model_noatt_checkpoints/best_model\n"
     ]
    },
    {
     "name": "stderr",
     "output_type": "stream",
     "text": [
      "\r",
      " 76%|███████▌  | 114/150 [05:23<01:39,  2.76s/it]"
     ]
    },
    {
     "name": "stdout",
     "output_type": "stream",
     "text": [
      "padded sent: (616, 100)\n",
      "feature shape: (616, 100)\n",
      "padded pos sentences: (616, 100)\n",
      "debug padded_pos_sentences: ['<UNK>', '<UNK>', '<UNK>', '<UNK>', '<UNK>', '<UNK>', '<UNK>', '<UNK>', '<UNK>', '<UNK>']\n",
      "pos feature shape: (616, 100)\n",
      "Running model on 616 ADV samples\n",
      "No supervised attention.\n",
      "INFO:tensorflow:Restoring parameters from /Users/pablokvitca/Projects/Academic/NEU/CY7790/toxicity_filter_attacks/model_new/model_noatt_checkpoints/best_model\n"
     ]
    },
    {
     "name": "stderr",
     "output_type": "stream",
     "text": [
      "\r",
      " 77%|███████▋  | 115/150 [05:26<01:36,  2.75s/it]"
     ]
    },
    {
     "name": "stdout",
     "output_type": "stream",
     "text": [
      "padded sent: (616, 100)\n",
      "feature shape: (616, 100)\n",
      "padded pos sentences: (616, 100)\n",
      "debug padded_pos_sentences: ['<UNK>', '<UNK>', '<UNK>', '<UNK>', '<UNK>', '<UNK>', '<UNK>', '<UNK>', '<UNK>', '<UNK>']\n",
      "pos feature shape: (616, 100)\n",
      "Running model on 616 ADV samples\n",
      "No supervised attention.\n",
      "INFO:tensorflow:Restoring parameters from /Users/pablokvitca/Projects/Academic/NEU/CY7790/toxicity_filter_attacks/model_new/model_noatt_checkpoints/best_model\n"
     ]
    },
    {
     "name": "stderr",
     "output_type": "stream",
     "text": [
      "\r",
      " 77%|███████▋  | 116/150 [05:28<01:33,  2.76s/it]"
     ]
    },
    {
     "name": "stdout",
     "output_type": "stream",
     "text": [
      "padded sent: (616, 100)\n",
      "feature shape: (616, 100)\n",
      "padded pos sentences: (616, 100)\n",
      "debug padded_pos_sentences: ['<UNK>', '<UNK>', '<UNK>', '<UNK>', '<UNK>', '<UNK>', '<UNK>', '<UNK>', '<UNK>', '<UNK>']\n",
      "pos feature shape: (616, 100)\n",
      "Running model on 616 ADV samples\n",
      "No supervised attention.\n",
      "INFO:tensorflow:Restoring parameters from /Users/pablokvitca/Projects/Academic/NEU/CY7790/toxicity_filter_attacks/model_new/model_noatt_checkpoints/best_model\n"
     ]
    },
    {
     "name": "stderr",
     "output_type": "stream",
     "text": [
      "\r",
      " 78%|███████▊  | 117/150 [05:31<01:31,  2.77s/it]"
     ]
    },
    {
     "name": "stdout",
     "output_type": "stream",
     "text": [
      "padded sent: (616, 100)\n",
      "feature shape: (616, 100)\n",
      "padded pos sentences: (616, 100)\n",
      "debug padded_pos_sentences: ['<UNK>', '<UNK>', '<UNK>', '<UNK>', '<UNK>', '<UNK>', '<UNK>', '<UNK>', '<UNK>', '<UNK>']\n",
      "pos feature shape: (616, 100)\n",
      "Running model on 616 ADV samples\n",
      "No supervised attention.\n",
      "INFO:tensorflow:Restoring parameters from /Users/pablokvitca/Projects/Academic/NEU/CY7790/toxicity_filter_attacks/model_new/model_noatt_checkpoints/best_model\n"
     ]
    },
    {
     "name": "stderr",
     "output_type": "stream",
     "text": [
      "\r",
      " 79%|███████▊  | 118/150 [05:34<01:30,  2.82s/it]"
     ]
    },
    {
     "name": "stdout",
     "output_type": "stream",
     "text": [
      "padded sent: (616, 100)\n",
      "feature shape: (616, 100)\n",
      "padded pos sentences: (616, 100)\n",
      "debug padded_pos_sentences: ['<UNK>', '<UNK>', '<UNK>', '<UNK>', '<UNK>', '<UNK>', '<UNK>', '<UNK>', '<UNK>', '<UNK>']\n",
      "pos feature shape: (616, 100)\n",
      "Running model on 616 ADV samples\n",
      "No supervised attention.\n",
      "INFO:tensorflow:Restoring parameters from /Users/pablokvitca/Projects/Academic/NEU/CY7790/toxicity_filter_attacks/model_new/model_noatt_checkpoints/best_model\n"
     ]
    },
    {
     "name": "stderr",
     "output_type": "stream",
     "text": [
      "\r",
      " 79%|███████▉  | 119/150 [05:37<01:27,  2.82s/it]"
     ]
    },
    {
     "name": "stdout",
     "output_type": "stream",
     "text": [
      "padded sent: (616, 100)\n",
      "feature shape: (616, 100)\n",
      "padded pos sentences: (616, 100)\n",
      "debug padded_pos_sentences: ['<UNK>', '<UNK>', '<UNK>', '<UNK>', '<UNK>', '<UNK>', '<UNK>', '<UNK>', '<UNK>', '<UNK>']\n",
      "pos feature shape: (616, 100)\n",
      "Running model on 616 ADV samples\n",
      "No supervised attention.\n",
      "INFO:tensorflow:Restoring parameters from /Users/pablokvitca/Projects/Academic/NEU/CY7790/toxicity_filter_attacks/model_new/model_noatt_checkpoints/best_model\n"
     ]
    },
    {
     "name": "stderr",
     "output_type": "stream",
     "text": [
      "\r",
      " 80%|████████  | 120/150 [05:40<01:24,  2.82s/it]"
     ]
    },
    {
     "name": "stdout",
     "output_type": "stream",
     "text": [
      "padded sent: (616, 100)\n",
      "feature shape: (616, 100)\n",
      "padded pos sentences: (616, 100)\n",
      "debug padded_pos_sentences: ['<UNK>', '<UNK>', '<UNK>', '<UNK>', '<UNK>', '<UNK>', '<UNK>', '<UNK>', '<UNK>', '<UNK>']\n",
      "pos feature shape: (616, 100)\n",
      "Running model on 616 ADV samples\n",
      "No supervised attention.\n",
      "INFO:tensorflow:Restoring parameters from /Users/pablokvitca/Projects/Academic/NEU/CY7790/toxicity_filter_attacks/model_new/model_noatt_checkpoints/best_model\n"
     ]
    },
    {
     "name": "stderr",
     "output_type": "stream",
     "text": [
      "\r",
      " 81%|████████  | 121/150 [05:43<01:20,  2.79s/it]"
     ]
    },
    {
     "name": "stdout",
     "output_type": "stream",
     "text": [
      "padded sent: (616, 100)\n",
      "feature shape: (616, 100)\n",
      "padded pos sentences: (616, 100)\n",
      "debug padded_pos_sentences: ['<UNK>', '<UNK>', '<UNK>', '<UNK>', '<UNK>', '<UNK>', '<UNK>', '<UNK>', '<UNK>', '<UNK>']\n",
      "pos feature shape: (616, 100)\n",
      "Running model on 616 ADV samples\n",
      "No supervised attention.\n",
      "INFO:tensorflow:Restoring parameters from /Users/pablokvitca/Projects/Academic/NEU/CY7790/toxicity_filter_attacks/model_new/model_noatt_checkpoints/best_model\n"
     ]
    },
    {
     "name": "stderr",
     "output_type": "stream",
     "text": [
      "\r",
      " 81%|████████▏ | 122/150 [05:45<01:17,  2.77s/it]"
     ]
    },
    {
     "name": "stdout",
     "output_type": "stream",
     "text": [
      "padded sent: (616, 100)\n",
      "feature shape: (616, 100)\n",
      "padded pos sentences: (616, 100)\n",
      "debug padded_pos_sentences: ['<UNK>', '<UNK>', '<UNK>', '<UNK>', '<UNK>', '<UNK>', '<UNK>', '<UNK>', '<UNK>', '<UNK>']\n",
      "pos feature shape: (616, 100)\n",
      "Running model on 616 ADV samples\n",
      "No supervised attention.\n",
      "INFO:tensorflow:Restoring parameters from /Users/pablokvitca/Projects/Academic/NEU/CY7790/toxicity_filter_attacks/model_new/model_noatt_checkpoints/best_model\n"
     ]
    },
    {
     "name": "stderr",
     "output_type": "stream",
     "text": [
      "\r",
      " 82%|████████▏ | 123/150 [05:48<01:14,  2.77s/it]"
     ]
    },
    {
     "name": "stdout",
     "output_type": "stream",
     "text": [
      "padded sent: (616, 100)\n",
      "feature shape: (616, 100)\n",
      "padded pos sentences: (616, 100)\n",
      "debug padded_pos_sentences: ['<UNK>', '<UNK>', '<UNK>', '<UNK>', '<UNK>', '<UNK>', '<UNK>', '<UNK>', '<UNK>', '<UNK>']\n",
      "pos feature shape: (616, 100)\n",
      "Running model on 616 ADV samples\n",
      "No supervised attention.\n",
      "INFO:tensorflow:Restoring parameters from /Users/pablokvitca/Projects/Academic/NEU/CY7790/toxicity_filter_attacks/model_new/model_noatt_checkpoints/best_model\n"
     ]
    },
    {
     "name": "stderr",
     "output_type": "stream",
     "text": [
      "\r",
      " 83%|████████▎ | 124/150 [05:51<01:12,  2.80s/it]"
     ]
    },
    {
     "name": "stdout",
     "output_type": "stream",
     "text": [
      "padded sent: (616, 100)\n",
      "feature shape: (616, 100)\n",
      "padded pos sentences: (616, 100)\n",
      "debug padded_pos_sentences: ['<UNK>', '<UNK>', '<UNK>', '<UNK>', '<UNK>', '<UNK>', '<UNK>', '<UNK>', '<UNK>', '<UNK>']\n",
      "pos feature shape: (616, 100)\n",
      "Running model on 616 ADV samples\n",
      "No supervised attention.\n",
      "INFO:tensorflow:Restoring parameters from /Users/pablokvitca/Projects/Academic/NEU/CY7790/toxicity_filter_attacks/model_new/model_noatt_checkpoints/best_model\n"
     ]
    },
    {
     "name": "stderr",
     "output_type": "stream",
     "text": [
      "\r",
      " 83%|████████▎ | 125/150 [05:54<01:09,  2.79s/it]"
     ]
    },
    {
     "name": "stdout",
     "output_type": "stream",
     "text": [
      "padded sent: (616, 100)\n",
      "feature shape: (616, 100)\n",
      "padded pos sentences: (616, 100)\n",
      "debug padded_pos_sentences: ['<UNK>', '<UNK>', '<UNK>', '<UNK>', '<UNK>', '<UNK>', '<UNK>', '<UNK>', '<UNK>', '<UNK>']\n",
      "pos feature shape: (616, 100)\n",
      "Running model on 616 ADV samples\n",
      "No supervised attention.\n",
      "INFO:tensorflow:Restoring parameters from /Users/pablokvitca/Projects/Academic/NEU/CY7790/toxicity_filter_attacks/model_new/model_noatt_checkpoints/best_model\n"
     ]
    },
    {
     "name": "stderr",
     "output_type": "stream",
     "text": [
      "\r",
      " 84%|████████▍ | 126/150 [05:57<01:07,  2.80s/it]"
     ]
    },
    {
     "name": "stdout",
     "output_type": "stream",
     "text": [
      "padded sent: (616, 100)\n",
      "feature shape: (616, 100)\n",
      "padded pos sentences: (616, 100)\n",
      "debug padded_pos_sentences: ['<UNK>', '<UNK>', '<UNK>', '<UNK>', '<UNK>', '<UNK>', '<UNK>', '<UNK>', '<UNK>', '<UNK>']\n",
      "pos feature shape: (616, 100)\n",
      "Running model on 616 ADV samples\n",
      "No supervised attention.\n",
      "INFO:tensorflow:Restoring parameters from /Users/pablokvitca/Projects/Academic/NEU/CY7790/toxicity_filter_attacks/model_new/model_noatt_checkpoints/best_model\n"
     ]
    },
    {
     "name": "stderr",
     "output_type": "stream",
     "text": [
      "\r",
      " 85%|████████▍ | 127/150 [05:59<01:04,  2.81s/it]"
     ]
    },
    {
     "name": "stdout",
     "output_type": "stream",
     "text": [
      "padded sent: (616, 100)\n",
      "feature shape: (616, 100)\n",
      "padded pos sentences: (616, 100)\n",
      "debug padded_pos_sentences: ['<UNK>', '<UNK>', '<UNK>', '<UNK>', '<UNK>', '<UNK>', '<UNK>', '<UNK>', '<UNK>', '<UNK>']\n",
      "pos feature shape: (616, 100)\n",
      "Running model on 616 ADV samples\n",
      "No supervised attention.\n",
      "INFO:tensorflow:Restoring parameters from /Users/pablokvitca/Projects/Academic/NEU/CY7790/toxicity_filter_attacks/model_new/model_noatt_checkpoints/best_model\n"
     ]
    },
    {
     "name": "stderr",
     "output_type": "stream",
     "text": [
      "\r",
      " 85%|████████▌ | 128/150 [06:02<01:01,  2.81s/it]"
     ]
    },
    {
     "name": "stdout",
     "output_type": "stream",
     "text": [
      "padded sent: (616, 100)\n",
      "feature shape: (616, 100)\n",
      "padded pos sentences: (616, 100)\n",
      "debug padded_pos_sentences: ['<UNK>', '<UNK>', '<UNK>', '<UNK>', '<UNK>', '<UNK>', '<UNK>', '<UNK>', '<UNK>', '<UNK>']\n",
      "pos feature shape: (616, 100)\n",
      "Running model on 616 ADV samples\n",
      "No supervised attention.\n",
      "INFO:tensorflow:Restoring parameters from /Users/pablokvitca/Projects/Academic/NEU/CY7790/toxicity_filter_attacks/model_new/model_noatt_checkpoints/best_model\n"
     ]
    },
    {
     "name": "stderr",
     "output_type": "stream",
     "text": [
      "\r",
      " 86%|████████▌ | 129/150 [06:05<00:59,  2.84s/it]"
     ]
    },
    {
     "name": "stdout",
     "output_type": "stream",
     "text": [
      "padded sent: (616, 100)\n",
      "feature shape: (616, 100)\n",
      "padded pos sentences: (616, 100)\n",
      "debug padded_pos_sentences: ['<UNK>', '<UNK>', '<UNK>', '<UNK>', '<UNK>', '<UNK>', '<UNK>', '<UNK>', '<UNK>', '<UNK>']\n",
      "pos feature shape: (616, 100)\n",
      "Running model on 616 ADV samples\n",
      "No supervised attention.\n",
      "INFO:tensorflow:Restoring parameters from /Users/pablokvitca/Projects/Academic/NEU/CY7790/toxicity_filter_attacks/model_new/model_noatt_checkpoints/best_model\n"
     ]
    },
    {
     "name": "stderr",
     "output_type": "stream",
     "text": [
      "\r",
      " 87%|████████▋ | 130/150 [06:08<00:57,  2.86s/it]"
     ]
    },
    {
     "name": "stdout",
     "output_type": "stream",
     "text": [
      "padded sent: (616, 100)\n",
      "feature shape: (616, 100)\n",
      "padded pos sentences: (616, 100)\n",
      "debug padded_pos_sentences: ['<UNK>', '<UNK>', '<UNK>', '<UNK>', '<UNK>', '<UNK>', '<UNK>', '<UNK>', '<UNK>', '<UNK>']\n",
      "pos feature shape: (616, 100)\n",
      "Running model on 616 ADV samples\n",
      "No supervised attention.\n",
      "INFO:tensorflow:Restoring parameters from /Users/pablokvitca/Projects/Academic/NEU/CY7790/toxicity_filter_attacks/model_new/model_noatt_checkpoints/best_model\n"
     ]
    },
    {
     "name": "stderr",
     "output_type": "stream",
     "text": [
      "\r",
      " 87%|████████▋ | 131/150 [06:11<00:53,  2.83s/it]"
     ]
    },
    {
     "name": "stdout",
     "output_type": "stream",
     "text": [
      "padded sent: (616, 100)\n",
      "feature shape: (616, 100)\n",
      "padded pos sentences: (616, 100)\n",
      "debug padded_pos_sentences: ['<UNK>', '<UNK>', '<UNK>', '<UNK>', '<UNK>', '<UNK>', '<UNK>', '<UNK>', '<UNK>', '<UNK>']\n",
      "pos feature shape: (616, 100)\n",
      "Running model on 616 ADV samples\n",
      "No supervised attention.\n",
      "INFO:tensorflow:Restoring parameters from /Users/pablokvitca/Projects/Academic/NEU/CY7790/toxicity_filter_attacks/model_new/model_noatt_checkpoints/best_model\n"
     ]
    },
    {
     "name": "stderr",
     "output_type": "stream",
     "text": [
      "\r",
      " 88%|████████▊ | 132/150 [06:14<00:50,  2.81s/it]"
     ]
    },
    {
     "name": "stdout",
     "output_type": "stream",
     "text": [
      "padded sent: (616, 100)\n",
      "feature shape: (616, 100)\n",
      "padded pos sentences: (616, 100)\n",
      "debug padded_pos_sentences: ['<UNK>', '<UNK>', '<UNK>', '<UNK>', '<UNK>', '<UNK>', '<UNK>', '<UNK>', '<UNK>', '<UNK>']\n",
      "pos feature shape: (616, 100)\n",
      "Running model on 616 ADV samples\n",
      "No supervised attention.\n",
      "INFO:tensorflow:Restoring parameters from /Users/pablokvitca/Projects/Academic/NEU/CY7790/toxicity_filter_attacks/model_new/model_noatt_checkpoints/best_model\n"
     ]
    },
    {
     "name": "stderr",
     "output_type": "stream",
     "text": [
      "\r",
      " 89%|████████▊ | 133/150 [06:16<00:47,  2.80s/it]"
     ]
    },
    {
     "name": "stdout",
     "output_type": "stream",
     "text": [
      "padded sent: (616, 100)\n",
      "feature shape: (616, 100)\n",
      "padded pos sentences: (616, 100)\n",
      "debug padded_pos_sentences: ['<UNK>', '<UNK>', '<UNK>', '<UNK>', '<UNK>', '<UNK>', '<UNK>', '<UNK>', '<UNK>', '<UNK>']\n",
      "pos feature shape: (616, 100)\n",
      "Running model on 616 ADV samples\n",
      "No supervised attention.\n",
      "INFO:tensorflow:Restoring parameters from /Users/pablokvitca/Projects/Academic/NEU/CY7790/toxicity_filter_attacks/model_new/model_noatt_checkpoints/best_model\n"
     ]
    },
    {
     "name": "stderr",
     "output_type": "stream",
     "text": [
      "\r",
      " 89%|████████▉ | 134/150 [06:19<00:44,  2.79s/it]"
     ]
    },
    {
     "name": "stdout",
     "output_type": "stream",
     "text": [
      "padded sent: (616, 100)\n",
      "feature shape: (616, 100)\n",
      "padded pos sentences: (616, 100)\n",
      "debug padded_pos_sentences: ['<UNK>', '<UNK>', '<UNK>', '<UNK>', '<UNK>', '<UNK>', '<UNK>', '<UNK>', '<UNK>', '<UNK>']\n",
      "pos feature shape: (616, 100)\n",
      "Running model on 616 ADV samples\n",
      "No supervised attention.\n",
      "INFO:tensorflow:Restoring parameters from /Users/pablokvitca/Projects/Academic/NEU/CY7790/toxicity_filter_attacks/model_new/model_noatt_checkpoints/best_model\n"
     ]
    },
    {
     "name": "stderr",
     "output_type": "stream",
     "text": [
      "\r",
      " 90%|█████████ | 135/150 [06:22<00:42,  2.83s/it]"
     ]
    },
    {
     "name": "stdout",
     "output_type": "stream",
     "text": [
      "padded sent: (616, 100)\n",
      "feature shape: (616, 100)\n",
      "padded pos sentences: (616, 100)\n",
      "debug padded_pos_sentences: ['<UNK>', '<UNK>', '<UNK>', '<UNK>', '<UNK>', '<UNK>', '<UNK>', '<UNK>', '<UNK>', '<UNK>']\n",
      "pos feature shape: (616, 100)\n",
      "Running model on 616 ADV samples\n",
      "No supervised attention.\n",
      "INFO:tensorflow:Restoring parameters from /Users/pablokvitca/Projects/Academic/NEU/CY7790/toxicity_filter_attacks/model_new/model_noatt_checkpoints/best_model\n"
     ]
    },
    {
     "name": "stderr",
     "output_type": "stream",
     "text": [
      "\r",
      " 91%|█████████ | 136/150 [06:25<00:39,  2.83s/it]"
     ]
    },
    {
     "name": "stdout",
     "output_type": "stream",
     "text": [
      "padded sent: (616, 100)\n",
      "feature shape: (616, 100)\n",
      "padded pos sentences: (616, 100)\n",
      "debug padded_pos_sentences: ['<UNK>', '<UNK>', '<UNK>', '<UNK>', '<UNK>', '<UNK>', '<UNK>', '<UNK>', '<UNK>', '<UNK>']\n",
      "pos feature shape: (616, 100)\n",
      "Running model on 616 ADV samples\n",
      "No supervised attention.\n",
      "INFO:tensorflow:Restoring parameters from /Users/pablokvitca/Projects/Academic/NEU/CY7790/toxicity_filter_attacks/model_new/model_noatt_checkpoints/best_model\n"
     ]
    },
    {
     "name": "stderr",
     "output_type": "stream",
     "text": [
      "\r",
      " 91%|█████████▏| 137/150 [06:28<00:36,  2.84s/it]"
     ]
    },
    {
     "name": "stdout",
     "output_type": "stream",
     "text": [
      "padded sent: (616, 100)\n",
      "feature shape: (616, 100)\n",
      "padded pos sentences: (616, 100)\n",
      "debug padded_pos_sentences: ['<UNK>', '<UNK>', '<UNK>', '<UNK>', '<UNK>', '<UNK>', '<UNK>', '<UNK>', '<UNK>', '<UNK>']\n",
      "pos feature shape: (616, 100)\n",
      "Running model on 616 ADV samples\n",
      "No supervised attention.\n",
      "INFO:tensorflow:Restoring parameters from /Users/pablokvitca/Projects/Academic/NEU/CY7790/toxicity_filter_attacks/model_new/model_noatt_checkpoints/best_model\n"
     ]
    },
    {
     "name": "stderr",
     "output_type": "stream",
     "text": [
      "\r",
      " 92%|█████████▏| 138/150 [06:31<00:34,  2.84s/it]"
     ]
    },
    {
     "name": "stdout",
     "output_type": "stream",
     "text": [
      "padded sent: (616, 100)\n",
      "feature shape: (616, 100)\n",
      "padded pos sentences: (616, 100)\n",
      "debug padded_pos_sentences: ['<UNK>', '<UNK>', '<UNK>', '<UNK>', '<UNK>', '<UNK>', '<UNK>', '<UNK>', '<UNK>', '<UNK>']\n",
      "pos feature shape: (616, 100)\n",
      "Running model on 616 ADV samples\n",
      "No supervised attention.\n",
      "INFO:tensorflow:Restoring parameters from /Users/pablokvitca/Projects/Academic/NEU/CY7790/toxicity_filter_attacks/model_new/model_noatt_checkpoints/best_model\n"
     ]
    },
    {
     "name": "stderr",
     "output_type": "stream",
     "text": [
      "\r",
      " 93%|█████████▎| 139/150 [06:33<00:31,  2.86s/it]"
     ]
    },
    {
     "name": "stdout",
     "output_type": "stream",
     "text": [
      "padded sent: (616, 100)\n",
      "feature shape: (616, 100)\n",
      "padded pos sentences: (616, 100)\n",
      "debug padded_pos_sentences: ['<UNK>', '<UNK>', '<UNK>', '<UNK>', '<UNK>', '<UNK>', '<UNK>', '<UNK>', '<UNK>', '<UNK>']\n",
      "pos feature shape: (616, 100)\n",
      "Running model on 616 ADV samples\n",
      "No supervised attention.\n",
      "INFO:tensorflow:Restoring parameters from /Users/pablokvitca/Projects/Academic/NEU/CY7790/toxicity_filter_attacks/model_new/model_noatt_checkpoints/best_model\n"
     ]
    },
    {
     "name": "stderr",
     "output_type": "stream",
     "text": [
      "\r",
      " 93%|█████████▎| 140/150 [06:36<00:28,  2.87s/it]"
     ]
    },
    {
     "name": "stdout",
     "output_type": "stream",
     "text": [
      "padded sent: (616, 100)\n",
      "feature shape: (616, 100)\n",
      "padded pos sentences: (616, 100)\n",
      "debug padded_pos_sentences: ['<UNK>', '<UNK>', '<UNK>', '<UNK>', '<UNK>', '<UNK>', '<UNK>', '<UNK>', '<UNK>', '<UNK>']\n",
      "pos feature shape: (616, 100)\n",
      "Running model on 616 ADV samples\n",
      "No supervised attention.\n",
      "INFO:tensorflow:Restoring parameters from /Users/pablokvitca/Projects/Academic/NEU/CY7790/toxicity_filter_attacks/model_new/model_noatt_checkpoints/best_model\n"
     ]
    },
    {
     "name": "stderr",
     "output_type": "stream",
     "text": [
      "\r",
      " 94%|█████████▍| 141/150 [06:39<00:25,  2.88s/it]"
     ]
    },
    {
     "name": "stdout",
     "output_type": "stream",
     "text": [
      "padded sent: (616, 100)\n",
      "feature shape: (616, 100)\n",
      "padded pos sentences: (616, 100)\n",
      "debug padded_pos_sentences: ['<UNK>', '<UNK>', '<UNK>', '<UNK>', '<UNK>', '<UNK>', '<UNK>', '<UNK>', '<UNK>', '<UNK>']\n",
      "pos feature shape: (616, 100)\n",
      "Running model on 616 ADV samples\n",
      "No supervised attention.\n",
      "INFO:tensorflow:Restoring parameters from /Users/pablokvitca/Projects/Academic/NEU/CY7790/toxicity_filter_attacks/model_new/model_noatt_checkpoints/best_model\n"
     ]
    },
    {
     "name": "stderr",
     "output_type": "stream",
     "text": [
      "\r",
      " 95%|█████████▍| 142/150 [06:42<00:22,  2.86s/it]"
     ]
    },
    {
     "name": "stdout",
     "output_type": "stream",
     "text": [
      "padded sent: (616, 100)\n",
      "feature shape: (616, 100)\n",
      "padded pos sentences: (616, 100)\n",
      "debug padded_pos_sentences: ['<UNK>', '<UNK>', '<UNK>', '<UNK>', '<UNK>', '<UNK>', '<UNK>', '<UNK>', '<UNK>', '<UNK>']\n",
      "pos feature shape: (616, 100)\n",
      "Running model on 616 ADV samples\n",
      "No supervised attention.\n",
      "INFO:tensorflow:Restoring parameters from /Users/pablokvitca/Projects/Academic/NEU/CY7790/toxicity_filter_attacks/model_new/model_noatt_checkpoints/best_model\n"
     ]
    },
    {
     "name": "stderr",
     "output_type": "stream",
     "text": [
      "\r",
      " 95%|█████████▌| 143/150 [06:45<00:20,  2.86s/it]"
     ]
    },
    {
     "name": "stdout",
     "output_type": "stream",
     "text": [
      "padded sent: (616, 100)\n",
      "feature shape: (616, 100)\n",
      "padded pos sentences: (616, 100)\n",
      "debug padded_pos_sentences: ['<UNK>', '<UNK>', '<UNK>', '<UNK>', '<UNK>', '<UNK>', '<UNK>', '<UNK>', '<UNK>', '<UNK>']\n",
      "pos feature shape: (616, 100)\n",
      "Running model on 616 ADV samples\n",
      "No supervised attention.\n",
      "INFO:tensorflow:Restoring parameters from /Users/pablokvitca/Projects/Academic/NEU/CY7790/toxicity_filter_attacks/model_new/model_noatt_checkpoints/best_model\n"
     ]
    },
    {
     "name": "stderr",
     "output_type": "stream",
     "text": [
      "\r",
      " 96%|█████████▌| 144/150 [06:48<00:17,  2.85s/it]"
     ]
    },
    {
     "name": "stdout",
     "output_type": "stream",
     "text": [
      "padded sent: (616, 100)\n",
      "feature shape: (616, 100)\n",
      "padded pos sentences: (616, 100)\n",
      "debug padded_pos_sentences: ['<UNK>', '<UNK>', '<UNK>', '<UNK>', '<UNK>', '<UNK>', '<UNK>', '<UNK>', '<UNK>', '<UNK>']\n",
      "pos feature shape: (616, 100)\n",
      "Running model on 616 ADV samples\n",
      "No supervised attention.\n",
      "INFO:tensorflow:Restoring parameters from /Users/pablokvitca/Projects/Academic/NEU/CY7790/toxicity_filter_attacks/model_new/model_noatt_checkpoints/best_model\n"
     ]
    },
    {
     "name": "stderr",
     "output_type": "stream",
     "text": [
      "\r",
      " 97%|█████████▋| 145/150 [06:51<00:14,  2.85s/it]"
     ]
    },
    {
     "name": "stdout",
     "output_type": "stream",
     "text": [
      "padded sent: (616, 100)\n",
      "feature shape: (616, 100)\n",
      "padded pos sentences: (616, 100)\n",
      "debug padded_pos_sentences: ['<UNK>', '<UNK>', '<UNK>', '<UNK>', '<UNK>', '<UNK>', '<UNK>', '<UNK>', '<UNK>', '<UNK>']\n",
      "pos feature shape: (616, 100)\n",
      "Running model on 616 ADV samples\n",
      "No supervised attention.\n",
      "INFO:tensorflow:Restoring parameters from /Users/pablokvitca/Projects/Academic/NEU/CY7790/toxicity_filter_attacks/model_new/model_noatt_checkpoints/best_model\n"
     ]
    },
    {
     "name": "stderr",
     "output_type": "stream",
     "text": [
      "\r",
      " 97%|█████████▋| 146/150 [06:54<00:11,  2.88s/it]"
     ]
    },
    {
     "name": "stdout",
     "output_type": "stream",
     "text": [
      "padded sent: (616, 100)\n",
      "feature shape: (616, 100)\n",
      "padded pos sentences: (616, 100)\n",
      "debug padded_pos_sentences: ['<UNK>', '<UNK>', '<UNK>', '<UNK>', '<UNK>', '<UNK>', '<UNK>', '<UNK>', '<UNK>', '<UNK>']\n",
      "pos feature shape: (616, 100)\n",
      "Running model on 616 ADV samples\n",
      "No supervised attention.\n",
      "INFO:tensorflow:Restoring parameters from /Users/pablokvitca/Projects/Academic/NEU/CY7790/toxicity_filter_attacks/model_new/model_noatt_checkpoints/best_model\n"
     ]
    },
    {
     "name": "stderr",
     "output_type": "stream",
     "text": [
      "\r",
      " 98%|█████████▊| 147/150 [06:56<00:08,  2.87s/it]"
     ]
    },
    {
     "name": "stdout",
     "output_type": "stream",
     "text": [
      "padded sent: (616, 100)\n",
      "feature shape: (616, 100)\n",
      "padded pos sentences: (616, 100)\n",
      "debug padded_pos_sentences: ['<UNK>', '<UNK>', '<UNK>', '<UNK>', '<UNK>', '<UNK>', '<UNK>', '<UNK>', '<UNK>', '<UNK>']\n",
      "pos feature shape: (616, 100)\n",
      "Running model on 616 ADV samples\n",
      "No supervised attention.\n",
      "INFO:tensorflow:Restoring parameters from /Users/pablokvitca/Projects/Academic/NEU/CY7790/toxicity_filter_attacks/model_new/model_noatt_checkpoints/best_model\n"
     ]
    },
    {
     "name": "stderr",
     "output_type": "stream",
     "text": [
      "\r",
      " 99%|█████████▊| 148/150 [06:59<00:05,  2.88s/it]"
     ]
    },
    {
     "name": "stdout",
     "output_type": "stream",
     "text": [
      "padded sent: (616, 100)\n",
      "feature shape: (616, 100)\n",
      "padded pos sentences: (616, 100)\n",
      "debug padded_pos_sentences: ['<UNK>', '<UNK>', '<UNK>', '<UNK>', '<UNK>', '<UNK>', '<UNK>', '<UNK>', '<UNK>', '<UNK>']\n",
      "pos feature shape: (616, 100)\n",
      "Running model on 616 ADV samples\n",
      "No supervised attention.\n",
      "INFO:tensorflow:Restoring parameters from /Users/pablokvitca/Projects/Academic/NEU/CY7790/toxicity_filter_attacks/model_new/model_noatt_checkpoints/best_model\n"
     ]
    },
    {
     "name": "stderr",
     "output_type": "stream",
     "text": [
      "\r",
      " 99%|█████████▉| 149/150 [07:02<00:02,  2.91s/it]"
     ]
    },
    {
     "name": "stdout",
     "output_type": "stream",
     "text": [
      "padded sent: (616, 100)\n",
      "feature shape: (616, 100)\n",
      "padded pos sentences: (616, 100)\n",
      "debug padded_pos_sentences: ['<UNK>', '<UNK>', '<UNK>', '<UNK>', '<UNK>', '<UNK>', '<UNK>', '<UNK>', '<UNK>', '<UNK>']\n",
      "pos feature shape: (616, 100)\n",
      "Running model on 616 ADV samples\n",
      "No supervised attention.\n",
      "INFO:tensorflow:Restoring parameters from /Users/pablokvitca/Projects/Academic/NEU/CY7790/toxicity_filter_attacks/model_new/model_noatt_checkpoints/best_model\n"
     ]
    },
    {
     "name": "stderr",
     "output_type": "stream",
     "text": [
      "100%|██████████| 150/150 [07:05<00:00,  2.84s/it]\n"
     ]
    }
   ],
   "source": [
    "evaluation_results = {}\n",
    "for i in trange(len(opts)):\n",
    "    n, a, b, att = opts[i]\n",
    "    evaluation_results[(n, a, b, att)] = evaluate_attack(n, a, b, att)"
   ]
  },
  {
   "cell_type": "code",
   "execution_count": 17,
   "id": "398df198",
   "metadata": {},
   "outputs": [
    {
     "data": {
      "text/plain": [
       "{(10, 0, 0, True): 0.38636363636363635,\n",
       " (10, 0, 0, False): 0.38636363636363635,\n",
       " (10, 0, 1, True): 0.387987012987013,\n",
       " (10, 0, 1, False): 0.38636363636363635,\n",
       " (10, 0, 2, True): 0.38636363636363635,\n",
       " (10, 0, 2, False): 0.38636363636363635,\n",
       " (10, 0, 3, True): 0.387987012987013,\n",
       " (10, 0, 3, False): 0.38636363636363635,\n",
       " (10, 0, 5, True): 0.38636363636363635,\n",
       " (10, 0, 5, False): 0.38636363636363635,\n",
       " (10, 1, 0, True): 0.5275974025974026,\n",
       " (10, 1, 0, False): 0.5146103896103896,\n",
       " (10, 1, 1, True): 0.5275974025974026,\n",
       " (10, 1, 1, False): 0.5324675324675324,\n",
       " (10, 1, 2, True): 0.525974025974026,\n",
       " (10, 1, 2, False): 0.5211038961038961,\n",
       " (10, 1, 3, True): 0.5308441558441559,\n",
       " (10, 1, 3, False): 0.512987012987013,\n",
       " (10, 1, 5, True): 0.5373376623376623,\n",
       " (10, 1, 5, False): 0.5097402597402597,\n",
       " (10, 2, 0, True): 0.5616883116883117,\n",
       " (10, 2, 0, False): 0.5487012987012987,\n",
       " (10, 2, 1, True): 0.5616883116883117,\n",
       " (10, 2, 1, False): 0.5503246753246753,\n",
       " (10, 2, 2, True): 0.5681818181818182,\n",
       " (10, 2, 2, False): 0.5487012987012987,\n",
       " (10, 2, 3, True): 0.5633116883116883,\n",
       " (10, 2, 3, False): 0.5405844155844156,\n",
       " (10, 2, 5, True): 0.5616883116883117,\n",
       " (10, 2, 5, False): 0.5373376623376623,\n",
       " (10, 3, 0, True): 0.5698051948051948,\n",
       " (10, 3, 0, False): 0.5568181818181818,\n",
       " (10, 3, 1, True): 0.5698051948051948,\n",
       " (10, 3, 1, False): 0.5584415584415584,\n",
       " (10, 3, 2, True): 0.577922077922078,\n",
       " (10, 3, 2, False): 0.5551948051948052,\n",
       " (10, 3, 3, True): 0.5681818181818182,\n",
       " (10, 3, 3, False): 0.5665584415584416,\n",
       " (10, 3, 5, True): 0.5714285714285714,\n",
       " (10, 3, 5, False): 0.5633116883116883,\n",
       " (10, 5, 0, True): 0.5665584415584416,\n",
       " (10, 5, 0, False): 0.5746753246753247,\n",
       " (10, 5, 1, True): 0.577922077922078,\n",
       " (10, 5, 1, False): 0.5681818181818182,\n",
       " (10, 5, 2, True): 0.5795454545454546,\n",
       " (10, 5, 2, False): 0.573051948051948,\n",
       " (10, 5, 3, True): 0.5681818181818182,\n",
       " (10, 5, 3, False): 0.573051948051948,\n",
       " (10, 5, 5, True): 0.5714285714285714,\n",
       " (10, 5, 5, False): 0.5746753246753247,\n",
       " (50, 0, 0, True): 0.38636363636363635,\n",
       " (50, 0, 0, False): 0.38636363636363635,\n",
       " (50, 0, 1, True): 0.38636363636363635,\n",
       " (50, 0, 1, False): 0.38636363636363635,\n",
       " (50, 0, 2, True): 0.38636363636363635,\n",
       " (50, 0, 2, False): 0.38636363636363635,\n",
       " (50, 0, 3, True): 0.387987012987013,\n",
       " (50, 0, 3, False): 0.387987012987013,\n",
       " (50, 0, 5, True): 0.387987012987013,\n",
       " (50, 0, 5, False): 0.38636363636363635,\n",
       " (50, 1, 0, True): 0.5308441558441559,\n",
       " (50, 1, 0, False): 0.5308441558441559,\n",
       " (50, 1, 1, True): 0.5357142857142857,\n",
       " (50, 1, 1, False): 0.5275974025974026,\n",
       " (50, 1, 2, True): 0.5275974025974026,\n",
       " (50, 1, 2, False): 0.5454545454545454,\n",
       " (50, 1, 3, True): 0.5340909090909091,\n",
       " (50, 1, 3, False): 0.5373376623376623,\n",
       " (50, 1, 5, True): 0.538961038961039,\n",
       " (50, 1, 5, False): 0.5373376623376623,\n",
       " (50, 2, 0, True): 0.5584415584415584,\n",
       " (50, 2, 0, False): 0.5665584415584416,\n",
       " (50, 2, 1, True): 0.5568181818181818,\n",
       " (50, 2, 1, False): 0.5665584415584416,\n",
       " (50, 2, 2, True): 0.573051948051948,\n",
       " (50, 2, 2, False): 0.5665584415584416,\n",
       " (50, 2, 3, True): 0.5633116883116883,\n",
       " (50, 2, 3, False): 0.5665584415584416,\n",
       " (50, 2, 5, True): 0.564935064935065,\n",
       " (50, 2, 5, False): 0.5584415584415584,\n",
       " (50, 3, 0, True): 0.564935064935065,\n",
       " (50, 3, 0, False): 0.573051948051948,\n",
       " (50, 3, 1, True): 0.5698051948051948,\n",
       " (50, 3, 1, False): 0.5746753246753247,\n",
       " (50, 3, 2, True): 0.5762987012987013,\n",
       " (50, 3, 2, False): 0.5714285714285714,\n",
       " (50, 3, 3, True): 0.5762987012987013,\n",
       " (50, 3, 3, False): 0.573051948051948,\n",
       " (50, 3, 5, True): 0.5746753246753247,\n",
       " (50, 3, 5, False): 0.5746753246753247,\n",
       " (50, 5, 0, True): 0.577922077922078,\n",
       " (50, 5, 0, False): 0.577922077922078,\n",
       " (50, 5, 1, True): 0.577922077922078,\n",
       " (50, 5, 1, False): 0.5746753246753247,\n",
       " (50, 5, 2, True): 0.5746753246753247,\n",
       " (50, 5, 2, False): 0.5795454545454546,\n",
       " (50, 5, 3, True): 0.5762987012987013,\n",
       " (50, 5, 3, False): 0.5811688311688312,\n",
       " (50, 5, 5, True): 0.577922077922078,\n",
       " (50, 5, 5, False): 0.577922077922078,\n",
       " (100, 0, 0, True): 0.38636363636363635,\n",
       " (100, 0, 0, False): 0.38636363636363635,\n",
       " (100, 0, 1, True): 0.38311688311688313,\n",
       " (100, 0, 1, False): 0.38636363636363635,\n",
       " (100, 0, 2, True): 0.38636363636363635,\n",
       " (100, 0, 2, False): 0.38636363636363635,\n",
       " (100, 0, 3, True): 0.3847402597402597,\n",
       " (100, 0, 3, False): 0.38636363636363635,\n",
       " (100, 0, 5, True): 0.38636363636363635,\n",
       " (100, 0, 5, False): 0.38961038961038963,\n",
       " (100, 1, 0, True): 0.5275974025974026,\n",
       " (100, 1, 0, False): 0.5324675324675324,\n",
       " (100, 1, 1, True): 0.5340909090909091,\n",
       " (100, 1, 1, False): 0.5438311688311688,\n",
       " (100, 1, 2, True): 0.5275974025974026,\n",
       " (100, 1, 2, False): 0.5422077922077922,\n",
       " (100, 1, 3, True): 0.5275974025974026,\n",
       " (100, 1, 3, False): 0.547077922077922,\n",
       " (100, 1, 5, True): 0.5357142857142857,\n",
       " (100, 1, 5, False): 0.5373376623376623,\n",
       " (100, 2, 0, True): 0.5584415584415584,\n",
       " (100, 2, 0, False): 0.5665584415584416,\n",
       " (100, 2, 1, True): 0.5633116883116883,\n",
       " (100, 2, 1, False): 0.5681818181818182,\n",
       " (100, 2, 2, True): 0.5584415584415584,\n",
       " (100, 2, 2, False): 0.5698051948051948,\n",
       " (100, 2, 3, True): 0.5568181818181818,\n",
       " (100, 2, 3, False): 0.5681818181818182,\n",
       " (100, 2, 5, True): 0.564935064935065,\n",
       " (100, 2, 5, False): 0.577922077922078,\n",
       " (100, 3, 0, True): 0.5633116883116883,\n",
       " (100, 3, 0, False): 0.573051948051948,\n",
       " (100, 3, 1, True): 0.5584415584415584,\n",
       " (100, 3, 1, False): 0.5762987012987013,\n",
       " (100, 3, 2, True): 0.5665584415584416,\n",
       " (100, 3, 2, False): 0.573051948051948,\n",
       " (100, 3, 3, True): 0.573051948051948,\n",
       " (100, 3, 3, False): 0.5811688311688312,\n",
       " (100, 3, 5, True): 0.5714285714285714,\n",
       " (100, 3, 5, False): 0.5762987012987013,\n",
       " (100, 5, 0, True): 0.5811688311688312,\n",
       " (100, 5, 0, False): 0.577922077922078,\n",
       " (100, 5, 1, True): 0.5746753246753247,\n",
       " (100, 5, 1, False): 0.5827922077922078,\n",
       " (100, 5, 2, True): 0.5746753246753247,\n",
       " (100, 5, 2, False): 0.5811688311688312,\n",
       " (100, 5, 3, True): 0.5746753246753247,\n",
       " (100, 5, 3, False): 0.5811688311688312,\n",
       " (100, 5, 5, True): 0.5795454545454546,\n",
       " (100, 5, 5, False): 0.586038961038961}"
      ]
     },
     "execution_count": 17,
     "metadata": {},
     "output_type": "execute_result"
    }
   ],
   "source": [
    "evaluation_results"
   ]
  },
  {
   "cell_type": "code",
   "execution_count": 19,
   "id": "0fca9b91",
   "metadata": {},
   "outputs": [],
   "source": [
    "import matplotlib.pyplot as plt"
   ]
  },
  {
   "cell_type": "code",
   "execution_count": 86,
   "id": "d7a89d5b",
   "metadata": {},
   "outputs": [
    {
     "name": "stdout",
     "output_type": "stream",
     "text": [
      "PLOTTING 25 ATT points\n",
      "PLOTTING 25 NOATT points\n",
      "PLOTTING 25 ATT points\n",
      "PLOTTING 25 NOATT points\n",
      "PLOTTING 25 ATT points\n",
      "PLOTTING 25 NOATT points\n"
     ]
    },
    {
     "data": {
      "image/png": "[encoded data removed]",
      "text/plain": [
       "<Figure size 1440x360 with 3 Axes>"
      ]
     },
     "metadata": {
      "needs_background": "light"
     },
     "output_type": "display_data"
    }
   ],
   "source": [
    "fig, axs = plt.subplots(1, 3, figsize=(20,5))\n",
    "for n, marker, ax in zip(top_n_options, [\"o\", \"v\", \"s\"], axs):\n",
    "    xs_att, ys_att = [], []\n",
    "    xs_noatt, ys_noatt = [], []\n",
    "    for a in ab_sent_options:\n",
    "        for b in ab_sent_options:\n",
    "            x_att, y_att = a + b, evaluation_results[n, a, b, True]\n",
    "            xs_att.append(x_att), ys_att.append(y_att)\n",
    "            \n",
    "            x_noatt, y_noatt = a + b, evaluation_results[n, a, b, False]\n",
    "            xs_noatt.append(x_noatt), ys_noatt.append(y_noatt)\n",
    "            \n",
    "    print(f\"PLOTTING {len(xs_att)} ATT points\")\n",
    "    print(f\"PLOTTING {len(xs_noatt)} NOATT points\")\n",
    "    \n",
    "    ax.scatter(xs_att, ys_att, color=\"blue\", marker=marker, label=f\"Att,N={n}\")\n",
    "    ax.scatter(xs_noatt, ys_noatt, color=\"red\", marker=marker, label=f\"NoAtt,N={n}\")\n",
    "    \n",
    "    ax.set_xlabel(\"# Added Sentences (a+b)\")\n",
    "    ax.set_ylabel(\"Attack Success %\")\n",
    "    \n",
    "    ax.legend()\n",
    "    ax.set_title(f\"Sentence Mimicry Success Rate (N={n})\")\n",
    "    \n",
    "plt.savefig(\"mimicry_sentence_summed_added.png\")\n",
    "plt.show()"
   ]
  },
  {
   "cell_type": "code",
   "execution_count": 85,
   "id": "9ebd5fa0",
   "metadata": {},
   "outputs": [
    {
     "data": {
      "image/png": "[encoded data removed]",
      "text/plain": [
       "<Figure size 720x720 with 1 Axes>"
      ]
     },
     "metadata": {
      "needs_background": "light"
     },
     "output_type": "display_data"
    }
   ],
   "source": [
    "fig = plt.figure(figsize=(10,10))\n",
    "ax = fig.add_subplot(projection='3d')\n",
    "n = 10\n",
    "\n",
    "xs_att, ys_att, zs_att = [], [], []\n",
    "xs_noatt, ys_noatt, zs_noatt = [], [], []\n",
    "for a in ab_sent_options:\n",
    "    for b in ab_sent_options:\n",
    "        x_att, y_att, z_att = a, b, evaluation_results[n, a, b, True]\n",
    "        xs_att.append(x_att), ys_att.append(y_att), zs_att.append(z_att)\n",
    "\n",
    "        x_noatt, y_noatt, z_noatt = a, b, evaluation_results[n, a, b, False]\n",
    "        xs_noatt.append(x_noatt), ys_noatt.append(y_noatt), zs_noatt.append(z_noatt)\n",
    "\n",
    "ax.scatter(xs_att, ys_att, zs_att, color=\"blue\", marker=marker, label=f\"Att\")\n",
    "ax.scatter(xs_noatt, ys_noatt, zs_noatt, color=\"red\", marker=marker, label=f\"NoAtt\")\n",
    "\n",
    "ax.set_xlabel(\"# Sentences Before (a)\")\n",
    "ax.set_ylabel(\"# Sentences After (b)\")\n",
    "ax.set_zlabel(\"Attack Success %\")\n",
    "\n",
    "ax.legend()\n",
    "ax.set_title(f\"Sentence Mimicry Success Rate (N={n}) - Vary A,B\")\n",
    "\n",
    "plt.savefig(\"mimicry_sentence_ab3d.png\")\n",
    "plt.show()"
   ]
  },
  {
   "cell_type": "code",
   "execution_count": 53,
   "id": "f94ff009",
   "metadata": {
    "scrolled": false
   },
   "outputs": [
    {
     "name": "stderr",
     "output_type": "stream",
     "text": [
      "/Users/pablokvitca/anaconda3/envs/toxicity_filter_attacks_36/lib/python3.6/site-packages/ipykernel_launcher.py:17: UserWarning: FixedFormatter should only be used together with FixedLocator\n",
      "/Users/pablokvitca/anaconda3/envs/toxicity_filter_attacks_36/lib/python3.6/site-packages/ipykernel_launcher.py:18: UserWarning: FixedFormatter should only be used together with FixedLocator\n",
      "No handles with labels found to put in legend.\n",
      "/Users/pablokvitca/anaconda3/envs/toxicity_filter_attacks_36/lib/python3.6/site-packages/ipykernel_launcher.py:23: UserWarning: FixedFormatter should only be used together with FixedLocator\n",
      "/Users/pablokvitca/anaconda3/envs/toxicity_filter_attacks_36/lib/python3.6/site-packages/ipykernel_launcher.py:24: UserWarning: FixedFormatter should only be used together with FixedLocator\n",
      "No handles with labels found to put in legend.\n"
     ]
    },
    {
     "data": {
      "text/plain": [
       "Text(0.5, 1.0, 'Sentence Mimicry (N=10) - No Attention')"
      ]
     },
     "execution_count": 53,
     "metadata": {},
     "output_type": "execute_result"
    },
    {
     "data": {
      "image/png": "[encoded data removed]",
      "text/plain": [
       "<Figure size 720x720 with 2 Axes>"
      ]
     },
     "metadata": {
      "needs_background": "light"
     },
     "output_type": "display_data"
    }
   ],
   "source": [
    "fig, (ax_att, ax_noatt) = plt.subplots(1, 2, figsize=(10,10))\n",
    "\n",
    "n = 10\n",
    "\n",
    "mat_att = np.zeros((len(ab_sent_options), len(ab_sent_options)))\n",
    "mat_noatt = np.zeros((len(ab_sent_options), len(ab_sent_options)))\n",
    "\n",
    "for i, a in enumerate(ab_sent_options):\n",
    "    for j, b in enumerate(ab_sent_options):\n",
    "        x_att, y_att, z_att = a, b, evaluation_results[n, a, b, True]\n",
    "        mat_att[i,j] = z_att\n",
    "\n",
    "        x_noatt, y_noatt, z_noatt = a, b, evaluation_results[n, a, b, False]\n",
    "        mat_noatt[i,j] = z_noatt\n",
    "\n",
    "ax_att.matshow(mat_att, interpolation ='nearest')\n",
    "ax_att.set_xticklabels(['']+list(map(str, ab_sent_options)))\n",
    "ax_att.set_yticklabels(['']+list(map(str, ab_sent_options)))\n",
    "ax_att.legend()\n",
    "ax_att.set_title(f\"Sentence Mimicry (N={n}) - With Attention\")\n",
    "\n",
    "ax_noatt.matshow(mat_noatt, interpolation ='nearest')\n",
    "ax_noatt.set_xticklabels(['']+list(map(str, ab_sent_options)))\n",
    "ax_noatt.set_yticklabels(['']+list(map(str, ab_sent_options)))\n",
    "ax_noatt.legend()\n",
    "ax_noatt.set_title(f\"Sentence Mimicry (N={n}) - No Attention\")"
   ]
  },
  {
   "cell_type": "code",
   "execution_count": 68,
   "id": "d33d565f",
   "metadata": {},
   "outputs": [],
   "source": [
    "evaluation_results_noatt = {(k[0], k[1], k[2]):v for k,v in evaluation_results.items() if k[3] == False}\n",
    "evaluation_results_att = {(k[0], k[1], k[2]):v for k,v in evaluation_results.items() if k[3] == True}"
   ]
  },
  {
   "cell_type": "code",
   "execution_count": 69,
   "id": "8846d0c4",
   "metadata": {
    "scrolled": true
   },
   "outputs": [
    {
     "data": {
      "text/plain": [
       "{(10, 0, 0): 0.38636363636363635,\n",
       " (10, 0, 1): 0.38636363636363635,\n",
       " (10, 0, 2): 0.38636363636363635,\n",
       " (10, 0, 3): 0.38636363636363635,\n",
       " (10, 0, 5): 0.38636363636363635,\n",
       " (10, 1, 0): 0.5146103896103896,\n",
       " (10, 1, 1): 0.5324675324675324,\n",
       " (10, 1, 2): 0.5211038961038961,\n",
       " (10, 1, 3): 0.512987012987013,\n",
       " (10, 1, 5): 0.5097402597402597,\n",
       " (10, 2, 0): 0.5487012987012987,\n",
       " (10, 2, 1): 0.5503246753246753,\n",
       " (10, 2, 2): 0.5487012987012987,\n",
       " (10, 2, 3): 0.5405844155844156,\n",
       " (10, 2, 5): 0.5373376623376623,\n",
       " (10, 3, 0): 0.5568181818181818,\n",
       " (10, 3, 1): 0.5584415584415584,\n",
       " (10, 3, 2): 0.5551948051948052,\n",
       " (10, 3, 3): 0.5665584415584416,\n",
       " (10, 3, 5): 0.5633116883116883,\n",
       " (10, 5, 0): 0.5746753246753247,\n",
       " (10, 5, 1): 0.5681818181818182,\n",
       " (10, 5, 2): 0.573051948051948,\n",
       " (10, 5, 3): 0.573051948051948,\n",
       " (10, 5, 5): 0.5746753246753247,\n",
       " (50, 0, 0): 0.38636363636363635,\n",
       " (50, 0, 1): 0.38636363636363635,\n",
       " (50, 0, 2): 0.38636363636363635,\n",
       " (50, 0, 3): 0.387987012987013,\n",
       " (50, 0, 5): 0.38636363636363635,\n",
       " (50, 1, 0): 0.5308441558441559,\n",
       " (50, 1, 1): 0.5275974025974026,\n",
       " (50, 1, 2): 0.5454545454545454,\n",
       " (50, 1, 3): 0.5373376623376623,\n",
       " (50, 1, 5): 0.5373376623376623,\n",
       " (50, 2, 0): 0.5665584415584416,\n",
       " (50, 2, 1): 0.5665584415584416,\n",
       " (50, 2, 2): 0.5665584415584416,\n",
       " (50, 2, 3): 0.5665584415584416,\n",
       " (50, 2, 5): 0.5584415584415584,\n",
       " (50, 3, 0): 0.573051948051948,\n",
       " (50, 3, 1): 0.5746753246753247,\n",
       " (50, 3, 2): 0.5714285714285714,\n",
       " (50, 3, 3): 0.573051948051948,\n",
       " (50, 3, 5): 0.5746753246753247,\n",
       " (50, 5, 0): 0.577922077922078,\n",
       " (50, 5, 1): 0.5746753246753247,\n",
       " (50, 5, 2): 0.5795454545454546,\n",
       " (50, 5, 3): 0.5811688311688312,\n",
       " (50, 5, 5): 0.577922077922078,\n",
       " (100, 0, 0): 0.38636363636363635,\n",
       " (100, 0, 1): 0.38636363636363635,\n",
       " (100, 0, 2): 0.38636363636363635,\n",
       " (100, 0, 3): 0.38636363636363635,\n",
       " (100, 0, 5): 0.38961038961038963,\n",
       " (100, 1, 0): 0.5324675324675324,\n",
       " (100, 1, 1): 0.5438311688311688,\n",
       " (100, 1, 2): 0.5422077922077922,\n",
       " (100, 1, 3): 0.547077922077922,\n",
       " (100, 1, 5): 0.5373376623376623,\n",
       " (100, 2, 0): 0.5665584415584416,\n",
       " (100, 2, 1): 0.5681818181818182,\n",
       " (100, 2, 2): 0.5698051948051948,\n",
       " (100, 2, 3): 0.5681818181818182,\n",
       " (100, 2, 5): 0.577922077922078,\n",
       " (100, 3, 0): 0.573051948051948,\n",
       " (100, 3, 1): 0.5762987012987013,\n",
       " (100, 3, 2): 0.573051948051948,\n",
       " (100, 3, 3): 0.5811688311688312,\n",
       " (100, 3, 5): 0.5762987012987013,\n",
       " (100, 5, 0): 0.577922077922078,\n",
       " (100, 5, 1): 0.5827922077922078,\n",
       " (100, 5, 2): 0.5811688311688312,\n",
       " (100, 5, 3): 0.5811688311688312,\n",
       " (100, 5, 5): 0.586038961038961}"
      ]
     },
     "execution_count": 69,
     "metadata": {},
     "output_type": "execute_result"
    }
   ],
   "source": [
    "evaluation_results_noatt"
   ]
  },
  {
   "cell_type": "code",
   "execution_count": 70,
   "id": "024fc06a",
   "metadata": {},
   "outputs": [],
   "source": [
    "attack_params = list(evaluation_results_noatt.keys())\n",
    "attack_scores = list(evaluation_results_noatt.values())\n",
    "_, sorted_by_success_params = tuple(zip(*sorted(zip(attack_scores, attack_params), key=lambda x: x[0])))"
   ]
  },
  {
   "cell_type": "code",
   "execution_count": 71,
   "id": "d12e3f73",
   "metadata": {},
   "outputs": [],
   "source": [
    "x = np.arange(0, len(sorted_by_success_params))\n",
    "y_noatt = np.array([evaluation_results_noatt[(n,a,b)] for n, a, b in sorted_by_success_params])\n",
    "y_att = np.array([evaluation_results_att[(n,a,b)] for n, a, b in sorted_by_success_params])"
   ]
  },
  {
   "cell_type": "code",
   "execution_count": 84,
   "id": "e851eb69",
   "metadata": {},
   "outputs": [
    {
     "data": {
      "image/png": "[encoded data removed]",
      "text/plain": [
       "<Figure size 720x720 with 1 Axes>"
      ]
     },
     "metadata": {
      "needs_background": "light"
     },
     "output_type": "display_data"
    }
   ],
   "source": [
    "fig, ax = plt.subplots(1, 1, figsize=(10,10))\n",
    "ax.plot(x, y_att, color=\"blue\", label=\"With Attention\")\n",
    "ax.plot(x, y_noatt, color=\"red\", label=\"No Attention\")\n",
    "\n",
    "ax.set_xlabel(\"Attack # (Sorted by Success Rate)\")\n",
    "ax.xaxis.set_ticks(np.arange(0, len(sorted_by_success_params)+1, 2))\n",
    "ax.set_ylabel(\"Attack Success Rate (%)\")\n",
    "\n",
    "plt.legend()\n",
    "plt.title(\"Mimicry by Sentence Attack Success - Sorted by Success on No Attention Model\")\n",
    "plt.savefig(\"mimicry_sentence_sorted_comparison.png\")\n",
    "plt.show()"
   ]
  },
  {
   "cell_type": "code",
   "execution_count": 87,
   "id": "aa6d7363",
   "metadata": {},
   "outputs": [
    {
     "name": "stdout",
     "output_type": "stream",
     "text": [
      "BEST PARAMS: N=100, A=5 B=5\n",
      "SUCCESS RATE, NOATT: 0.586038961038961\n",
      "SUCCESS RATE, ATT: 0.5795454545454546\n"
     ]
    }
   ],
   "source": [
    "best_params = sorted_by_success_params[-1]\n",
    "print(f\"BEST PARAMS: N={best_params[0]}, A={best_params[1]} B={best_params[2]}\")\n",
    "print(\"SUCCESS RATE, NOATT:\", evaluation_results_noatt[best_params])\n",
    "print(\"SUCCESS RATE, ATT:\", evaluation_results_att[best_params])"
   ]
  },
  {
   "cell_type": "code",
   "execution_count": 92,
   "id": "b7647e4e",
   "metadata": {},
   "outputs": [
    {
     "name": "stdout",
     "output_type": "stream",
     "text": [
      "NO ATTACK PARAMS: N=10, A=0 B=0\n",
      "SUCCESS RATE, NOATT: 0.38636363636363635\n",
      "SUCCESS RATE, ATT: 0.38636363636363635\n"
     ]
    }
   ],
   "source": [
    "no_attack_params = sorted_by_success_params[0]\n",
    "print(f\"NO ATTACK PARAMS: N={no_attack_params[0]}, A={no_attack_params[1]} B={no_attack_params[2]}\")\n",
    "print(\"SUCCESS RATE, NOATT:\", evaluation_results_noatt[no_attack_params])\n",
    "print(\"SUCCESS RATE, ATT:\", evaluation_results_att[no_attack_params])"
   ]
  },
  {
   "cell_type": "code",
   "execution_count": 89,
   "id": "083b1660",
   "metadata": {},
   "outputs": [
    {
     "name": "stdout",
     "output_type": "stream",
     "text": [
      "WORST PARAMS: N=10, A=0 B=1\n",
      "SUCCESS RATE, NOATT: 0.38636363636363635\n",
      "SUCCESS RATE, ATT: 0.387987012987013\n"
     ]
    }
   ],
   "source": [
    "worst_params = sorted_by_success_params[1]\n",
    "print(f\"WORST PARAMS: N={worst_params[0]}, A={worst_params[1]} B={worst_params[2]}\")\n",
    "print(\"SUCCESS RATE, NOATT:\", evaluation_results_noatt[worst_params])\n",
    "print(\"SUCCESS RATE, ATT:\", evaluation_results_att[worst_params])"
   ]
  },
  {
   "cell_type": "code",
   "execution_count": null,
   "id": "d717b45b",
   "metadata": {},
   "outputs": [],
   "source": []
  }
 ],
 "metadata": {
  "kernelspec": {
   "display_name": "Python 3",
   "language": "python",
   "name": "python3"
  },
  "language_info": {
   "codemirror_mode": {
    "name": "ipython",
    "version": 3
   },
   "file_extension": ".py",
   "mimetype": "text/x-python",
   "name": "python",
   "nbconvert_exporter": "python",
   "pygments_lexer": "ipython3",
   "version": "3.6.13"
  },
  "toc": {
   "base_numbering": 1,
   "nav_menu": {},
   "number_sections": true,
   "sideBar": true,
   "skip_h1_title": false,
   "title_cell": "Table of Contents",
   "title_sidebar": "Contents",
   "toc_cell": false,
   "toc_position": {},
   "toc_section_display": true,
   "toc_window_display": false
  },
  "varInspector": {
   "cols": {
    "lenName": 16,
    "lenType": 16,
    "lenVar": 40
   },
   "kernels_config": {
    "python": {
     "delete_cmd_postfix": "",
     "delete_cmd_prefix": "del ",
     "library": "var_list.py",
     "varRefreshCmd": "print(var_dic_list())"
    },
    "r": {
     "delete_cmd_postfix": ") ",
     "delete_cmd_prefix": "rm(",
     "library": "var_list.r",
     "varRefreshCmd": "cat(var_dic_list()) "
    }
   },
   "types_to_exclude": [
    "module",
    "function",
    "builtin_function_or_method",
    "instance",
    "_Feature"
   ],
   "window_display": false
  }
 },
 "nbformat": 4,
 "nbformat_minor": 5
}
