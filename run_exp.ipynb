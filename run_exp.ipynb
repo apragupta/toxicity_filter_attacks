{
 "cells": [
  {
   "cell_type": "code",
   "execution_count": 15,
   "id": "44d3d625",
   "metadata": {
    "ExecuteTime": {
     "end_time": "2021-12-06T06:50:13.671060Z",
     "start_time": "2021-12-06T06:50:13.652063Z"
    }
   },
   "outputs": [
    {
     "name": "stdout",
     "output_type": "stream",
     "text": [
      "1.15.0\n"
     ]
    }
   ],
   "source": [
    "import tensorflow as tf\n",
    "print(tf.__version__)\n",
    "import sys\n",
    "\n",
    "import tensorflow as tf\n",
    "import numpy as np\n",
    "import os\n",
    "import pickle\n",
    "\n",
    "from data_utils.data_helpers import genFeatures, loadVocabEmb\n",
    "from data_utils.tag_data_helpers import genPOSFeatures\n",
    "from data_utils.eval_helpers import plot_roc_auc\n",
    "from experiments import params\n",
    "from model.abuse_classifier import AbuseClassifier\n",
    "os.environ['TF_CPP_MIN_LOG_LEVEL'] = '3'\n",
    "from tensorflow.python.util import deprecation\n",
    "deprecation._PRINT_DEPRECATION_WARNINGS = False\n"
   ]
  },
  {
   "cell_type": "code",
   "execution_count": null,
   "id": "35743958",
   "metadata": {},
   "outputs": [],
   "source": []
  },
  {
   "cell_type": "code",
   "execution_count": 25,
   "id": "a57dc962",
   "metadata": {
    "ExecuteTime": {
     "end_time": "2021-12-06T06:55:37.863834Z",
     "start_time": "2021-12-06T06:55:37.850834Z"
    }
   },
   "outputs": [],
   "source": [
    "#define the model type and attention loss type we are testing\n",
    "\n",
    "MODEL_TYPE = \"model_att=encoded_checkpoints\"\n",
    "ATTENTION_LOSS_TYPE = \"encoded\"\n",
    "comm_or_sent = \"comm\"\n",
    "\n",
    "#if model type is no attention, attention lambda should be 0\n",
    "if MODEL_TYPE == \"model_noatt_checkpoints\":\n",
    "    attention_lambda = 0.0\n",
    "    ATTENTION_LOSS_TYPE = \"none\"\n",
    "else:\n",
    "    attention_lambda = 0.2"
   ]
  },
  {
   "cell_type": "code",
   "execution_count": 3,
   "id": "7c11ecf7",
   "metadata": {
    "ExecuteTime": {
     "end_time": "2021-12-06T06:44:53.706427Z",
     "start_time": "2021-12-06T06:44:53.693428Z"
    }
   },
   "outputs": [],
   "source": [
    "#these thresholds were found by seeing which threshold yielded the best f1 score in the training data\n",
    "#best threshold for attention model and non attention model came out to be the same\n",
    "BEST_THRESHOLD = 0.3"
   ]
  },
  {
   "cell_type": "code",
   "execution_count": 4,
   "id": "df9b44a3",
   "metadata": {
    "ExecuteTime": {
     "end_time": "2021-12-06T06:44:53.722428Z",
     "start_time": "2021-12-06T06:44:53.708428Z"
    }
   },
   "outputs": [],
   "source": [
    "flags = tf.app.flags\n",
    "\n",
    "\n",
    "# Model Hyperparameters\n",
    "tf.flags.DEFINE_integer(\"embedding_dim\", 300, \"Dimensionality of character embedding (default: 128)\")\n",
    "tf.flags.DEFINE_integer(\"pos_vocab_size\", 26, \"Vocab size of POS tags\")\n",
    "tf.flags.DEFINE_integer(\"pos_embedding_dim\", 25, \"Dimensionality of pos tag embedding (default: 20)\")\n",
    "tf.flags.DEFINE_float(\"dropout_keep_prob\", 1.0, \"Dropout keep probability (default: 0.5)\")\n",
    "tf.flags.DEFINE_float(\"attention_lambda\", attention_lambda, \"Supervised attention lambda (default: 0.05)\")\n",
    "tf.flags.DEFINE_string(\"attention_loss_type\", ATTENTION_LOSS_TYPE, \"loss function of attention\")\n",
    "tf.flags.DEFINE_float(\"l2_reg_lambda\", 0.02, \"L2 regularization lambda (default: 0.05)\")\n",
    "tf.flags.DEFINE_integer(\"hidden_size\", 300, \"Dimensionality of RNN cell (default: 300)\")\n",
    "tf.flags.DEFINE_integer(\"pos_hidden_size\", 25, \"Dimensionality of POS-RNN cell\")\n",
    "tf.flags.DEFINE_integer(\"attention_size\", 20, \"Dimensionality of attention scheme (default: 50)\")\n",
    "tf.flags.DEFINE_boolean(\"use_pos_flag\", True, \"use the sequence of POS tags\")\n",
    "# Training parameters -- evaluate_every should be 100\n",
    "tf.flags.DEFINE_integer(\"batch_size\", 32, \"Batch Size (default: 32)\")\n",
    "tf.flags.DEFINE_integer(\"num_epochs\", 60, \"Number of training epochs (default: 200)\")\n",
    "tf.flags.DEFINE_integer(\"evaluate_every\", 50, \"Evaluate model on dev set after this many steps (default: 100)\")\n",
    "tf.flags.DEFINE_integer(\"checkpoint_every\", 500000, \"Save model after this many steps (default: 100)\")\n",
    "# tf.flags.DEFINE_float(\"train_ratio\", 1.0, \"Ratio of training data\")\n",
    "# Misc Parameters\n",
    "tf.flags.DEFINE_string(\"checkpoint\", '', \"model\")\n",
    "tf.flags.DEFINE_boolean(\"allow_soft_placement\", True, \"Allow device soft device placement\")\n",
    "tf.flags.DEFINE_boolean(\"log_device_placement\", False, \"Log placement of ops on devices\")\n",
    "tf.app.flags.DEFINE_string('f', '', 'kernel')\n",
    "FLAGS = flags.FLAGS"
   ]
  },
  {
   "cell_type": "code",
   "execution_count": 26,
   "id": "1c8ca506",
   "metadata": {
    "ExecuteTime": {
     "end_time": "2021-12-06T06:56:17.013831Z",
     "start_time": "2021-12-06T06:56:16.984834Z"
    }
   },
   "outputs": [],
   "source": [
    "\n",
    "\n",
    "\n",
    "def load_vocab():\n",
    "    vocabulary, pos_vocabulary, init_embed = loadVocabEmb()\n",
    "    return vocabulary, pos_vocabulary, init_embed\n",
    "\n",
    "\n",
    "def load_data(dump_folder_path, data_folder_path, data_type, verbose=True):\n",
    "    assert data_type in [\"train\", \"test\"]\n",
    "    with open(os.path.join(dump_folder_path, \"vocab.pkl\"), \"rb\") as handle:\n",
    "        vocabulary = pickle.load(handle)\n",
    "    with open(os.path.join(dump_folder_path, \"pos_vocab.pkl\"), \"rb\") as handle:\n",
    "        pos_vocabulary = pickle.load(handle)\n",
    "        \n",
    "        \n",
    "        \n",
    "    #loading actual data    \n",
    "    with open(os.path.join(data_folder_path, data_type + f\"_{comm_or_sent}.data\"), \"rb\") as handle:\n",
    "        sentences, labels = pickle.load(handle)\n",
    "    with open(os.path.join(data_folder_path, data_type + f\"_{comm_or_sent}_pos.data\"), \"rb\") as handle:\n",
    "        pos_sentences = pickle.load(handle)\n",
    "    with open(os.path.join(data_folder_path, data_type + \"_attention.data\"), \"rb\") as handle:\n",
    "        attention = pickle.load(handle)\n",
    "    # generate features & labels\n",
    "    x, length, attention = genFeatures(sentences, attention, params.max_sent_len, vocabulary)\n",
    "    pos, pos_length = genPOSFeatures(pos_sentences, params.max_sent_len, pos_vocabulary, False)\n",
    "    y = np.array(labels)\n",
    "    if verbose:\n",
    "        print(\"load {} data, input sent size: {}, input POS size: {}, label size: {}\".format(\n",
    "            data_type, np.array(x).shape, np.array(pos).shape, np.array(y).shape))\n",
    "        \n",
    "        \n",
    "        \n",
    "    x_test, length_test, attention_test, pos_test, pos_length_test, y_test = x, length, attention, pos, pos_length, y\n",
    "    return x_test, length_test, attention_test, pos_test, pos_length_test, y_test\n",
    "\n",
    "\n",
    "def get_predictions(model_path, dump_folder_path, data_folder_path, data_type=\"test\"):\n",
    "    with open(os.path.join(dump_folder_path, \"norm_init_embed.pkl\"), \"rb\") as handle:\n",
    "        init_embed = pickle.load(handle)\n",
    "\n",
    "    \n",
    "    \n",
    "    x_test, length_test, attention_test, pos_test, pos_length_test, y_test = load_data(dump_folder_path, data_folder_path, data_type,  verbose=False)\n",
    "    \n",
    "    len_data = len(x_test)\n",
    "    print(f\"Running model on {len_data} {data_type} samples\")\n",
    "\n",
    "    with tf.Graph().as_default():\n",
    "        session_conf = tf.ConfigProto(\n",
    "            allow_soft_placement=FLAGS.allow_soft_placement,\n",
    "            log_device_placement=FLAGS.log_device_placement\n",
    "        )\n",
    "        sess = tf.Session(config=session_conf)\n",
    "        with sess.as_default():\n",
    "            model = AbuseClassifier(\n",
    "                max_sequence_length=params.max_sent_len,\n",
    "                num_classes=2,\n",
    "                pos_vocab_size=FLAGS.pos_vocab_size,\n",
    "                init_embed=init_embed,\n",
    "                hidden_size=FLAGS.hidden_size,\n",
    "                attention_size=FLAGS.attention_size,\n",
    "                keep_prob=FLAGS.dropout_keep_prob,\n",
    "                attention_lambda=FLAGS.attention_lambda,\n",
    "                attention_loss_type=FLAGS.attention_loss_type,\n",
    "                l2_reg_lambda=0.1,\n",
    "                use_pos_flag=FLAGS.use_pos_flag)\n",
    "\n",
    "            global_step = tf.Variable(0, name=\"global_step\", trainable=False)\n",
    "            saver = tf.train.Saver(tf.all_variables())\n",
    "            # Initialize all variables\n",
    "            sess.run(tf.initialize_all_variables())\n",
    "            saver.restore(sess, model_path)\n",
    "\n",
    "            dev_scores = []\n",
    "            dev_confidences = []\n",
    "            alphas = []\n",
    "            pos = 0\n",
    "            gap = 50\n",
    "            while pos < len(x_test):\n",
    "                x_batch = x_test[pos:pos + gap]\n",
    "                pos_batch = pos_test[pos:pos + gap]\n",
    "                y_batch = y_test[pos:pos + gap]\n",
    "                length_batch = length_test[pos:pos + gap]\n",
    "                pos_length_batch = pos_length_test[pos:pos + gap]\n",
    "                pos += gap\n",
    "                # score sentences\n",
    "                feed_dict = {\n",
    "                    model.input_word: x_batch,\n",
    "                    model.input_pos: pos_batch,\n",
    "                    model.input_y: y_batch,\n",
    "                    model.sequence_length: length_batch,\n",
    "                    model.dropout_keep_prob: 1.0\n",
    "                }\n",
    "                step, scores, alpha = sess.run([global_step, model.prob, model.alphas], feed_dict)\n",
    "                dev_confidences = dev_confidences + list([[s[0],s[1]] for s in scores])\n",
    "                dev_scores = dev_scores + list([s[0] for s in scores])\n",
    "                alphas = alphas + list(alpha)\n",
    "    return dev_confidences, dev_scores, y_test, alphas\n",
    "\n",
    "\n"
   ]
  },
  {
   "cell_type": "code",
   "execution_count": 194,
   "id": "3c70cfa1",
   "metadata": {
    "ExecuteTime": {
     "end_time": "2021-12-06T12:31:22.940196Z",
     "start_time": "2021-12-06T12:30:14.088596Z"
    }
   },
   "outputs": [
    {
     "name": "stdout",
     "output_type": "stream",
     "text": [
      "Running model from model_att=encoded_checkpoints\n",
      "Testing on data: experiments/data/exp_4/adv\n",
      "Using vocab/embed from dump_2\n",
      "padded sent: (11540, 100)\n",
      "feature shape: (11540, 100)\n",
      "Running model on 11540 test samples\n",
      "Supervised attention with encoded loss.\n",
      "INFO:tensorflow:Restoring parameters from C:\\Users\\apra\\Desktop\\FALL 2021\\CY 7990\\toxicity_filter_attacks\\model\\model_att=encoded_checkpoints\\best_model\n",
      "Done\n",
      "----------------------------------------------------------------------------------------------------\n",
      "Ran model from model_att=encoded_checkpoints, using data from experiments/data/exp_4/adv\n",
      "Predictions:\n",
      "[[0.07548137, 0.92451864], [0.2710304, 0.72896963], [0.8656771, 0.13432282], [0.05516219, 0.94483775], [0.10874496, 0.891255], [0.044950306, 0.95504963], [0.58994, 0.41006], [0.50424486, 0.49575514], [0.8293258, 0.1706742], [0.05264626, 0.9473537]]\n",
      "Ground Truth:\n",
      "[0, 1, 1, 0, 0, 0, 0, 1, 1, 0]\n",
      "Classification:\n",
      "[0, 0, 1, 0, 0, 0, 1, 1, 1, 0]\n"
     ]
    }
   ],
   "source": [
    "\n",
    "\n",
    "\n",
    "#path to get testing data from \n",
    "TEST_DATA_PATH = \"experiments/data/exp_4/adv\"\n",
    "os.environ['TF_CPP_MIN_LOG_LEVEL'] = '3'\n",
    "model_save_folder_name = MODEL_TYPE\n",
    "print(f\"Running model from {model_save_folder_name}\")\n",
    "\n",
    "model_folder_path = 'model'\n",
    "checkpoint_dir = os.path.abspath(os.path.join(model_folder_path, model_save_folder_name))\n",
    "model_path = os.path.join(checkpoint_dir, \"best_model\")\n",
    "\n",
    "dump_folder_path = 'dump_2'\n",
    "print(f\"Testing on data: {TEST_DATA_PATH}\")\n",
    "print(f\"Using vocab/embed from {dump_folder_path}\")\n",
    "\n",
    "scores, predictions, ground_truth, alphas = get_predictions(model_path, dump_folder_path, TEST_DATA_PATH, \"test\")\n",
    "\n",
    "ground_truth = [g[0] for g in ground_truth]\n",
    "\n",
    "print(\"Done\")\n",
    "print(\"-\" * 100)\n",
    "print(f\"Ran model from {model_save_folder_name}, using data from {TEST_DATA_PATH}\")\n",
    "\n",
    "print(\"Predictions:\")\n",
    "print(scores[0:10])\n",
    "\n",
    "print(\"Ground Truth:\")\n",
    "print(ground_truth[0:10])\n",
    "\n",
    "print(\"Classification:\")\n",
    "y_pred = list(map(lambda p: 1 if p > BEST_THRESHOLD else 0, predictions))\n",
    "print(y_pred[0:10])\n"
   ]
  },
  {
   "cell_type": "code",
   "execution_count": 195,
   "id": "b8383da7",
   "metadata": {
    "ExecuteTime": {
     "end_time": "2021-12-06T12:32:50.462225Z",
     "start_time": "2021-12-06T12:32:50.416225Z"
    }
   },
   "outputs": [
    {
     "name": "stdout",
     "output_type": "stream",
     "text": [
      "TEST METRICS: \n",
      "\n",
      "roc_auc: 0.8241057624998473\n",
      "pr_auc: 0.610976124997092\n",
      "fscore: 0.5805121154837601\n",
      "accuracy: 0.5805121154837601\n"
     ]
    }
   ],
   "source": [
    "from data_utils import eval_helpers\n",
    "from sklearn.metrics import f1_score, accuracy_score\n",
    "print(\"TEST METRICS: \\n\")\n",
    "# roc auc\n",
    "eval_helpers.evalROC(ground_truth, predictions)\n",
    "# pr auc\n",
    "eval_helpers.evalPR(ground_truth, predictions)\n",
    "# f1 score\n",
    "fscore = f1_score(ground_truth, y_pred)\n",
    "print(\"fscore: {}\".format(fscore))\n",
    "\n",
    "accuracy = accuracy_score(ground_truth,y_pred)\n",
    "print(\"accuracy: {}\".format(fscore))"
   ]
  },
  {
   "cell_type": "code",
   "execution_count": 196,
   "id": "45247750",
   "metadata": {
    "ExecuteTime": {
     "end_time": "2021-12-06T12:34:17.410227Z",
     "start_time": "2021-12-06T12:34:17.255225Z"
    }
   },
   "outputs": [
    {
     "data": {
      "text/plain": [
       "<sklearn.metrics._plot.confusion_matrix.ConfusionMatrixDisplay at 0x264b9caeef0>"
      ]
     },
     "execution_count": 196,
     "metadata": {},
     "output_type": "execute_result"
    },
    {
     "data": {
      "image/png": "[encoded data removed]",
      "text/plain": [
       "<Figure size 432x288 with 2 Axes>"
      ]
     },
     "metadata": {
      "needs_background": "light"
     },
     "output_type": "display_data"
    }
   ],
   "source": [
    "#some visualizations\n",
    "\n",
    "\n",
    "from  sklearn.metrics import confusion_matrix,ConfusionMatrixDisplay, RocCurveDisplay\n",
    "cm = confusion_matrix(ground_truth, y_pred)\n",
    "ConfusionMatrixDisplay(cm).plot()"
   ]
  },
  {
   "cell_type": "code",
   "execution_count": 197,
   "id": "244a7a7e",
   "metadata": {
    "ExecuteTime": {
     "end_time": "2021-12-06T12:35:46.537613Z",
     "start_time": "2021-12-06T12:35:46.414618Z"
    }
   },
   "outputs": [
    {
     "data": {
      "image/png": "[encoded data removed]",
      "text/plain": [
       "<Figure size 432x288 with 1 Axes>"
      ]
     },
     "metadata": {
      "needs_background": "light"
     },
     "output_type": "display_data"
    }
   ],
   "source": [
    "plot_roc_auc(ground_truth,predictions)"
   ]
  },
  {
   "cell_type": "code",
   "execution_count": 198,
   "id": "90ae6241",
   "metadata": {
    "ExecuteTime": {
     "end_time": "2021-12-06T12:37:15.705614Z",
     "start_time": "2021-12-06T12:37:15.690616Z"
    }
   },
   "outputs": [],
   "source": [
    "import numpy as np\n",
    "import matplotlib\n",
    "import matplotlib.pyplot as plt\n",
    "from IPython.display import display, HTML\n",
    "\n",
    "def colorize(words, color_array):\n",
    "    # words is a list of words\n",
    "    # color_array is an array of numbers between 0 and 1 of length equal to words\n",
    "    cmap = cmap=matplotlib.cm.Reds\n",
    "    template = '<span class=\"barcode\"; style=\"color: black; background-color: {}\">{}</span>'\n",
    "    colored_string = ''\n",
    "    for word, color in zip(words, color_array):\n",
    "        color = matplotlib.colors.rgb2hex(cmap(color)[:3])\n",
    "        colored_string += template.format(color, '&nbsp' + word + '&nbsp')\n",
    "    return colored_string\n",
    "def plot_attention(tokenized_comment, attention_weights, seperate = False):\n",
    "    len_comment = len(tokenized_comment)\n",
    "\n",
    "    if seperate:\n",
    "        print(\"====FORWARD ATTENTION===\")\n",
    "        s = colorize(tokenized_comment, attention_weights[0:50])\n",
    "        display(HTML(s))   \n",
    "        print(\"====BACKWORD ATTENTION===\")\n",
    "        s = colorize(tokenized_comment, attention_weights[50:])\n",
    "        display(HTML(s))    \n",
    "    else:\n",
    "        s = colorize(tokenized_comment, attention_weights[0:50]+attention_weights[50:])\n",
    "        display(HTML(s))\n"
   ]
  },
  {
   "cell_type": "code",
   "execution_count": null,
   "id": "13eb8881",
   "metadata": {
    "ExecuteTime": {
     "end_time": "2021-12-06T08:18:41.756054Z",
     "start_time": "2021-12-06T08:18:41.742056Z"
    }
   },
   "outputs": [],
   "source": []
  },
  {
   "cell_type": "code",
   "execution_count": null,
   "id": "0d3cfeac",
   "metadata": {},
   "outputs": [],
   "source": []
  },
  {
   "cell_type": "code",
   "execution_count": 199,
   "id": "407fd9e9",
   "metadata": {
    "ExecuteTime": {
     "end_time": "2021-12-06T12:38:44.868618Z",
     "start_time": "2021-12-06T12:38:44.759613Z"
    }
   },
   "outputs": [],
   "source": [
    "#let's vizualize some stuff!\n",
    "\n",
    "#first, I want to print comments and their ground truth and predicted labels\n",
    "\n",
    "with open(os.path.join(TEST_DATA_PATH, \"test_raw_comm.data\"), \"rb\") as handle:\n",
    "    comm_list, label_list = pickle.load(handle)\n",
    "with open(os.path.join(TEST_DATA_PATH, \"test_comm.data\"), \"rb\") as handle:\n",
    "    tok_comm_list, label_list = pickle.load(handle)"
   ]
  },
  {
   "cell_type": "code",
   "execution_count": 201,
   "id": "9933d418",
   "metadata": {
    "ExecuteTime": {
     "end_time": "2021-12-06T12:44:25.328480Z",
     "start_time": "2021-12-06T12:44:25.277484Z"
    },
    "run_control": {
     "marked": true
    },
    "scrolled": false
   },
   "outputs": [
    {
     "name": "stdout",
     "output_type": "stream",
     "text": [
      "====CORRECT====\n"
     ]
    },
    {
     "data": {
      "text/html": [
       "<span class=\"barcode\"; style=\"color: black; background-color: #ffeee7\">&nbspmy&nbsp</span><span class=\"barcode\"; style=\"color: black; background-color: #ffece3\">&nbspbad&nbsp</span><span class=\"barcode\"; style=\"color: black; background-color: #ffeee6\">&nbsp,&nbsp</span><span class=\"barcode\"; style=\"color: black; background-color: #ffece4\">&nbspinternet&nbsp</span><span class=\"barcode\"; style=\"color: black; background-color: #fee8dd\">&nbspwent&nbsp</span><span class=\"barcode\"; style=\"color: black; background-color: #feeae1\">&nbspto&nbsp</span><span class=\"barcode\"; style=\"color: black; background-color: #fee7dc\">&nbspshit&nbsp</span><span class=\"barcode\"; style=\"color: black; background-color: #ffece3\">&nbspso&nbsp</span><span class=\"barcode\"; style=\"color: black; background-color: #ffece4\">&nbspit&nbsp</span><span class=\"barcode\"; style=\"color: black; background-color: #ffece3\">&nbspsent&nbsp</span><span class=\"barcode\"; style=\"color: black; background-color: #ffece4\">&nbsp$number$&nbsp</span><span class=\"barcode\"; style=\"color: black; background-color: #ffeee6\">&nbsptimes&nbsp</span>"
      ],
      "text/plain": [
       "<IPython.core.display.HTML object>"
      ]
     },
     "metadata": {},
     "output_type": "display_data"
    },
    {
     "name": "stdout",
     "output_type": "stream",
     "text": [
      "(9446) True: 0 Predicted 0, (Score: 0.05570937693119049) \n",
      "\n",
      "====CORRECT====\n"
     ]
    },
    {
     "data": {
      "text/html": [
       "<span class=\"barcode\"; style=\"color: black; background-color: #fff3ed\">&nbsp$mention$&nbsp</span><span class=\"barcode\"; style=\"color: black; background-color: #fff4ee\">&nbspnone&nbsp</span><span class=\"barcode\"; style=\"color: black; background-color: #fff2eb\">&nbspof&nbsp</span><span class=\"barcode\"; style=\"color: black; background-color: #ffede5\">&nbspthose&nbsp</span><span class=\"barcode\"; style=\"color: black; background-color: #fff2ec\">&nbspthings&nbsp</span><span class=\"barcode\"; style=\"color: black; background-color: #fff2eb\">&nbsppreclude&nbsp</span><span class=\"barcode\"; style=\"color: black; background-color: #fed8c7\">&nbspsupporting&nbsp</span><span class=\"barcode\"; style=\"color: black; background-color: #fff2eb\">&nbspthe&nbsp</span><span class=\"barcode\"; style=\"color: black; background-color: #fff2eb\">&nbsplowering&nbsp</span><span class=\"barcode\"; style=\"color: black; background-color: #fff2ec\">&nbspof&nbsp</span><span class=\"barcode\"; style=\"color: black; background-color: #fff2eb\">&nbspthe&nbsp</span><span class=\"barcode\"; style=\"color: black; background-color: #fff2ec\">&nbspuse&nbsp</span><span class=\"barcode\"; style=\"color: black; background-color: #fff2ec\">&nbspof&nbsp</span><span class=\"barcode\"; style=\"color: black; background-color: #fff2eb\">&nbspviolence&nbsp</span><span class=\"barcode\"; style=\"color: black; background-color: #fff1ea\">&nbspby&nbsp</span><span class=\"barcode\"; style=\"color: black; background-color: #fff1ea\">&nbspvoting&nbsp</span><span class=\"barcode\"; style=\"color: black; background-color: #fff2ec\">&nbspfor&nbsp</span><span class=\"barcode\"; style=\"color: black; background-color: #fff2ec\">&nbsppeople&nbsp</span><span class=\"barcode\"; style=\"color: black; background-color: #fff2eb\">&nbspwho&nbsp</span><span class=\"barcode\"; style=\"color: black; background-color: #fff2eb\">&nbspalign&nbsp</span><span class=\"barcode\"; style=\"color: black; background-color: #fff2ec\">&nbspwith&nbsp</span><span class=\"barcode\"; style=\"color: black; background-color: #fff2eb\">&nbspyour&nbsp</span><span class=\"barcode\"; style=\"color: black; background-color: #fff1ea\">&nbspvalues&nbsp</span><span class=\"barcode\"; style=\"color: black; background-color: #fff2eb\">&nbspyou&nbsp</span><span class=\"barcode\"; style=\"color: black; background-color: #fff2eb\">&nbspare&nbsp</span><span class=\"barcode\"; style=\"color: black; background-color: #fff2ec\">&nbspstill&nbsp</span><span class=\"barcode\"; style=\"color: black; background-color: #fff3ed\">&nbspseriously&nbsp</span><span class=\"barcode\"; style=\"color: black; background-color: #fff3ed\">&nbsppursuing&nbsp</span><span class=\"barcode\"; style=\"color: black; background-color: #fff3ed\">&nbspthis&nbsp</span><span class=\"barcode\"; style=\"color: black; background-color: #fff3ed\">&nbspidea&nbsp</span><span class=\"barcode\"; style=\"color: black; background-color: #fff3ed\">&nbspthat&nbsp</span><span class=\"barcode\"; style=\"color: black; background-color: #fff2ec\">&nbspmolyneux&nbsp</span><span class=\"barcode\"; style=\"color: black; background-color: #fff2ec\">&nbsp's&nbsp</span><span class=\"barcode\"; style=\"color: black; background-color: #fff2ec\">&nbspsupport&nbsp</span><span class=\"barcode\"; style=\"color: black; background-color: #fff2ec\">&nbspfor&nbsp</span><span class=\"barcode\"; style=\"color: black; background-color: #fff2ec\">&nbsptrump&nbsp</span><span class=\"barcode\"; style=\"color: black; background-color: #fff2ec\">&nbspis&nbsp</span><span class=\"barcode\"; style=\"color: black; background-color: #fff2ec\">&nbspnot&nbsp</span><span class=\"barcode\"; style=\"color: black; background-color: #fff2ec\">&nbspa&nbsp</span><span class=\"barcode\"; style=\"color: black; background-color: #fff2ec\">&nbspcontradiction&nbsp</span><span class=\"barcode\"; style=\"color: black; background-color: #fff2ec\">&nbspof&nbsp</span><span class=\"barcode\"; style=\"color: black; background-color: #fff2ec\">&nbsphis&nbsp</span><span class=\"barcode\"; style=\"color: black; background-color: #fff3ed\">&nbspstated&nbsp</span>"
      ],
      "text/plain": [
       "<IPython.core.display.HTML object>"
      ]
     },
     "metadata": {},
     "output_type": "display_data"
    },
    {
     "name": "stdout",
     "output_type": "stream",
     "text": [
      "(3114) True: 0 Predicted 0, (Score: 0.10316918045282364) \n",
      "\n",
      "====CORRECT====\n"
     ]
    },
    {
     "data": {
      "text/html": [
       "<span class=\"barcode\"; style=\"color: black; background-color: #fee3d6\">&nbspsimilarily'&nbsp</span>"
      ],
      "text/plain": [
       "<IPython.core.display.HTML object>"
      ]
     },
     "metadata": {},
     "output_type": "display_data"
    },
    {
     "name": "stdout",
     "output_type": "stream",
     "text": [
      "(4173) True: 0 Predicted 0, (Score: 0.044712744653224945) \n",
      "\n",
      "====CORRECT====\n"
     ]
    },
    {
     "data": {
      "text/html": [
       "<span class=\"barcode\"; style=\"color: black; background-color: #fff4ee\">&nbspi&nbsp</span><span class=\"barcode\"; style=\"color: black; background-color: #fff2eb\">&nbspactually&nbsp</span><span class=\"barcode\"; style=\"color: black; background-color: #fff2ec\">&nbspdo&nbsp</span><span class=\"barcode\"; style=\"color: black; background-color: #fff2eb\">&nbspn't&nbsp</span><span class=\"barcode\"; style=\"color: black; background-color: #fff1ea\">&nbspwant&nbsp</span><span class=\"barcode\"; style=\"color: black; background-color: #fff2eb\">&nbspto&nbsp</span><span class=\"barcode\"; style=\"color: black; background-color: #fff1ea\">&nbspconvince&nbsp</span><span class=\"barcode\"; style=\"color: black; background-color: #fff2eb\">&nbspthis&nbsp</span><span class=\"barcode\"; style=\"color: black; background-color: #fff2ec\">&nbspguy&nbsp</span><span class=\"barcode\"; style=\"color: black; background-color: #fff2ec\">&nbspthat&nbsp</span><span class=\"barcode\"; style=\"color: black; background-color: #fff0e8\">&nbspfeminism&nbsp</span><span class=\"barcode\"; style=\"color: black; background-color: #fff1ea\">&nbspis&nbsp</span><span class=\"barcode\"; style=\"color: black; background-color: #fff2eb\">&nbspn't&nbsp</span><span class=\"barcode\"; style=\"color: black; background-color: #fff2eb\">&nbspthe&nbsp</span><span class=\"barcode\"; style=\"color: black; background-color: #fff2ec\">&nbspcesspool&nbsp</span><span class=\"barcode\"; style=\"color: black; background-color: #fff2ec\">&nbspit&nbsp</span><span class=\"barcode\"; style=\"color: black; background-color: #fff2ec\">&nbspis&nbsp</span><span class=\"barcode\"; style=\"color: black; background-color: #fff2ec\">&nbspreally&nbsp</span><span class=\"barcode\"; style=\"color: black; background-color: #fff2ec\">&nbspdo&nbsp</span><span class=\"barcode\"; style=\"color: black; background-color: #fff2ec\">&nbspn't&nbsp</span><span class=\"barcode\"; style=\"color: black; background-color: #fff2ec\">&nbspwant&nbsp</span><span class=\"barcode\"; style=\"color: black; background-color: #fff2ec\">&nbsphim&nbsp</span><span class=\"barcode\"; style=\"color: black; background-color: #fff2ec\">&nbspto&nbsp</span><span class=\"barcode\"; style=\"color: black; background-color: #fff2ec\">&nbspbe&nbsp</span><span class=\"barcode\"; style=\"color: black; background-color: #fff2ec\">&nbspon&nbsp</span><span class=\"barcode\"; style=\"color: black; background-color: #fff2eb\">&nbspmy&nbsp</span><span class=\"barcode\"; style=\"color: black; background-color: #fff2eb\">&nbspside&nbsp</span><span class=\"barcode\"; style=\"color: black; background-color: #fff2ec\">&nbsp,&nbsp</span><span class=\"barcode\"; style=\"color: black; background-color: #fff2eb\">&nbspif&nbsp</span><span class=\"barcode\"; style=\"color: black; background-color: #fff2eb\">&nbsphe&nbsp</span><span class=\"barcode\"; style=\"color: black; background-color: #fff2ec\">&nbspwere&nbsp</span><span class=\"barcode\"; style=\"color: black; background-color: #fff2eb\">&nbsp,&nbsp</span><span class=\"barcode\"; style=\"color: black; background-color: #fff1ea\">&nbspfeminist&nbsp</span><span class=\"barcode\"; style=\"color: black; background-color: #fff2eb\">&nbspwould&nbsp</span><span class=\"barcode\"; style=\"color: black; background-color: #fff2eb\">&nbspsay&nbsp</span><span class=\"barcode\"; style=\"color: black; background-color: #fff1ea\">&nbspthis&nbsp</span><span class=\"barcode\"; style=\"color: black; background-color: #fff0e9\">&nbspis&nbsp</span><span class=\"barcode\"; style=\"color: black; background-color: #fff2eb\">&nbspwhat&nbsp</span><span class=\"barcode\"; style=\"color: black; background-color: #fff1ea\">&nbspan&nbsp</span><span class=\"barcode\"; style=\"color: black; background-color: #fff0e8\">&nbspanit&nbsp</span><span class=\"barcode\"; style=\"color: black; background-color: #fff0e8\">&nbspfeminist&nbsp</span><span class=\"barcode\"; style=\"color: black; background-color: #ffebe2\">&nbsplooks&nbsp</span><span class=\"barcode\"; style=\"color: black; background-color: #fff2eb\">&nbsplike&nbsp</span>"
      ],
      "text/plain": [
       "<IPython.core.display.HTML object>"
      ]
     },
     "metadata": {},
     "output_type": "display_data"
    },
    {
     "name": "stdout",
     "output_type": "stream",
     "text": [
      "(727) True: 0 Predicted 0, (Score: 0.09641954302787781) \n",
      "\n",
      "====CORRECT====\n"
     ]
    },
    {
     "data": {
      "text/html": [
       "<span class=\"barcode\"; style=\"color: black; background-color: #fff1ea\">&nbsp$mention$&nbsp</span><span class=\"barcode\"; style=\"color: black; background-color: #fff1ea\">&nbspi&nbsp</span><span class=\"barcode\"; style=\"color: black; background-color: #fff0e9\">&nbspdo&nbsp</span><span class=\"barcode\"; style=\"color: black; background-color: #ffefe8\">&nbspn't&nbsp</span><span class=\"barcode\"; style=\"color: black; background-color: #ffeee7\">&nbspthink&nbsp</span><span class=\"barcode\"; style=\"color: black; background-color: #ffeee7\">&nbspsargon&nbsp</span><span class=\"barcode\"; style=\"color: black; background-color: #ffeee6\">&nbspknew&nbsp</span><span class=\"barcode\"; style=\"color: black; background-color: #ffeee6\">&nbspshe&nbsp</span><span class=\"barcode\"; style=\"color: black; background-color: #ffefe8\">&nbspwas&nbsp</span><span class=\"barcode\"; style=\"color: black; background-color: #fff0e8\">&nbsplying&nbsp</span><span class=\"barcode\"; style=\"color: black; background-color: #fff0e9\">&nbsp,&nbsp</span><span class=\"barcode\"; style=\"color: black; background-color: #fff0e9\">&nbspreally&nbsp</span><span class=\"barcode\"; style=\"color: black; background-color: #fff0e9\">&nbspwhat&nbsp</span><span class=\"barcode\"; style=\"color: black; background-color: #ffefe8\">&nbspexactly&nbsp</span><span class=\"barcode\"; style=\"color: black; background-color: #ffeee7\">&nbspis&nbsp</span><span class=\"barcode\"; style=\"color: black; background-color: #ffeee7\">&nbspit&nbsp</span><span class=\"barcode\"; style=\"color: black; background-color: #ffeee7\">&nbspyou&nbsp</span><span class=\"barcode\"; style=\"color: black; background-color: #ffeee6\">&nbspthink&nbsp</span><span class=\"barcode\"; style=\"color: black; background-color: #ffeee6\">&nbspshe&nbsp</span><span class=\"barcode\"; style=\"color: black; background-color: #ffefe8\">&nbspwas&nbsp</span><span class=\"barcode\"; style=\"color: black; background-color: #fff0e8\">&nbsplying&nbsp</span><span class=\"barcode\"; style=\"color: black; background-color: #fff0e9\">&nbspabout&nbsp</span>"
      ],
      "text/plain": [
       "<IPython.core.display.HTML object>"
      ]
     },
     "metadata": {},
     "output_type": "display_data"
    },
    {
     "name": "stdout",
     "output_type": "stream",
     "text": [
      "(7144) True: 0 Predicted 0, (Score: 0.05290244519710541) \n",
      "\n",
      "====INCORRECT====\n"
     ]
    },
    {
     "data": {
      "text/html": [
       "<span class=\"barcode\"; style=\"color: black; background-color: #fc8565\">&nbspdisgusting&nbsp</span><span class=\"barcode\"; style=\"color: black; background-color: #fdc6b0\">&nbspstoped&nbsp</span><span class=\"barcode\"; style=\"color: black; background-color: #fed9c9\">&nbspwatching&nbsp</span><span class=\"barcode\"; style=\"color: black; background-color: #ffefe8\">&nbspat&nbsp</span><span class=\"barcode\"; style=\"color: black; background-color: #fff2eb\">&nbsp$number$&nbsp</span><span class=\"barcode\"; style=\"color: black; background-color: #fee8de\">&nbsp05&nbsp</span>"
      ],
      "text/plain": [
       "<IPython.core.display.HTML object>"
      ]
     },
     "metadata": {},
     "output_type": "display_data"
    },
    {
     "name": "stdout",
     "output_type": "stream",
     "text": [
      "(27) True: 0 Predicted 1, (Score: 0.4572531282901764) \n",
      "\n",
      "====CORRECT====\n"
     ]
    },
    {
     "data": {
      "text/html": [
       "<span class=\"barcode\"; style=\"color: black; background-color: #fff5f0\">&nbspappreciate&nbsp</span><span class=\"barcode\"; style=\"color: black; background-color: #fff5f0\">&nbspareas&nbsp</span><span class=\"barcode\"; style=\"color: black; background-color: #fff4ef\">&nbspspecific&nbsp</span><span class=\"barcode\"; style=\"color: black; background-color: #fff4ef\">&nbspaccusing&nbsp</span><span class=\"barcode\"; style=\"color: black; background-color: #fff4ef\">&nbspcredit&nbsp</span><span class=\"barcode\"; style=\"color: black; background-color: #fff4ef\">&nbspcheers&nbsp</span><span class=\"barcode\"; style=\"color: black; background-color: #fff4ef\">&nbspde&nbsp</span><span class=\"barcode\"; style=\"color: black; background-color: #fff4ef\">&nbsppolicy&nbsp</span><span class=\"barcode\"; style=\"color: black; background-color: #fff4ef\">&nbspreference&nbsp</span><span class=\"barcode\"; style=\"color: black; background-color: #fff4ef\">&nbspthreat&nbsp</span><span class=\"barcode\"; style=\"color: black; background-color: #fff4ef\">&nbsptend&nbsp</span><span class=\"barcode\"; style=\"color: black; background-color: #fff4ef\">&nbspi'm&nbsp</span><span class=\"barcode\"; style=\"color: black; background-color: #fff4ee\">&nbspan&nbsp</span><span class=\"barcode\"; style=\"color: black; background-color: #ffede5\">&nbspoverweight&nbsp</span><span class=\"barcode\"; style=\"color: black; background-color: #fee5d9\">&nbspunattractive&nbsp</span><span class=\"barcode\"; style=\"color: black; background-color: #fff0e9\">&nbspred&nbsp</span><span class=\"barcode\"; style=\"color: black; background-color: #fee6da\">&nbspheaded&nbsp</span><span class=\"barcode\"; style=\"color: black; background-color: #fdcab5\">&nbspcunt&nbsp</span><span class=\"barcode\"; style=\"color: black; background-color: #fee1d3\">&nbspwhom&nbsp</span><span class=\"barcode\"; style=\"color: black; background-color: #fff0e8\">&nbsphas&nbsp</span><span class=\"barcode\"; style=\"color: black; background-color: #fff4ee\">&nbspno&nbsp</span><span class=\"barcode\"; style=\"color: black; background-color: #feeae0\">&nbsptemper&nbsp</span><span class=\"barcode\"; style=\"color: black; background-color: #fff4ee\">&nbspand&nbsp</span><span class=\"barcode\"; style=\"color: black; background-color: #fedecf\">&nbsphates&nbsp</span><span class=\"barcode\"; style=\"color: black; background-color: #fff2ec\">&nbspfeminists&nbsp</span><span class=\"barcode\"; style=\"color: black; background-color: #fff4ef\">&nbspthat&nbsp</span><span class=\"barcode\"; style=\"color: black; background-color: #fff4ef\">&nbspespecially&nbsp</span><span class=\"barcode\"; style=\"color: black; background-color: #fff4ef\">&nbspshow&nbsp</span><span class=\"barcode\"; style=\"color: black; background-color: #fff4ef\">&nbspup&nbsp</span><span class=\"barcode\"; style=\"color: black; background-color: #fff4ef\">&nbspon&nbsp</span><span class=\"barcode\"; style=\"color: black; background-color: #fff4ef\">&nbspthis&nbsp</span><span class=\"barcode\"; style=\"color: black; background-color: #fff5f0\">&nbspchannel&nbsp</span><span class=\"barcode\"; style=\"color: black; background-color: #fff5f0\">&nbsplatham&nbsp</span><span class=\"barcode\"; style=\"color: black; background-color: #fff5f0\">&nbsphero&nbsp</span><span class=\"barcode\"; style=\"color: black; background-color: #fff5f0\">&nbspthreat&nbsp</span><span class=\"barcode\"; style=\"color: black; background-color: #fff5f0\">&nbspknowledge&nbsp</span><span class=\"barcode\"; style=\"color: black; background-color: #fff5f0\">&nbsp$number$&nbsp</span><span class=\"barcode\"; style=\"color: black; background-color: #fff5f0\">&nbspstream&nbsp</span><span class=\"barcode\"; style=\"color: black; background-color: #fff5f0\">&nbspgrowing&nbsp</span><span class=\"barcode\"; style=\"color: black; background-color: #fff5f0\">&nbspconservative&nbsp</span><span class=\"barcode\"; style=\"color: black; background-color: #fff5f0\">&nbspthee&nbsp</span><span class=\"barcode\"; style=\"color: black; background-color: #fff5f0\">&nbspchosen&nbsp</span><span class=\"barcode\"; style=\"color: black; background-color: #fff5f0\">&nbspsouthern&nbsp</span>"
      ],
      "text/plain": [
       "<IPython.core.display.HTML object>"
      ]
     },
     "metadata": {},
     "output_type": "display_data"
    },
    {
     "name": "stdout",
     "output_type": "stream",
     "text": [
      "(8518) True: 1 Predicted 1, (Score: 0.8126360774040222) \n",
      "\n",
      "====CORRECT====\n"
     ]
    },
    {
     "data": {
      "text/html": [
       "<span class=\"barcode\"; style=\"color: black; background-color: #fff4ef\">&nbspagreed&nbsp</span><span class=\"barcode\"; style=\"color: black; background-color: #fff3ed\">&nbspmass&nbsp</span><span class=\"barcode\"; style=\"color: black; background-color: #fff4ee\">&nbspmessage&nbsp</span><span class=\"barcode\"; style=\"color: black; background-color: #fff4ee\">&nbspfield&nbsp</span><span class=\"barcode\"; style=\"color: black; background-color: #fff4ee\">&nbspcults&nbsp</span><span class=\"barcode\"; style=\"color: black; background-color: #fff4ee\">&nbspgames&nbsp</span><span class=\"barcode\"; style=\"color: black; background-color: #fff4ee\">&nbspmarry&nbsp</span><span class=\"barcode\"; style=\"color: black; background-color: #fff4ee\">&nbspbias&nbsp</span><span class=\"barcode\"; style=\"color: black; background-color: #fff4ee\">&nbsptopics&nbsp</span><span class=\"barcode\"; style=\"color: black; background-color: #fff4ee\">&nbspaccount&nbsp</span><span class=\"barcode\"; style=\"color: black; background-color: #fff4ee\">&nbsplist&nbsp</span><span class=\"barcode\"; style=\"color: black; background-color: #fff4ee\">&nbspseemed&nbsp</span><span class=\"barcode\"; style=\"color: black; background-color: #fff4ee\">&nbspif&nbsp</span><span class=\"barcode\"; style=\"color: black; background-color: #fff4ee\">&nbspthere&nbsp</span><span class=\"barcode\"; style=\"color: black; background-color: #fff4ee\">&nbspwas&nbsp</span><span class=\"barcode\"; style=\"color: black; background-color: #fff3ed\">&nbspa&nbsp</span><span class=\"barcode\"; style=\"color: black; background-color: #fff4ee\">&nbspline&nbsp</span><span class=\"barcode\"; style=\"color: black; background-color: #fff4ee\">&nbspthere&nbsp</span><span class=\"barcode\"; style=\"color: black; background-color: #fff4ee\">&nbspwould&nbsp</span><span class=\"barcode\"; style=\"color: black; background-color: #fff3ed\">&nbspbe&nbsp</span><span class=\"barcode\"; style=\"color: black; background-color: #fff3ed\">&nbspno&nbsp</span><span class=\"barcode\"; style=\"color: black; background-color: #fff1ea\">&nbspmodern&nbsp</span><span class=\"barcode\"; style=\"color: black; background-color: #fff2ec\">&nbspwest&nbsp</span><span class=\"barcode\"; style=\"color: black; background-color: #fff3ed\">&nbsp,&nbsp</span><span class=\"barcode\"; style=\"color: black; background-color: #fff2ec\">&nbspoffending&nbsp</span><span class=\"barcode\"; style=\"color: black; background-color: #fff2ec\">&nbsppeople&nbsp</span><span class=\"barcode\"; style=\"color: black; background-color: #fff2eb\">&nbspis&nbsp</span><span class=\"barcode\"; style=\"color: black; background-color: #fff3ed\">&nbsphow&nbsp</span><span class=\"barcode\"; style=\"color: black; background-color: #ffefe8\">&nbspgay&nbsp</span><span class=\"barcode\"; style=\"color: black; background-color: #fff2ec\">&nbsppeople&nbsp</span><span class=\"barcode\"; style=\"color: black; background-color: #fff3ed\">&nbspwere&nbsp</span><span class=\"barcode\"; style=\"color: black; background-color: #ffede5\">&nbspallowed&nbsp</span><span class=\"barcode\"; style=\"color: black; background-color: #fff2ec\">&nbspto&nbsp</span><span class=\"barcode\"; style=\"color: black; background-color: #fff3ed\">&nbspmarry&nbsp</span><span class=\"barcode\"; style=\"color: black; background-color: #fff2ec\">&nbsp,&nbsp</span><span class=\"barcode\"; style=\"color: black; background-color: #ffebe2\">&nbspfucking&nbsp</span><span class=\"barcode\"; style=\"color: black; background-color: #fc9474\">&nbspidiots&nbsp</span><span class=\"barcode\"; style=\"color: black; background-color: #fff3ed\">&nbspoxford&nbsp</span><span class=\"barcode\"; style=\"color: black; background-color: #fff4ee\">&nbspshown&nbsp</span><span class=\"barcode\"; style=\"color: black; background-color: #fff4ef\">&nbspbrilliant&nbsp</span><span class=\"barcode\"; style=\"color: black; background-color: #fff4ef\">&nbspactivism&nbsp</span><span class=\"barcode\"; style=\"color: black; background-color: #fff4ef\">&nbspbelief&nbsp</span><span class=\"barcode\"; style=\"color: black; background-color: #fff4ef\">&nbspbias&nbsp</span><span class=\"barcode\"; style=\"color: black; background-color: #fff4ef\">&nbspwives&nbsp</span><span class=\"barcode\"; style=\"color: black; background-color: #fff5f0\">&nbspregarding&nbsp</span><span class=\"barcode\"; style=\"color: black; background-color: #fff5f0\">&nbspfield&nbsp</span><span class=\"barcode\"; style=\"color: black; background-color: #fff5f0\">&nbspourselves&nbsp</span><span class=\"barcode\"; style=\"color: black; background-color: #fff4ef\">&nbspcredit&nbsp</span><span class=\"barcode\"; style=\"color: black; background-color: #fff4ef\">&nbsplabor&nbsp</span>"
      ],
      "text/plain": [
       "<IPython.core.display.HTML object>"
      ]
     },
     "metadata": {},
     "output_type": "display_data"
    },
    {
     "name": "stdout",
     "output_type": "stream",
     "text": [
      "(8821) True: 1 Predicted 1, (Score: 0.3178764879703522) \n",
      "\n",
      "====CORRECT====\n"
     ]
    },
    {
     "data": {
      "text/html": [
       "<span class=\"barcode\"; style=\"color: black; background-color: #fff2ec\">&nbspwhy&nbsp</span><span class=\"barcode\"; style=\"color: black; background-color: #fff2ec\">&nbspdo&nbsp</span><span class=\"barcode\"; style=\"color: black; background-color: #fff0e9\">&nbspgirls&nbsp</span><span class=\"barcode\"; style=\"color: black; background-color: #ffede5\">&nbsphate&nbsp</span><span class=\"barcode\"; style=\"color: black; background-color: #ffefe8\">&nbspit&nbsp</span><span class=\"barcode\"; style=\"color: black; background-color: #fff0e8\">&nbspwhen&nbsp</span><span class=\"barcode\"; style=\"color: black; background-color: #fff0e8\">&nbspa&nbsp</span><span class=\"barcode\"; style=\"color: black; background-color: #fff0e9\">&nbspguy&nbsp</span><span class=\"barcode\"; style=\"color: black; background-color: #fff0e9\">&nbspask&nbsp</span><span class=\"barcode\"; style=\"color: black; background-color: #ffefe8\">&nbspfor&nbsp</span><span class=\"barcode\"; style=\"color: black; background-color: #ffeee7\">&nbspa&nbsp</span><span class=\"barcode\"; style=\"color: black; background-color: #ffeee6\">&nbspphone&nbsp</span><span class=\"barcode\"; style=\"color: black; background-color: #ffefe8\">&nbspnumber&nbsp</span><span class=\"barcode\"; style=\"color: black; background-color: #ffeee6\">&nbsp\\?&nbsp</span><span class=\"barcode\"; style=\"color: black; background-color: #ffece3\">&nbsplike&nbsp</span><span class=\"barcode\"; style=\"color: black; background-color: #ffece4\">&nbspsorry&nbsp</span><span class=\"barcode\"; style=\"color: black; background-color: #ffede5\">&nbspi'm&nbsp</span><span class=\"barcode\"; style=\"color: black; background-color: #fee8dd\">&nbspinterested&nbsp</span><span class=\"barcode\"; style=\"color: black; background-color: #ffefe8\">&nbspin&nbsp</span><span class=\"barcode\"; style=\"color: black; background-color: #ffefe8\">&nbspyou&nbsp</span><span class=\"barcode\"; style=\"color: black; background-color: #fff0e8\">&nbsp\\?&nbsp</span>"
      ],
      "text/plain": [
       "<IPython.core.display.HTML object>"
      ]
     },
     "metadata": {},
     "output_type": "display_data"
    },
    {
     "name": "stdout",
     "output_type": "stream",
     "text": [
      "(11253) True: 0 Predicted 0, (Score: 0.07201900333166122) \n",
      "\n",
      "====CORRECT====\n"
     ]
    },
    {
     "data": {
      "text/html": [
       "<span class=\"barcode\"; style=\"color: black; background-color: #fff4ef\">&nbspoxford&nbsp</span><span class=\"barcode\"; style=\"color: black; background-color: #fff4ef\">&nbspaccusing&nbsp</span><span class=\"barcode\"; style=\"color: black; background-color: #fff4ef\">&nbspwise&nbsp</span><span class=\"barcode\"; style=\"color: black; background-color: #fff4ee\">&nbspbelief&nbsp</span><span class=\"barcode\"; style=\"color: black; background-color: #fff2ec\">&nbsppissed&nbsp</span><span class=\"barcode\"; style=\"color: black; background-color: #fff2ec\">&nbspi&nbsp</span><span class=\"barcode\"; style=\"color: black; background-color: #fff1ea\">&nbspthink&nbsp</span><span class=\"barcode\"; style=\"color: black; background-color: #fee8de\">&nbspthe&nbsp</span><span class=\"barcode\"; style=\"color: black; background-color: #fb7c5c\">&nbspfat&nbsp</span><span class=\"barcode\"; style=\"color: black; background-color: #fdd1be\">&nbsplady&nbsp</span><span class=\"barcode\"; style=\"color: black; background-color: #fff2ec\">&nbspwas&nbsp</span><span class=\"barcode\"; style=\"color: black; background-color: #ffefe8\">&nbspjust&nbsp</span><span class=\"barcode\"; style=\"color: black; background-color: #fff3ed\">&nbspreally&nbsp</span><span class=\"barcode\"; style=\"color: black; background-color: #fff2ec\">&nbsphungry&nbsp</span><span class=\"barcode\"; style=\"color: black; background-color: #fff2ec\">&nbsphahaha&nbsp</span><span class=\"barcode\"; style=\"color: black; background-color: #fff4ee\">&nbspfiamengo&nbsp</span><span class=\"barcode\"; style=\"color: black; background-color: #fff4ee\">&nbspcourt&nbsp</span><span class=\"barcode\"; style=\"color: black; background-color: #fff4ee\">&nbspstudy&nbsp</span><span class=\"barcode\"; style=\"color: black; background-color: #fff4ee\">&nbspthroughout&nbsp</span><span class=\"barcode\"; style=\"color: black; background-color: #fff4ee\">&nbspentirely&nbsp</span>"
      ],
      "text/plain": [
       "<IPython.core.display.HTML object>"
      ]
     },
     "metadata": {},
     "output_type": "display_data"
    },
    {
     "name": "stdout",
     "output_type": "stream",
     "text": [
      "(10987) True: 1 Predicted 1, (Score: 0.5886693000793457) \n",
      "\n"
     ]
    }
   ],
   "source": [
    "import random\n",
    "good_viz = [1239,833,606,610]\n",
    "for i in random.sample(range(0, len(y_pred)), 10):\n",
    "#for i in good_viz:\n",
    "    correct_pred = (label_list[i][0] == y_pred[i])\n",
    "    if correct_pred:\n",
    "        print(\"====CORRECT====\")\n",
    "    else:\n",
    "        print(\"====INCORRECT====\")\n",
    "        \n",
    "    plot_attention(tok_comm_list[i], alphas[i])\n",
    "    \n",
    "    print(f\"({i}) True: {label_list[i][0]} Predicted {y_pred[i]}, (Score: {predictions[i]})\", \"\\n\")"
   ]
  },
  {
   "cell_type": "code",
   "execution_count": 70,
   "id": "74029796",
   "metadata": {
    "ExecuteTime": {
     "end_time": "2021-12-06T07:43:04.706452Z",
     "start_time": "2021-12-06T07:43:04.691452Z"
    },
    "deletable": false,
    "editable": false,
    "run_control": {
     "frozen": true
    }
   },
   "outputs": [
    {
     "name": "stdout",
     "output_type": "stream",
     "text": [
      "['what', 'a', 'dumb', 'racist', 'slut', 'no', 'wonder', 'she', 'hates', 'men', 'she', 'could', \"n't\", 'get', 'a', 'date', 'to', 'save', 'her', 'fat', 'fucking', 'ass', 'she', 'should', 'hang', 'herself', 'i', 'mean', 'she', 'does', 'hate', 'herself', 'right']\n",
      "[0.00370219 0.02424444 0.10744739 0.10115999 0.10721332 0.01022938\n",
      " 0.0195584  0.03024067 0.08914891 0.0197966  0.01950231 0.00361175\n",
      " 0.00552383 0.00880237 0.00791914 0.00438435 0.00830445 0.03575803\n",
      " 0.04636811 0.10538889 0.08951885 0.10441577 0.0079739  0.00341844\n",
      " 0.00360922 0.00270699 0.00223617 0.00255018 0.0026738  0.00241149\n",
      " 0.00258084 0.00231421 0.00179867]\n"
     ]
    }
   ],
   "source": [
    "\n",
    "   \n",
    "# -*- coding: utf-8 -*-\n",
    "# @Author: Jie Yang\n",
    "# @Date:   2019-03-29 16:10:23\n",
    "# @Last Modified by:   Jie Yang,     Contact: jieynlp@gmail.com\n",
    "# @Last Modified time: 2019-04-12 09:56:12\n",
    "\n",
    "\n",
    "## convert the text/attention list to latex code, which will further generates the text heatmap based on attention weights.\n",
    "import numpy as np\n",
    "\n",
    "latex_special_token = [\"!@#$%^&*()\"]\n",
    "\n",
    "def generate(text_list, attention_list, latex_file, color='red', rescale_value = False):\n",
    "\tassert(len(text_list) == len(attention_list))\n",
    "\tif rescale_value:\n",
    "\t\tattention_list = rescale(attention_list)\n",
    "    \n",
    "\tattention_list = 100*np.asarray(attention_list)\n",
    "\tattention_list = attention_list.tolist()\n",
    "\tword_num = len(text_list)\n",
    "\ttext_list = clean_word(text_list)\n",
    "\twith open(latex_file,'w') as f:\n",
    "\t\tf.write(r'''\\documentclass[varwidth]{standalone}\n",
    "\\special{papersize=210mm,297mm}\n",
    "\\usepackage{color}\n",
    "\\usepackage{tcolorbox}\n",
    "\\usepackage{CJK}\n",
    "\\usepackage{adjustbox}\n",
    "\\tcbset{width=0.9\\textwidth,boxrule=0pt,colback=red,arc=0pt,auto outer arc,left=0pt,right=0pt,boxsep=5pt}\n",
    "\\begin{document}\n",
    "\\begin{CJK*}{UTF8}{gbsn}'''+'\\n')\n",
    "\t\tstring = r'''{\\setlength{\\fboxsep}{0pt}\\colorbox{white!0}{\\parbox{0.9\\textwidth}{'''+\"\\n\"\n",
    "\t\tfor idx in range(word_num):\n",
    "\t\t\tstring += \"\\\\colorbox{%s!%s}{\"%(color, attention_list[idx])+\"\\\\strut \" + text_list[idx]+\"} \"\n",
    "\t\tstring += \"\\n}}}\"\n",
    "\t\tf.write(string+'\\n')\n",
    "\t\tf.write(r'''\\end{CJK*}\n",
    "\\end{document}''')\n",
    "\n",
    "def rescale(input_list):\n",
    "\tthe_array = np.asarray(input_list)\n",
    "\tthe_max = np.max(the_array)\n",
    "\tthe_min = np.min(the_array)\n",
    "\trescale = (the_array - the_min)/(the_max-the_min)*100\n",
    "\treturn rescale.tolist()\n",
    "\n",
    "\n",
    "def clean_word(word_list):\n",
    "\tnew_word_list = []\n",
    "\tfor word in word_list:\n",
    "\t\tfor latex_sensitive in [\"\\\\\", \"%\", \"&\", \"^\", \"#\", \"_\",  \"{\", \"}\"]:\n",
    "\t\t\tif latex_sensitive in word:\n",
    "\t\t\t\tword = word.replace(latex_sensitive, '\\\\'+latex_sensitive)\n",
    "\t\tnew_word_list.append(word)\n",
    "\treturn new_word_list\n",
    "\n",
    "\n",
    "i = 10\n",
    "words = tok_comm_list[i]\n",
    "word_num = len(words)\n",
    "print(tok_comm_list[i])\n",
    "attention = alphas[i][0:word_num]\n",
    "print(attention)\n",
    "color = 'red'\n",
    "generate(words, attention, \"sample.tex\", color)\n"
   ]
  },
  {
   "cell_type": "code",
   "execution_count": null,
   "id": "73ef2ddd",
   "metadata": {},
   "outputs": [],
   "source": []
  },
  {
   "cell_type": "code",
   "execution_count": null,
   "id": "e8eb4035",
   "metadata": {},
   "outputs": [],
   "source": []
  },
  {
   "cell_type": "code",
   "execution_count": null,
   "id": "b5833dba",
   "metadata": {},
   "outputs": [],
   "source": []
  },
  {
   "cell_type": "code",
   "execution_count": 6,
   "id": "917f068c",
   "metadata": {
    "ExecuteTime": {
     "end_time": "2021-12-06T00:48:11.926616Z",
     "start_time": "2021-12-06T00:48:11.917615Z"
    },
    "deletable": false,
    "editable": false,
    "run_control": {
     "frozen": true
    }
   },
   "outputs": [],
   "source": [
    "#tune threshold using train\n",
    "def tuneThreshold(gold_scores, pred_scores):\n",
    "    from  sklearn.metrics import f1_score\n",
    "    best_t = 0.0\n",
    "    best_fscore = 0.0\n",
    "    for t in np.arange(0, 1.1, 0.1):\n",
    "        pred_labels = [int(s > t) for s in pred_scores]\n",
    "        fscore = f1_score(gold_scores, pred_labels)\n",
    "        if (best_fscore < fscore):\n",
    "            best_fscore = fscore\n",
    "            best_t = t\n",
    "    return best_t, best_fscore"
   ]
  },
  {
   "cell_type": "code",
   "execution_count": 7,
   "id": "95c57b17",
   "metadata": {
    "ExecuteTime": {
     "end_time": "2021-12-06T00:49:18.470300Z",
     "start_time": "2021-12-06T00:48:22.670298Z"
    },
    "collapsed": true,
    "deletable": false,
    "editable": false,
    "run_control": {
     "frozen": true
    }
   },
   "outputs": [
    {
     "name": "stdout",
     "output_type": "stream",
     "text": [
      "Running model from model_noatt_checkpoints\n",
      "Using data from dump_2\n",
      "padded sent: (9232, 100)\n",
      "feature shape: (9232, 100)\n",
      "Running model on 9232 train samples\n",
      "WARNING:tensorflow:From C:\\Users\\apra\\Desktop\\FALL 2021\\CY 7990\\toxicity_filter_attacks\\model\\abuse_classifier.py:48: LSTMCell.__init__ (from tensorflow.python.ops.rnn_cell_impl) is deprecated and will be removed in a future version.\n",
      "Instructions for updating:\n",
      "This class is equivalent as tf.keras.layers.LSTMCell, and will be replaced by that in Tensorflow 2.0.\n",
      "WARNING:tensorflow:From C:\\Users\\apra\\Desktop\\FALL 2021\\CY 7990\\toxicity_filter_attacks\\model\\abuse_classifier.py:50: bidirectional_dynamic_rnn (from tensorflow.python.ops.rnn) is deprecated and will be removed in a future version.\n",
      "Instructions for updating:\n",
      "Please use `keras.layers.Bidirectional(keras.layers.RNN(cell))`, which is equivalent to this API\n",
      "WARNING:tensorflow:From C:\\Users\\apra\\Anaconda3\\envs\\toxicity_filter_attacks_tf1\\lib\\site-packages\\tensorflow_core\\python\\ops\\rnn.py:464: dynamic_rnn (from tensorflow.python.ops.rnn) is deprecated and will be removed in a future version.\n",
      "Instructions for updating:\n",
      "Please use `keras.layers.RNN(cell)`, which is equivalent to this API\n",
      "WARNING:tensorflow:From C:\\Users\\apra\\Anaconda3\\envs\\toxicity_filter_attacks_tf1\\lib\\site-packages\\tensorflow_core\\python\\ops\\rnn_cell_impl.py:958: Layer.add_variable (from tensorflow.python.keras.engine.base_layer) is deprecated and will be removed in a future version.\n",
      "Instructions for updating:\n",
      "Please use `layer.add_weight` method instead.\n",
      "WARNING:tensorflow:From C:\\Users\\apra\\Anaconda3\\envs\\toxicity_filter_attacks_tf1\\lib\\site-packages\\tensorflow_core\\python\\ops\\rnn_cell_impl.py:962: calling Zeros.__init__ (from tensorflow.python.ops.init_ops) with dtype is deprecated and will be removed in a future version.\n",
      "Instructions for updating:\n",
      "Call initializer instance with the dtype argument instead of passing it to the constructor\n",
      "WARNING:tensorflow:From C:\\Users\\apra\\Anaconda3\\envs\\toxicity_filter_attacks_tf1\\lib\\site-packages\\tensorflow_core\\python\\ops\\rnn.py:244: where (from tensorflow.python.ops.array_ops) is deprecated and will be removed in a future version.\n",
      "Instructions for updating:\n",
      "Use tf.where in 2.0, which has the same broadcast rule as np.where\n",
      "WARNING:tensorflow:From C:\\Users\\apra\\Desktop\\FALL 2021\\CY 7990\\toxicity_filter_attacks\\model\\abuse_classifier.py:54: calling dropout (from tensorflow.python.ops.nn_ops) with keep_prob is deprecated and will be removed in a future version.\n",
      "Instructions for updating:\n",
      "Please use `rate` instead of `keep_prob`. Rate should be set to `rate = 1 - keep_prob`.\n",
      "WARNING:tensorflow:From C:\\Users\\apra\\Desktop\\FALL 2021\\CY 7990\\toxicity_filter_attacks\\model\\abuse_classifier.py:75: softmax_cross_entropy_with_logits (from tensorflow.python.ops.nn_ops) is deprecated and will be removed in a future version.\n",
      "Instructions for updating:\n",
      "\n",
      "Future major versions of TensorFlow will allow gradients to flow\n",
      "into the labels input on backprop by default.\n",
      "\n",
      "See `tf.nn.softmax_cross_entropy_with_logits_v2`.\n",
      "\n",
      "No supervised attention.\n",
      "WARNING:tensorflow:From <ipython-input-5-bb62f1056d2d>:57: all_variables (from tensorflow.python.ops.variables) is deprecated and will be removed after 2017-03-02.\n",
      "Instructions for updating:\n",
      "Please use tf.global_variables instead.\n",
      "WARNING:tensorflow:From C:\\Users\\apra\\Anaconda3\\envs\\toxicity_filter_attacks_tf1\\lib\\site-packages\\tensorflow_core\\python\\util\\tf_should_use.py:198: initialize_all_variables (from tensorflow.python.ops.variables) is deprecated and will be removed after 2017-03-02.\n",
      "Instructions for updating:\n",
      "Use `tf.global_variables_initializer` instead.\n",
      "INFO:tensorflow:Restoring parameters from C:\\Users\\apra\\Desktop\\FALL 2021\\CY 7990\\toxicity_filter_attacks\\model\\model_noatt_checkpoints\\best_model\n",
      "Done\n",
      "----------------------------------------------------------------------------------------------------\n",
      "Ran model from model_noatt_checkpoints, using data from dump_2\n",
      "Best Threshold on Train:  0.30000000000000004\n",
      "Best F1 Score on Train:  0.6273476112026359\n",
      "Predictions:\n",
      "[[0.56858337, 0.4314167], [0.1877994, 0.81220067], [0.2799944, 0.7200056], [0.22989757, 0.77010244], [0.18653613, 0.81346387], [0.16111541, 0.83888465], [0.412829, 0.5871709], [0.16403957, 0.83596045], [0.24837373, 0.7516263], [0.172915, 0.827085]]\n",
      "Ground Truth:\n",
      "[[1 0]\n",
      " [0 1]\n",
      " [1 0]\n",
      " [1 0]\n",
      " [0 1]\n",
      " [0 1]\n",
      " [0 1]\n",
      " [0 1]\n",
      " [1 0]\n",
      " [0 1]]\n",
      "Classification:\n",
      "[1, 0, 0, 0, 0, 0, 1, 0, 0, 0]\n"
     ]
    }
   ],
   "source": [
    "os.environ['TF_CPP_MIN_LOG_LEVEL'] = '3'\n",
    "model_save_folder_name = MODEL_TYPE\n",
    "print(f\"Running model from {model_save_folder_name}\")\n",
    "\n",
    "model_folder_path = 'model'\n",
    "checkpoint_dir = os.path.abspath(os.path.join(model_folder_path, model_save_folder_name))\n",
    "model_path = os.path.join(checkpoint_dir, \"best_model\")\n",
    "\n",
    "data_path = 'dump_2'\n",
    "print(f\"Using data from {data_path}\")\n",
    "\n",
    "scores, predictions, ground_truth = get_predictions(model_path, data_path, \"train\")\n",
    "\n",
    "print(\"Done\")\n",
    "print(\"-\" * 100)\n",
    "print(f\"Ran model from {model_save_folder_name}, using data from {data_path}\")\n",
    "\n",
    "\n",
    "ground_truth_pos = [gt[0] for gt in ground_truth ]\n",
    "best_t, best_fscore = tuneThreshold(ground_truth_pos, predictions)\n",
    "print(\"Best Threshold on Train: \", best_t)\n",
    "print(\"Best F1 Score on Train: \", best_fscore)\n",
    "\n",
    "print(\"Predictions:\")\n",
    "print(scores[0:10])\n",
    "\n",
    "print(\"Ground Truth:\")\n",
    "print(ground_truth[0:10])\n",
    "\n",
    "print(\"Classification:\")\n",
    "y_pred = list(map(lambda p: 1 if p > best_t else 0, predictions))\n",
    "print(y_pred[0:10])\n"
   ]
  },
  {
   "cell_type": "code",
   "execution_count": 8,
   "id": "aca708ff",
   "metadata": {
    "ExecuteTime": {
     "end_time": "2021-12-06T00:50:00.929666Z",
     "start_time": "2021-12-06T00:50:00.893667Z"
    },
    "deletable": false,
    "editable": false,
    "run_control": {
     "frozen": true
    },
    "scrolled": true
   },
   "outputs": [
    {
     "name": "stdout",
     "output_type": "stream",
     "text": [
      "TRAIN METRICS: \n",
      "\n",
      "roc_auc: 0.8292982557173499\n",
      "pr_auc: 0.6840993120084116\n",
      "fscore: 0.6273476112026359\n"
     ]
    }
   ],
   "source": [
    "from data_utils import eval_helpers\n",
    "from sklearn.metrics import f1_score\n",
    "\n",
    "print(\"TRAIN METRICS: \\n\")\n",
    "# roc auc\n",
    "eval_helpers.evalROC(ground_truth_pos, predictions)\n",
    "# pr auc\n",
    "eval_helpers.evalPR(ground_truth_pos, predictions)\n",
    "\n",
    "fscore = f1_score(ground_truth_pos, y_pred)\n",
    "print(\"fscore: {}\".format(fscore))"
   ]
  },
  {
   "cell_type": "code",
   "execution_count": 111,
   "id": "aed3cadb",
   "metadata": {
    "ExecuteTime": {
     "end_time": "2021-12-06T08:03:59.498373Z",
     "start_time": "2021-12-06T08:03:59.487382Z"
    }
   },
   "outputs": [],
   "source": []
  },
  {
   "cell_type": "code",
   "execution_count": null,
   "id": "e7815ac8",
   "metadata": {},
   "outputs": [],
   "source": []
  }
 ],
 "metadata": {
  "kernelspec": {
   "display_name": "Python 3",
   "language": "python",
   "name": "python3"
  },
  "language_info": {
   "codemirror_mode": {
    "name": "ipython",
    "version": 3
   },
   "file_extension": ".py",
   "mimetype": "text/x-python",
   "name": "python",
   "nbconvert_exporter": "python",
   "pygments_lexer": "ipython3",
   "version": "3.6.13"
  },
  "toc": {
   "base_numbering": 1,
   "nav_menu": {},
   "number_sections": true,
   "sideBar": true,
   "skip_h1_title": false,
   "title_cell": "Table of Contents",
   "title_sidebar": "Contents",
   "toc_cell": false,
   "toc_position": {},
   "toc_section_display": true,
   "toc_window_display": false
  },
  "varInspector": {
   "cols": {
    "lenName": 16,
    "lenType": 16,
    "lenVar": 40
   },
   "kernels_config": {
    "python": {
     "delete_cmd_postfix": "",
     "delete_cmd_prefix": "del ",
     "library": "var_list.py",
     "varRefreshCmd": "print(var_dic_list())"
    },
    "r": {
     "delete_cmd_postfix": ") ",
     "delete_cmd_prefix": "rm(",
     "library": "var_list.r",
     "varRefreshCmd": "cat(var_dic_list()) "
    }
   },
   "types_to_exclude": [
    "module",
    "function",
    "builtin_function_or_method",
    "instance",
    "_Feature"
   ],
   "window_display": false
  }
 },
 "nbformat": 4,
 "nbformat_minor": 5
}
